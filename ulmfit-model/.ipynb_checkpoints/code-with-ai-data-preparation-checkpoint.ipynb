{
 "cells": [
  {
   "cell_type": "code",
   "execution_count": 142,
   "metadata": {},
   "outputs": [],
   "source": [
    "import pickle\n",
    "import numpy as np\n",
    "import pandas as pd"
   ]
  },
  {
   "cell_type": "code",
   "execution_count": 143,
   "metadata": {},
   "outputs": [],
   "source": [
    "with open('competitivescripts/codechefProblemStatements.pkl', 'rb') as f:\n",
    "    codechefProblemStatements = pickle.load(f)"
   ]
  },
  {
   "cell_type": "code",
   "execution_count": 144,
   "metadata": {},
   "outputs": [
    {
     "data": {
      "text/plain": [
       "dict_keys(['easy', 'medium', 'dp', 'cakewalk', 'hard', 'easy-medium', 'simple', 'medium-hard', 'adhoc', 'greedy', 'segment-tree', 'maths', 'sorting', 'binary-search', 'graph', 'combinatorics', 'implementation', 'challenge', 'geometry', 'tree', 'dfs', 'number-theory', 'string', 'array', 'data-structure', 'hashing', 'bfs', 'bit', 'sqrt-decomposition', 'probability', 'game-theory', 'gcd', 'matrix-expo', 'fft', 'lca', 'sieve', 'dp+bitmask', 'modulo', 'observation', 'prefix-sum', 'fenwick', 'divide-and-conquer', 'xor', 'maxflow', 'union-find', 'suffix-array', 'dijkstra', 'sets', 'heavy-light', 'bipartite', 'trie', 'two-pointers', 'recursion', 'tree-dp', 'stack', 'precomputation', 'kmp', 'convex-hull', 'backtracking', 'line-sweep', 'factorization', 'centroid-decomposition', 'prime', 'knapsack', 'inclusion-exclusion', 'gaussian-elimination', 'fibonacci', 'treap', 'mst', 'mo algorithm', 'meet in the middle', 'sprague-grundy', 'euler tour', 'pigeonhole', 'mobius-function', 'link-cut-tree', 'lazy propagation', 'heaps', 'digit dp', 'suffix-trees', 'sliding-window', 'queue', 'lucas theorem'])"
      ]
     },
     "execution_count": 144,
     "metadata": {},
     "output_type": "execute_result"
    }
   ],
   "source": [
    "codechefProblemStatements.keys()"
   ]
  },
  {
   "cell_type": "code",
   "execution_count": 145,
   "metadata": {},
   "outputs": [],
   "source": [
    "with open('competitivescripts/codechefDone.pkl', 'rb') as f:\n",
    "    codechefDone = pickle.load(f)"
   ]
  },
  {
   "cell_type": "code",
   "execution_count": 146,
   "metadata": {},
   "outputs": [
    {
     "data": {
      "text/plain": [
       "340"
      ]
     },
     "execution_count": 146,
     "metadata": {},
     "output_type": "execute_result"
    }
   ],
   "source": [
    "len(codechefProblemStatements['dp'])"
   ]
  },
  {
   "cell_type": "code",
   "execution_count": 147,
   "metadata": {},
   "outputs": [],
   "source": [
    "all_problems = []\n",
    "for key,value in codechefProblemStatements.items():\n",
    "    all_problems.extend(value)"
   ]
  },
  {
   "cell_type": "code",
   "execution_count": 148,
   "metadata": {},
   "outputs": [],
   "source": [
    "all_problems = list(set(all_problems))"
   ]
  },
  {
   "cell_type": "code",
   "execution_count": 149,
   "metadata": {},
   "outputs": [
    {
     "data": {
      "text/plain": [
       "2729"
      ]
     },
     "execution_count": 149,
     "metadata": {},
     "output_type": "execute_result"
    }
   ],
   "source": [
    "len(all_problems)"
   ]
  },
  {
   "cell_type": "code",
   "execution_count": 150,
   "metadata": {},
   "outputs": [],
   "source": [
    "all_problems_tags = []\n",
    "for problem in all_problems:\n",
    "    ptags = []\n",
    "    for key,value in codechefProblemStatements.items():\n",
    "        if problem in value:\n",
    "            ptags.append(key)\n",
    "    all_problems_tags.append(ptags)"
   ]
  },
  {
   "cell_type": "code",
   "execution_count": 151,
   "metadata": {},
   "outputs": [
    {
     "data": {
      "text/plain": [
       "(['challenge', 'bit', 'gaussian-elimination'],\n",
       " \"\\nChef has a set of very large set of very important data he doesn't want to lose. Chef has a number of servers on which he stores the data. To store the data, Chef begins by splitting his data into chunks. Then he assigns a set of chunks to each server. For the sake of redundancy, the same chunk may be assigned to multiple servers. If multiple chunks are assigned to the same server, there will not be enough space to store all of the chunks individually, so instead the chunks are combined together. When multiple chunks are combined together it is no longer possible to retrieve the data from the original chunks. However, by combining data from multiple servers it may be possible to retrieve the original data.\\nDenote \\nA ⊕ B\\n as the result of combining chunks \\nA\\n and \\nB\\n. The following properties hold:\\nA ⊕ B = B ⊕ A\\n(A ⊕ B) ⊕ C = A ⊕ (B ⊕ C)\\n(A ⊕ A) ⊕ B = B\\nNote that the first two properties imply that when combining more than two chunks, the order in which they are combined does not matter.\\nLet's consider an example (this example will coincide with the sample input below). There are \\n4\\n chunks of data, and \\n6\\n servers. Denote \\nC\\ni\\n (0 ≤ i < 4)\\n as the original chunks of data, and \\nS\\nj\\n (0 ≤ j < 6)\\n as the data stored on the servers. Chef combines chunks as follows:\\nS\\n0\\n = C\\n2\\nS\\n1\\n = C\\n0\\n ⊕ C\\n3\\nS\\n2\\n = C\\n0\\n ⊕ C\\n2\\nS\\n3\\n = C\\n1\\n ⊕ C\\n3\\nS\\n4\\n = C\\n0\\n ⊕ C\\n1\\n ⊕ C\\n2\\nS\\n5\\n = C\\n0\\n ⊕ C\\n1\\nOne way Chef may recover the original data is as follows:\\nC\\n0\\n = S\\n0\\n ⊕ S\\n2\\nC\\n1\\n = S\\n2\\n ⊕ S\\n4\\nC\\n2\\n = S\\n0\\nC\\n3\\n = S\\n2\\n ⊕ S\\n3\\n ⊕ S\\n4\\nChef is now interested in how safe his data is. If the data from some servers is lost it may be impossible to recover the original data. Chef would like you to find a set of servers such that simultaneous failure would make some part of his data irrecoverable. Chef prefers that you find a small set of servers, but does not require minimality. Smaller sets will score more points.\\nInput\\nEach test file contains only one test case.\\nThe first line of input contains \\n2\\n space-separated integers \\nN\\n and \\nS\\n, denoting the number of chunks and number of servers, respectively. Then \\nS\\n lines follow, each with a description of the chunks stored on one server. A server description consists of an integer \\nC\\n denoting the number of chunks assigned to this server, followed by \\nC\\n integers denoting the ids of the chunks assigned to this server. Chunks are numbered from \\n0\\n to \\nN−1\\n and servers numbered \\n0\\n to \\nS−1\\n.\\nOutput\\nFirst output an integer \\nK\\n, the number of failing servers in your solution. Then output the distinct ids of the failing servers.\\nConstraints\\n50 ≤ N ≤ 200\\n2*N ≤ S ≤ 1000\\n1 ≤ C ≤ N\\nEach server stores distinct chunks.\\nChef can recover the original data if no servers are lost.\\nAll official test files are generated by the method written in Test Case Generation.\\nNote that the following Sample Input does not satisfy the constraints.\\nScoring\\nYour score for each test file is \\n10*K/(S−N+1)\\n. The total score is the average of scores over all test files. The goal is to minimize your score.\\nExample\\nInput:\\n4 6\\n1 2\\n2 0 3\\n2 0 2\\n2 1 3\\n3 0 1 2\\n2 0 1\\nOutput:\\n1\\n2\\nExplanation\\nThis sample output would score \\n10*1/(6−4+1) = 3.333...\\n. If server \\n2\\n is lost, there is no way to recover data chunks \\n0\\n, \\n1\\n, or \\n3\\n.\\nTest Case Generation\\nThe judge has \\n40\\n official test files.\\nAn integer \\nN\\n is chosen randomly and uniformly between \\n50\\n and \\n200\\n, inclusive. Then an integer \\nS\\n is chosen randomly and uniformly between \\n2*N\\n and \\n1000\\n, inclusive. A real number \\nP\\n is chosen randomly and uniformly between \\n0.3\\n and \\n0.8\\n, inclusive, and each chunk is assigned to each server with probability \\nP\\n. The order of the chunks assigned to each server is shuffled.\\nIf a generated test does not satisfy the constraints, then the test is discarded.\\nAuthor:\\n6★\\npieguy\\nTester:\\n6★\\nlaycurse\\nEditorial:\\nhttp://discuss.codechef.com/problems/FAULT\\n, \\n, \\n, \\n, \\nDate Added:\\n7-02-2013\\nTime Limit:\\n1 secs\\nSource Limit:\\n50000 Bytes\\nLanguages:\\nC, CPP14, JAVA, PYTH, PYTH 3.6, CS2, PAS fpc, PAS gpc, RUBY, PHP, GO, NODEJS, HASK, SCALA, D, PERL, FORT, WSPC, ADA, CAML, ICK, BF, ASM, CLPS, PRLG, ICON, SCM qobi, PIKE, ST, NICE, LUA, BASH, NEM, LISP sbcl, LISP clisp, SCM guile, JS, ERL, TCL, PERL6, TEXT, PYP3, CLOJ, FS\")"
      ]
     },
     "execution_count": 151,
     "metadata": {},
     "output_type": "execute_result"
    }
   ],
   "source": [
    "all_problems_tags[500], all_problems[500]"
   ]
  },
  {
   "cell_type": "code",
   "execution_count": 152,
   "metadata": {},
   "outputs": [
    {
     "data": {
      "text/plain": [
       "(2729, 2729)"
      ]
     },
     "execution_count": 152,
     "metadata": {},
     "output_type": "execute_result"
    }
   ],
   "source": [
    "len(all_problems_tags), len(all_problems)"
   ]
  },
  {
   "cell_type": "code",
   "execution_count": 156,
   "metadata": {},
   "outputs": [
    {
     "data": {
      "text/plain": [
       "['cakewalk', 'modulo', 'stack', 'queue']"
      ]
     },
     "execution_count": 156,
     "metadata": {},
     "output_type": "execute_result"
    }
   ],
   "source": [
    "all_problems_tags[0]"
   ]
  },
  {
   "cell_type": "code",
   "execution_count": 153,
   "metadata": {},
   "outputs": [
    {
     "data": {
      "text/plain": [
       "False"
      ]
     },
     "execution_count": 153,
     "metadata": {},
     "output_type": "execute_result"
    }
   ],
   "source": [
    "'' in all_problems"
   ]
  },
  {
   "cell_type": "code",
   "execution_count": 157,
   "metadata": {},
   "outputs": [],
   "source": [
    "# Common logic for codechef and codeforces\n",
    "problemTags = all_problems_tags\n",
    "problemStatements = all_problems"
   ]
  },
  {
   "cell_type": "code",
   "execution_count": 85,
   "metadata": {},
   "outputs": [],
   "source": [
    "all_classes = []\n",
    "for tags in problemTags:\n",
    "  all_classes.extend(tags)"
   ]
  },
  {
   "cell_type": "code",
   "execution_count": 86,
   "metadata": {},
   "outputs": [],
   "source": [
    "import collections\n",
    "counter=collections.Counter(all_classes)"
   ]
  },
  {
   "cell_type": "code",
   "execution_count": 87,
   "metadata": {},
   "outputs": [
    {
     "data": {
      "text/plain": [
       "Counter({'adhoc': 268,\n",
       "         'array': 39,\n",
       "         'backtracking': 12,\n",
       "         'bfs': 33,\n",
       "         'binary-search': 102,\n",
       "         'bipartite': 14,\n",
       "         'bit': 76,\n",
       "         'cakewalk': 279,\n",
       "         'centroid-decomposition': 10,\n",
       "         'challenge': 78,\n",
       "         'combinatorics': 105,\n",
       "         'convex-hull': 11,\n",
       "         'data-structure': 38,\n",
       "         'dfs': 62,\n",
       "         'digit dp': 5,\n",
       "         'dijkstra': 25,\n",
       "         'divide-and-conquer': 18,\n",
       "         'dp': 331,\n",
       "         'dp+bitmask': 20,\n",
       "         'easy': 561,\n",
       "         'easy-medium': 235,\n",
       "         'euler tour': 6,\n",
       "         'factorization': 16,\n",
       "         'fenwick': 25,\n",
       "         'fft': 27,\n",
       "         'fibonacci': 9,\n",
       "         'game-theory': 41,\n",
       "         'gaussian-elimination': 9,\n",
       "         'gcd': 28,\n",
       "         'geometry': 68,\n",
       "         'graph': 121,\n",
       "         'greedy': 134,\n",
       "         'hard': 263,\n",
       "         'hashing': 35,\n",
       "         'heaps': 10,\n",
       "         'heavy-light': 15,\n",
       "         'implementation': 83,\n",
       "         'inclusion-exclusion': 10,\n",
       "         'kmp': 11,\n",
       "         'knapsack': 9,\n",
       "         'lazy propagation': 7,\n",
       "         'lca': 24,\n",
       "         'line-sweep': 11,\n",
       "         'link-cut-tree': 5,\n",
       "         'lucas theorem': 4,\n",
       "         'maths': 282,\n",
       "         'matrix-expo': 36,\n",
       "         'maxflow': 30,\n",
       "         'medium': 444,\n",
       "         'medium-hard': 194,\n",
       "         'meet in the middle': 8,\n",
       "         'mo algorithm': 8,\n",
       "         'mobius-function': 5,\n",
       "         'modulo': 18,\n",
       "         'mst': 8,\n",
       "         'number-theory': 56,\n",
       "         'observation': 20,\n",
       "         'pigeonhole': 5,\n",
       "         'precomputation': 11,\n",
       "         'prefix-sum': 17,\n",
       "         'prime': 13,\n",
       "         'probability': 44,\n",
       "         'queue': 4,\n",
       "         'recursion': 12,\n",
       "         'segment-tree': 112,\n",
       "         'sets': 14,\n",
       "         'sieve': 23,\n",
       "         'simple': 212,\n",
       "         'sliding-window': 4,\n",
       "         'sorting': 95,\n",
       "         'sprague-grundy': 7,\n",
       "         'sqrt-decomposition': 36,\n",
       "         'stack': 11,\n",
       "         'string': 86,\n",
       "         'suffix-array': 14,\n",
       "         'suffix-trees': 4,\n",
       "         'treap': 8,\n",
       "         'tree': 63,\n",
       "         'tree-dp': 11,\n",
       "         'trie': 17,\n",
       "         'two-pointers': 12,\n",
       "         'union-find': 28,\n",
       "         'xor': 16})"
      ]
     },
     "execution_count": 87,
     "metadata": {},
     "output_type": "execute_result"
    }
   ],
   "source": [
    "counter"
   ]
  },
  {
   "cell_type": "code",
   "execution_count": 31,
   "metadata": {},
   "outputs": [
    {
     "data": {
      "text/plain": [
       "dict_keys(['knapsack', 'game-theory', 'sets', 'mo algorithm', 'sqrt-decomposition', 'heavy-light', 'mobius-function', 'queue', 'sieve', 'divide-and-conquer', 'dijkstra', 'union-find', 'greedy', 'data-structure', 'suffix-array', 'line-sweep', 'digit dp', 'tree-dp', 'bit', 'modulo', 'lca', 'gcd', 'easy-medium', 'hard', 'array', 'combinatorics', 'precomputation', 'backtracking', 'sprague-grundy', 'number-theory', 'treap', 'maxflow', 'sliding-window', 'inclusion-exclusion', 'simple', 'trie', 'dp', 'fenwick', 'centroid-decomposition', 'observation', 'link-cut-tree', 'meet in the middle', 'mst', 'string', 'pigeonhole', 'medium', 'xor', 'fibonacci', 'gaussian-elimination', 'prime', 'convex-hull', 'sorting', 'adhoc', 'easy', 'euler tour', 'challenge', 'recursion', 'binary-search', 'lucas theorem', 'suffix-trees', 'geometry', 'kmp', 'lazy propagation', 'graph', 'implementation', 'matrix-expo', 'tree', 'stack', 'two-pointers', 'factorization', 'medium-hard', 'prefix-sum', 'dfs', 'cakewalk', 'fft', 'segment-tree', 'dp+bitmask', 'hashing', 'bfs', 'probability', 'maths', 'bipartite', 'heaps'])"
      ]
     },
     "execution_count": 31,
     "metadata": {},
     "output_type": "execute_result"
    }
   ],
   "source": [
    "counter.keys()"
   ]
  },
  {
   "cell_type": "code",
   "execution_count": 32,
   "metadata": {},
   "outputs": [],
   "source": [
    "id_to_class = list(counter.keys())"
   ]
  },
  {
   "cell_type": "code",
   "execution_count": 33,
   "metadata": {},
   "outputs": [],
   "source": [
    "class_to_id = {}\n",
    "for i, c in enumerate(id_to_class):\n",
    "  class_to_id[c] = i"
   ]
  },
  {
   "cell_type": "code",
   "execution_count": 34,
   "metadata": {},
   "outputs": [
    {
     "data": {
      "text/plain": [
       "'dp'"
      ]
     },
     "execution_count": 34,
     "metadata": {},
     "output_type": "execute_result"
    }
   ],
   "source": [
    "id_to_class[class_to_id['dp']]"
   ]
  },
  {
   "cell_type": "code",
   "execution_count": 35,
   "metadata": {},
   "outputs": [],
   "source": [
    "nb_classes = len(id_to_class)"
   ]
  },
  {
   "cell_type": "code",
   "execution_count": 36,
   "metadata": {},
   "outputs": [
    {
     "data": {
      "text/plain": [
       "83"
      ]
     },
     "execution_count": 36,
     "metadata": {},
     "output_type": "execute_result"
    }
   ],
   "source": [
    "nb_classes"
   ]
  },
  {
   "cell_type": "code",
   "execution_count": 53,
   "metadata": {},
   "outputs": [],
   "source": [
    "problemTagsInId = []\n",
    "for tags in problemTags:\n",
    "  pTags = []\n",
    "  for tag in tags:\n",
    "    pTags.append(class_to_id[tag])\n",
    "  problemTagsInId.append(pTags)"
   ]
  },
  {
   "cell_type": "code",
   "execution_count": 55,
   "metadata": {},
   "outputs": [
    {
     "data": {
      "text/plain": [
       "([73, 19, 67, 7], ['cakewalk', 'modulo', 'stack', 'queue'])"
      ]
     },
     "execution_count": 55,
     "metadata": {},
     "output_type": "execute_result"
    }
   ],
   "source": [
    "problemTagsInId[0], problemTags[0]"
   ]
  },
  {
   "cell_type": "code",
   "execution_count": 58,
   "metadata": {},
   "outputs": [],
   "source": [
    "one_hot_problem_tags = np.zeros((len(problemTags), nb_classes))"
   ]
  },
  {
   "cell_type": "code",
   "execution_count": 59,
   "metadata": {},
   "outputs": [
    {
     "data": {
      "text/plain": [
       "(2729, 83)"
      ]
     },
     "execution_count": 59,
     "metadata": {},
     "output_type": "execute_result"
    }
   ],
   "source": [
    "one_hot_problem_tags.shape"
   ]
  },
  {
   "cell_type": "code",
   "execution_count": 60,
   "metadata": {},
   "outputs": [],
   "source": [
    "for i,tags in enumerate(problemTagsInId):\n",
    "  one_hot_problem_tags[i] = np.eye(nb_classes)[tags].sum(axis=0)"
   ]
  },
  {
   "cell_type": "code",
   "execution_count": 61,
   "metadata": {},
   "outputs": [
    {
     "data": {
      "text/plain": [
       "(array([0., 0., 0., 0., 0., 0., 0., 0., 0., 0., 0., 0., 0., 0., 0., 0., 0.,\n",
       "        0., 0., 0., 0., 0., 0., 1., 0., 0., 0., 0., 0., 0., 0., 0., 0., 0.,\n",
       "        0., 0., 0., 0., 1., 0., 0., 0., 0., 0., 0., 0., 0., 0., 0., 0., 0.,\n",
       "        0., 0., 0., 0., 0., 0., 0., 0., 0., 0., 0., 0., 0., 0., 0., 0., 0.,\n",
       "        0., 0., 0., 0., 0., 0., 1., 0., 0., 0., 0., 1., 0., 0., 0.]),\n",
       " [23, 79, 74, 38])"
      ]
     },
     "execution_count": 61,
     "metadata": {},
     "output_type": "execute_result"
    }
   ],
   "source": [
    "one_hot_problem_tags[7] , problemTagsInId[7]"
   ]
  },
  {
   "cell_type": "code",
   "execution_count": 70,
   "metadata": {},
   "outputs": [],
   "source": [
    "d = {'text': problemStatements}"
   ]
  },
  {
   "cell_type": "code",
   "execution_count": 71,
   "metadata": {},
   "outputs": [],
   "source": [
    "df_text = pd.DataFrame(d)"
   ]
  },
  {
   "cell_type": "code",
   "execution_count": 72,
   "metadata": {},
   "outputs": [
    {
     "data": {
      "text/html": [
       "<div>\n",
       "<style scoped>\n",
       "    .dataframe tbody tr th:only-of-type {\n",
       "        vertical-align: middle;\n",
       "    }\n",
       "\n",
       "    .dataframe tbody tr th {\n",
       "        vertical-align: top;\n",
       "    }\n",
       "\n",
       "    .dataframe thead th {\n",
       "        text-align: right;\n",
       "    }\n",
       "</style>\n",
       "<table border=\"1\" class=\"dataframe\">\n",
       "  <thead>\n",
       "    <tr style=\"text-align: right;\">\n",
       "      <th></th>\n",
       "      <th>text</th>\n",
       "    </tr>\n",
       "  </thead>\n",
       "  <tbody>\n",
       "    <tr>\n",
       "      <th>0</th>\n",
       "      <td>\\n Read problems statements in Russian \\nhere\\...</td>\n",
       "    </tr>\n",
       "    <tr>\n",
       "      <th>1</th>\n",
       "      <td>\\nYou are given a sequence of N integers, a[1]...</td>\n",
       "    </tr>\n",
       "    <tr>\n",
       "      <th>2</th>\n",
       "      <td>\\nChef has a string \\nS\\n. Initially, this str...</td>\n",
       "    </tr>\n",
       "    <tr>\n",
       "      <th>3</th>\n",
       "      <td>\\nIn the secret vault, Eon gets information ab...</td>\n",
       "    </tr>\n",
       "    <tr>\n",
       "      <th>4</th>\n",
       "      <td>\\n Read problems statements in \\nMandarin Chin...</td>\n",
       "    </tr>\n",
       "  </tbody>\n",
       "</table>\n",
       "</div>"
      ],
      "text/plain": [
       "                                                text\n",
       "0  \\n Read problems statements in Russian \\nhere\\...\n",
       "1  \\nYou are given a sequence of N integers, a[1]...\n",
       "2  \\nChef has a string \\nS\\n. Initially, this str...\n",
       "3  \\nIn the secret vault, Eon gets information ab...\n",
       "4  \\n Read problems statements in \\nMandarin Chin..."
      ]
     },
     "execution_count": 72,
     "metadata": {},
     "output_type": "execute_result"
    }
   ],
   "source": [
    "df_text.head()"
   ]
  },
  {
   "cell_type": "code",
   "execution_count": 75,
   "metadata": {},
   "outputs": [
    {
     "data": {
      "text/plain": [
       "(2729, 1)"
      ]
     },
     "execution_count": 75,
     "metadata": {},
     "output_type": "execute_result"
    }
   ],
   "source": [
    "df_text.shape"
   ]
  },
  {
   "cell_type": "code",
   "execution_count": 73,
   "metadata": {},
   "outputs": [],
   "source": [
    "df_labels = pd.DataFrame(one_hot_problem_tags)"
   ]
  },
  {
   "cell_type": "code",
   "execution_count": 74,
   "metadata": {},
   "outputs": [
    {
     "data": {
      "text/html": [
       "<div>\n",
       "<style scoped>\n",
       "    .dataframe tbody tr th:only-of-type {\n",
       "        vertical-align: middle;\n",
       "    }\n",
       "\n",
       "    .dataframe tbody tr th {\n",
       "        vertical-align: top;\n",
       "    }\n",
       "\n",
       "    .dataframe thead th {\n",
       "        text-align: right;\n",
       "    }\n",
       "</style>\n",
       "<table border=\"1\" class=\"dataframe\">\n",
       "  <thead>\n",
       "    <tr style=\"text-align: right;\">\n",
       "      <th></th>\n",
       "      <th>0</th>\n",
       "      <th>1</th>\n",
       "      <th>2</th>\n",
       "      <th>3</th>\n",
       "      <th>4</th>\n",
       "      <th>5</th>\n",
       "      <th>6</th>\n",
       "      <th>7</th>\n",
       "      <th>8</th>\n",
       "      <th>9</th>\n",
       "      <th>...</th>\n",
       "      <th>73</th>\n",
       "      <th>74</th>\n",
       "      <th>75</th>\n",
       "      <th>76</th>\n",
       "      <th>77</th>\n",
       "      <th>78</th>\n",
       "      <th>79</th>\n",
       "      <th>80</th>\n",
       "      <th>81</th>\n",
       "      <th>82</th>\n",
       "    </tr>\n",
       "  </thead>\n",
       "  <tbody>\n",
       "    <tr>\n",
       "      <th>0</th>\n",
       "      <td>0.0</td>\n",
       "      <td>0.0</td>\n",
       "      <td>0.0</td>\n",
       "      <td>0.0</td>\n",
       "      <td>0.0</td>\n",
       "      <td>0.0</td>\n",
       "      <td>0.0</td>\n",
       "      <td>1.0</td>\n",
       "      <td>0.0</td>\n",
       "      <td>0.0</td>\n",
       "      <td>...</td>\n",
       "      <td>1.0</td>\n",
       "      <td>0.0</td>\n",
       "      <td>0.0</td>\n",
       "      <td>0.0</td>\n",
       "      <td>0.0</td>\n",
       "      <td>0.0</td>\n",
       "      <td>0.0</td>\n",
       "      <td>0.0</td>\n",
       "      <td>0.0</td>\n",
       "      <td>0.0</td>\n",
       "    </tr>\n",
       "    <tr>\n",
       "      <th>1</th>\n",
       "      <td>0.0</td>\n",
       "      <td>0.0</td>\n",
       "      <td>0.0</td>\n",
       "      <td>0.0</td>\n",
       "      <td>0.0</td>\n",
       "      <td>0.0</td>\n",
       "      <td>0.0</td>\n",
       "      <td>0.0</td>\n",
       "      <td>0.0</td>\n",
       "      <td>0.0</td>\n",
       "      <td>...</td>\n",
       "      <td>1.0</td>\n",
       "      <td>0.0</td>\n",
       "      <td>0.0</td>\n",
       "      <td>0.0</td>\n",
       "      <td>0.0</td>\n",
       "      <td>0.0</td>\n",
       "      <td>0.0</td>\n",
       "      <td>0.0</td>\n",
       "      <td>0.0</td>\n",
       "      <td>0.0</td>\n",
       "    </tr>\n",
       "    <tr>\n",
       "      <th>2</th>\n",
       "      <td>0.0</td>\n",
       "      <td>0.0</td>\n",
       "      <td>0.0</td>\n",
       "      <td>0.0</td>\n",
       "      <td>0.0</td>\n",
       "      <td>0.0</td>\n",
       "      <td>0.0</td>\n",
       "      <td>0.0</td>\n",
       "      <td>0.0</td>\n",
       "      <td>0.0</td>\n",
       "      <td>...</td>\n",
       "      <td>0.0</td>\n",
       "      <td>0.0</td>\n",
       "      <td>0.0</td>\n",
       "      <td>0.0</td>\n",
       "      <td>0.0</td>\n",
       "      <td>0.0</td>\n",
       "      <td>0.0</td>\n",
       "      <td>0.0</td>\n",
       "      <td>0.0</td>\n",
       "      <td>0.0</td>\n",
       "    </tr>\n",
       "    <tr>\n",
       "      <th>3</th>\n",
       "      <td>0.0</td>\n",
       "      <td>0.0</td>\n",
       "      <td>0.0</td>\n",
       "      <td>0.0</td>\n",
       "      <td>0.0</td>\n",
       "      <td>0.0</td>\n",
       "      <td>0.0</td>\n",
       "      <td>0.0</td>\n",
       "      <td>0.0</td>\n",
       "      <td>0.0</td>\n",
       "      <td>...</td>\n",
       "      <td>0.0</td>\n",
       "      <td>0.0</td>\n",
       "      <td>0.0</td>\n",
       "      <td>0.0</td>\n",
       "      <td>0.0</td>\n",
       "      <td>1.0</td>\n",
       "      <td>0.0</td>\n",
       "      <td>0.0</td>\n",
       "      <td>0.0</td>\n",
       "      <td>0.0</td>\n",
       "    </tr>\n",
       "    <tr>\n",
       "      <th>4</th>\n",
       "      <td>0.0</td>\n",
       "      <td>0.0</td>\n",
       "      <td>0.0</td>\n",
       "      <td>0.0</td>\n",
       "      <td>0.0</td>\n",
       "      <td>0.0</td>\n",
       "      <td>0.0</td>\n",
       "      <td>0.0</td>\n",
       "      <td>0.0</td>\n",
       "      <td>0.0</td>\n",
       "      <td>...</td>\n",
       "      <td>0.0</td>\n",
       "      <td>0.0</td>\n",
       "      <td>0.0</td>\n",
       "      <td>0.0</td>\n",
       "      <td>0.0</td>\n",
       "      <td>0.0</td>\n",
       "      <td>0.0</td>\n",
       "      <td>0.0</td>\n",
       "      <td>0.0</td>\n",
       "      <td>0.0</td>\n",
       "    </tr>\n",
       "  </tbody>\n",
       "</table>\n",
       "<p>5 rows × 83 columns</p>\n",
       "</div>"
      ],
      "text/plain": [
       "    0    1    2    3    4    5    6    7    8    9  ...    73   74   75   76  \\\n",
       "0  0.0  0.0  0.0  0.0  0.0  0.0  0.0  1.0  0.0  0.0 ...   1.0  0.0  0.0  0.0   \n",
       "1  0.0  0.0  0.0  0.0  0.0  0.0  0.0  0.0  0.0  0.0 ...   1.0  0.0  0.0  0.0   \n",
       "2  0.0  0.0  0.0  0.0  0.0  0.0  0.0  0.0  0.0  0.0 ...   0.0  0.0  0.0  0.0   \n",
       "3  0.0  0.0  0.0  0.0  0.0  0.0  0.0  0.0  0.0  0.0 ...   0.0  0.0  0.0  0.0   \n",
       "4  0.0  0.0  0.0  0.0  0.0  0.0  0.0  0.0  0.0  0.0 ...   0.0  0.0  0.0  0.0   \n",
       "\n",
       "    77   78   79   80   81   82  \n",
       "0  0.0  0.0  0.0  0.0  0.0  0.0  \n",
       "1  0.0  0.0  0.0  0.0  0.0  0.0  \n",
       "2  0.0  0.0  0.0  0.0  0.0  0.0  \n",
       "3  0.0  1.0  0.0  0.0  0.0  0.0  \n",
       "4  0.0  0.0  0.0  0.0  0.0  0.0  \n",
       "\n",
       "[5 rows x 83 columns]"
      ]
     },
     "execution_count": 74,
     "metadata": {},
     "output_type": "execute_result"
    }
   ],
   "source": [
    "df_labels.head()"
   ]
  },
  {
   "cell_type": "code",
   "execution_count": 76,
   "metadata": {},
   "outputs": [
    {
     "data": {
      "text/plain": [
       "(2729, 83)"
      ]
     },
     "execution_count": 76,
     "metadata": {},
     "output_type": "execute_result"
    }
   ],
   "source": [
    "df_labels.shape"
   ]
  },
  {
   "cell_type": "code",
   "execution_count": 77,
   "metadata": {},
   "outputs": [],
   "source": [
    "df_labels.columns = id_to_class"
   ]
  },
  {
   "cell_type": "code",
   "execution_count": 78,
   "metadata": {},
   "outputs": [
    {
     "data": {
      "text/html": [
       "<div>\n",
       "<style scoped>\n",
       "    .dataframe tbody tr th:only-of-type {\n",
       "        vertical-align: middle;\n",
       "    }\n",
       "\n",
       "    .dataframe tbody tr th {\n",
       "        vertical-align: top;\n",
       "    }\n",
       "\n",
       "    .dataframe thead th {\n",
       "        text-align: right;\n",
       "    }\n",
       "</style>\n",
       "<table border=\"1\" class=\"dataframe\">\n",
       "  <thead>\n",
       "    <tr style=\"text-align: right;\">\n",
       "      <th></th>\n",
       "      <th>knapsack</th>\n",
       "      <th>game-theory</th>\n",
       "      <th>sets</th>\n",
       "      <th>mo algorithm</th>\n",
       "      <th>sqrt-decomposition</th>\n",
       "      <th>heavy-light</th>\n",
       "      <th>mobius-function</th>\n",
       "      <th>queue</th>\n",
       "      <th>sieve</th>\n",
       "      <th>divide-and-conquer</th>\n",
       "      <th>...</th>\n",
       "      <th>cakewalk</th>\n",
       "      <th>fft</th>\n",
       "      <th>segment-tree</th>\n",
       "      <th>dp+bitmask</th>\n",
       "      <th>hashing</th>\n",
       "      <th>bfs</th>\n",
       "      <th>probability</th>\n",
       "      <th>maths</th>\n",
       "      <th>bipartite</th>\n",
       "      <th>heaps</th>\n",
       "    </tr>\n",
       "  </thead>\n",
       "  <tbody>\n",
       "    <tr>\n",
       "      <th>0</th>\n",
       "      <td>0.0</td>\n",
       "      <td>0.0</td>\n",
       "      <td>0.0</td>\n",
       "      <td>0.0</td>\n",
       "      <td>0.0</td>\n",
       "      <td>0.0</td>\n",
       "      <td>0.0</td>\n",
       "      <td>1.0</td>\n",
       "      <td>0.0</td>\n",
       "      <td>0.0</td>\n",
       "      <td>...</td>\n",
       "      <td>1.0</td>\n",
       "      <td>0.0</td>\n",
       "      <td>0.0</td>\n",
       "      <td>0.0</td>\n",
       "      <td>0.0</td>\n",
       "      <td>0.0</td>\n",
       "      <td>0.0</td>\n",
       "      <td>0.0</td>\n",
       "      <td>0.0</td>\n",
       "      <td>0.0</td>\n",
       "    </tr>\n",
       "    <tr>\n",
       "      <th>1</th>\n",
       "      <td>0.0</td>\n",
       "      <td>0.0</td>\n",
       "      <td>0.0</td>\n",
       "      <td>0.0</td>\n",
       "      <td>0.0</td>\n",
       "      <td>0.0</td>\n",
       "      <td>0.0</td>\n",
       "      <td>0.0</td>\n",
       "      <td>0.0</td>\n",
       "      <td>0.0</td>\n",
       "      <td>...</td>\n",
       "      <td>1.0</td>\n",
       "      <td>0.0</td>\n",
       "      <td>0.0</td>\n",
       "      <td>0.0</td>\n",
       "      <td>0.0</td>\n",
       "      <td>0.0</td>\n",
       "      <td>0.0</td>\n",
       "      <td>0.0</td>\n",
       "      <td>0.0</td>\n",
       "      <td>0.0</td>\n",
       "    </tr>\n",
       "    <tr>\n",
       "      <th>2</th>\n",
       "      <td>0.0</td>\n",
       "      <td>0.0</td>\n",
       "      <td>0.0</td>\n",
       "      <td>0.0</td>\n",
       "      <td>0.0</td>\n",
       "      <td>0.0</td>\n",
       "      <td>0.0</td>\n",
       "      <td>0.0</td>\n",
       "      <td>0.0</td>\n",
       "      <td>0.0</td>\n",
       "      <td>...</td>\n",
       "      <td>0.0</td>\n",
       "      <td>0.0</td>\n",
       "      <td>0.0</td>\n",
       "      <td>0.0</td>\n",
       "      <td>0.0</td>\n",
       "      <td>0.0</td>\n",
       "      <td>0.0</td>\n",
       "      <td>0.0</td>\n",
       "      <td>0.0</td>\n",
       "      <td>0.0</td>\n",
       "    </tr>\n",
       "    <tr>\n",
       "      <th>3</th>\n",
       "      <td>0.0</td>\n",
       "      <td>0.0</td>\n",
       "      <td>0.0</td>\n",
       "      <td>0.0</td>\n",
       "      <td>0.0</td>\n",
       "      <td>0.0</td>\n",
       "      <td>0.0</td>\n",
       "      <td>0.0</td>\n",
       "      <td>0.0</td>\n",
       "      <td>0.0</td>\n",
       "      <td>...</td>\n",
       "      <td>0.0</td>\n",
       "      <td>0.0</td>\n",
       "      <td>0.0</td>\n",
       "      <td>0.0</td>\n",
       "      <td>0.0</td>\n",
       "      <td>1.0</td>\n",
       "      <td>0.0</td>\n",
       "      <td>0.0</td>\n",
       "      <td>0.0</td>\n",
       "      <td>0.0</td>\n",
       "    </tr>\n",
       "    <tr>\n",
       "      <th>4</th>\n",
       "      <td>0.0</td>\n",
       "      <td>0.0</td>\n",
       "      <td>0.0</td>\n",
       "      <td>0.0</td>\n",
       "      <td>0.0</td>\n",
       "      <td>0.0</td>\n",
       "      <td>0.0</td>\n",
       "      <td>0.0</td>\n",
       "      <td>0.0</td>\n",
       "      <td>0.0</td>\n",
       "      <td>...</td>\n",
       "      <td>0.0</td>\n",
       "      <td>0.0</td>\n",
       "      <td>0.0</td>\n",
       "      <td>0.0</td>\n",
       "      <td>0.0</td>\n",
       "      <td>0.0</td>\n",
       "      <td>0.0</td>\n",
       "      <td>0.0</td>\n",
       "      <td>0.0</td>\n",
       "      <td>0.0</td>\n",
       "    </tr>\n",
       "  </tbody>\n",
       "</table>\n",
       "<p>5 rows × 83 columns</p>\n",
       "</div>"
      ],
      "text/plain": [
       "   knapsack  game-theory  sets  mo algorithm  sqrt-decomposition  heavy-light  \\\n",
       "0       0.0          0.0   0.0           0.0                 0.0          0.0   \n",
       "1       0.0          0.0   0.0           0.0                 0.0          0.0   \n",
       "2       0.0          0.0   0.0           0.0                 0.0          0.0   \n",
       "3       0.0          0.0   0.0           0.0                 0.0          0.0   \n",
       "4       0.0          0.0   0.0           0.0                 0.0          0.0   \n",
       "\n",
       "   mobius-function  queue  sieve  divide-and-conquer  ...    cakewalk  fft  \\\n",
       "0              0.0    1.0    0.0                 0.0  ...         1.0  0.0   \n",
       "1              0.0    0.0    0.0                 0.0  ...         1.0  0.0   \n",
       "2              0.0    0.0    0.0                 0.0  ...         0.0  0.0   \n",
       "3              0.0    0.0    0.0                 0.0  ...         0.0  0.0   \n",
       "4              0.0    0.0    0.0                 0.0  ...         0.0  0.0   \n",
       "\n",
       "   segment-tree  dp+bitmask  hashing  bfs  probability  maths  bipartite  \\\n",
       "0           0.0         0.0      0.0  0.0          0.0    0.0        0.0   \n",
       "1           0.0         0.0      0.0  0.0          0.0    0.0        0.0   \n",
       "2           0.0         0.0      0.0  0.0          0.0    0.0        0.0   \n",
       "3           0.0         0.0      0.0  1.0          0.0    0.0        0.0   \n",
       "4           0.0         0.0      0.0  0.0          0.0    0.0        0.0   \n",
       "\n",
       "   heaps  \n",
       "0    0.0  \n",
       "1    0.0  \n",
       "2    0.0  \n",
       "3    0.0  \n",
       "4    0.0  \n",
       "\n",
       "[5 rows x 83 columns]"
      ]
     },
     "execution_count": 78,
     "metadata": {},
     "output_type": "execute_result"
    }
   ],
   "source": [
    "df_labels.head()"
   ]
  },
  {
   "cell_type": "code",
   "execution_count": 79,
   "metadata": {},
   "outputs": [],
   "source": [
    "df = pd.concat([df_text, df_labels], axis=1)"
   ]
  },
  {
   "cell_type": "code",
   "execution_count": 80,
   "metadata": {},
   "outputs": [
    {
     "data": {
      "text/html": [
       "<div>\n",
       "<style scoped>\n",
       "    .dataframe tbody tr th:only-of-type {\n",
       "        vertical-align: middle;\n",
       "    }\n",
       "\n",
       "    .dataframe tbody tr th {\n",
       "        vertical-align: top;\n",
       "    }\n",
       "\n",
       "    .dataframe thead th {\n",
       "        text-align: right;\n",
       "    }\n",
       "</style>\n",
       "<table border=\"1\" class=\"dataframe\">\n",
       "  <thead>\n",
       "    <tr style=\"text-align: right;\">\n",
       "      <th></th>\n",
       "      <th>text</th>\n",
       "      <th>knapsack</th>\n",
       "      <th>game-theory</th>\n",
       "      <th>sets</th>\n",
       "      <th>mo algorithm</th>\n",
       "      <th>sqrt-decomposition</th>\n",
       "      <th>heavy-light</th>\n",
       "      <th>mobius-function</th>\n",
       "      <th>queue</th>\n",
       "      <th>sieve</th>\n",
       "      <th>...</th>\n",
       "      <th>cakewalk</th>\n",
       "      <th>fft</th>\n",
       "      <th>segment-tree</th>\n",
       "      <th>dp+bitmask</th>\n",
       "      <th>hashing</th>\n",
       "      <th>bfs</th>\n",
       "      <th>probability</th>\n",
       "      <th>maths</th>\n",
       "      <th>bipartite</th>\n",
       "      <th>heaps</th>\n",
       "    </tr>\n",
       "  </thead>\n",
       "  <tbody>\n",
       "    <tr>\n",
       "      <th>0</th>\n",
       "      <td>\\n Read problems statements in Russian \\nhere\\...</td>\n",
       "      <td>0.0</td>\n",
       "      <td>0.0</td>\n",
       "      <td>0.0</td>\n",
       "      <td>0.0</td>\n",
       "      <td>0.0</td>\n",
       "      <td>0.0</td>\n",
       "      <td>0.0</td>\n",
       "      <td>1.0</td>\n",
       "      <td>0.0</td>\n",
       "      <td>...</td>\n",
       "      <td>1.0</td>\n",
       "      <td>0.0</td>\n",
       "      <td>0.0</td>\n",
       "      <td>0.0</td>\n",
       "      <td>0.0</td>\n",
       "      <td>0.0</td>\n",
       "      <td>0.0</td>\n",
       "      <td>0.0</td>\n",
       "      <td>0.0</td>\n",
       "      <td>0.0</td>\n",
       "    </tr>\n",
       "    <tr>\n",
       "      <th>1</th>\n",
       "      <td>\\nYou are given a sequence of N integers, a[1]...</td>\n",
       "      <td>0.0</td>\n",
       "      <td>0.0</td>\n",
       "      <td>0.0</td>\n",
       "      <td>0.0</td>\n",
       "      <td>0.0</td>\n",
       "      <td>0.0</td>\n",
       "      <td>0.0</td>\n",
       "      <td>0.0</td>\n",
       "      <td>0.0</td>\n",
       "      <td>...</td>\n",
       "      <td>1.0</td>\n",
       "      <td>0.0</td>\n",
       "      <td>0.0</td>\n",
       "      <td>0.0</td>\n",
       "      <td>0.0</td>\n",
       "      <td>0.0</td>\n",
       "      <td>0.0</td>\n",
       "      <td>0.0</td>\n",
       "      <td>0.0</td>\n",
       "      <td>0.0</td>\n",
       "    </tr>\n",
       "    <tr>\n",
       "      <th>2</th>\n",
       "      <td>\\nChef has a string \\nS\\n. Initially, this str...</td>\n",
       "      <td>0.0</td>\n",
       "      <td>0.0</td>\n",
       "      <td>0.0</td>\n",
       "      <td>0.0</td>\n",
       "      <td>0.0</td>\n",
       "      <td>0.0</td>\n",
       "      <td>0.0</td>\n",
       "      <td>0.0</td>\n",
       "      <td>0.0</td>\n",
       "      <td>...</td>\n",
       "      <td>0.0</td>\n",
       "      <td>0.0</td>\n",
       "      <td>0.0</td>\n",
       "      <td>0.0</td>\n",
       "      <td>0.0</td>\n",
       "      <td>0.0</td>\n",
       "      <td>0.0</td>\n",
       "      <td>0.0</td>\n",
       "      <td>0.0</td>\n",
       "      <td>0.0</td>\n",
       "    </tr>\n",
       "    <tr>\n",
       "      <th>3</th>\n",
       "      <td>\\nIn the secret vault, Eon gets information ab...</td>\n",
       "      <td>0.0</td>\n",
       "      <td>0.0</td>\n",
       "      <td>0.0</td>\n",
       "      <td>0.0</td>\n",
       "      <td>0.0</td>\n",
       "      <td>0.0</td>\n",
       "      <td>0.0</td>\n",
       "      <td>0.0</td>\n",
       "      <td>0.0</td>\n",
       "      <td>...</td>\n",
       "      <td>0.0</td>\n",
       "      <td>0.0</td>\n",
       "      <td>0.0</td>\n",
       "      <td>0.0</td>\n",
       "      <td>0.0</td>\n",
       "      <td>1.0</td>\n",
       "      <td>0.0</td>\n",
       "      <td>0.0</td>\n",
       "      <td>0.0</td>\n",
       "      <td>0.0</td>\n",
       "    </tr>\n",
       "    <tr>\n",
       "      <th>4</th>\n",
       "      <td>\\n Read problems statements in \\nMandarin Chin...</td>\n",
       "      <td>0.0</td>\n",
       "      <td>0.0</td>\n",
       "      <td>0.0</td>\n",
       "      <td>0.0</td>\n",
       "      <td>0.0</td>\n",
       "      <td>0.0</td>\n",
       "      <td>0.0</td>\n",
       "      <td>0.0</td>\n",
       "      <td>0.0</td>\n",
       "      <td>...</td>\n",
       "      <td>0.0</td>\n",
       "      <td>0.0</td>\n",
       "      <td>0.0</td>\n",
       "      <td>0.0</td>\n",
       "      <td>0.0</td>\n",
       "      <td>0.0</td>\n",
       "      <td>0.0</td>\n",
       "      <td>0.0</td>\n",
       "      <td>0.0</td>\n",
       "      <td>0.0</td>\n",
       "    </tr>\n",
       "  </tbody>\n",
       "</table>\n",
       "<p>5 rows × 84 columns</p>\n",
       "</div>"
      ],
      "text/plain": [
       "                                                text  knapsack  game-theory  \\\n",
       "0  \\n Read problems statements in Russian \\nhere\\...       0.0          0.0   \n",
       "1  \\nYou are given a sequence of N integers, a[1]...       0.0          0.0   \n",
       "2  \\nChef has a string \\nS\\n. Initially, this str...       0.0          0.0   \n",
       "3  \\nIn the secret vault, Eon gets information ab...       0.0          0.0   \n",
       "4  \\n Read problems statements in \\nMandarin Chin...       0.0          0.0   \n",
       "\n",
       "   sets  mo algorithm  sqrt-decomposition  heavy-light  mobius-function  \\\n",
       "0   0.0           0.0                 0.0          0.0              0.0   \n",
       "1   0.0           0.0                 0.0          0.0              0.0   \n",
       "2   0.0           0.0                 0.0          0.0              0.0   \n",
       "3   0.0           0.0                 0.0          0.0              0.0   \n",
       "4   0.0           0.0                 0.0          0.0              0.0   \n",
       "\n",
       "   queue  sieve  ...    cakewalk  fft  segment-tree  dp+bitmask  hashing  bfs  \\\n",
       "0    1.0    0.0  ...         1.0  0.0           0.0         0.0      0.0  0.0   \n",
       "1    0.0    0.0  ...         1.0  0.0           0.0         0.0      0.0  0.0   \n",
       "2    0.0    0.0  ...         0.0  0.0           0.0         0.0      0.0  0.0   \n",
       "3    0.0    0.0  ...         0.0  0.0           0.0         0.0      0.0  1.0   \n",
       "4    0.0    0.0  ...         0.0  0.0           0.0         0.0      0.0  0.0   \n",
       "\n",
       "   probability  maths  bipartite  heaps  \n",
       "0          0.0    0.0        0.0    0.0  \n",
       "1          0.0    0.0        0.0    0.0  \n",
       "2          0.0    0.0        0.0    0.0  \n",
       "3          0.0    0.0        0.0    0.0  \n",
       "4          0.0    0.0        0.0    0.0  \n",
       "\n",
       "[5 rows x 84 columns]"
      ]
     },
     "execution_count": 80,
     "metadata": {},
     "output_type": "execute_result"
    }
   ],
   "source": [
    "df.head()"
   ]
  },
  {
   "cell_type": "code",
   "execution_count": 81,
   "metadata": {},
   "outputs": [
    {
     "data": {
      "text/plain": [
       "(2729, 84)"
      ]
     },
     "execution_count": 81,
     "metadata": {},
     "output_type": "execute_result"
    }
   ],
   "source": [
    "df.shape"
   ]
  },
  {
   "cell_type": "code",
   "execution_count": 82,
   "metadata": {},
   "outputs": [],
   "source": [
    "df.to_csv('codechef_complete.csv', index=False)"
   ]
  },
  {
   "cell_type": "code",
   "execution_count": 97,
   "metadata": {},
   "outputs": [],
   "source": [
    "#  Quest to combine the two datasets: Codechef and Codeforces"
   ]
  },
  {
   "cell_type": "code",
   "execution_count": 94,
   "metadata": {},
   "outputs": [],
   "source": [
    "codeforces_keys = ['binary search', 'data structures', 'dfs and similar', 'dp', 'games', 'trees', 'constructive algorithms', 'implementation', 'math', 'string suffix structures', 'strings', 'number theory', 'graphs', 'greedy', 'brute force', 'bitmasks', 'combinatorics', 'probabilities', 'divide and conquer', 'fft', 'geometry', 'dsu', 'sortings', 'flows', 'hashing', 'shortest paths', 'two pointers', 'graph matchings', 'ternary search', 'chinese remainder theorem', 'meet-in-the-middle', 'matrices', '2-sat', '*special problem', 'expression parsing', 'schedules']"
   ]
  },
  {
   "cell_type": "code",
   "execution_count": 96,
   "metadata": {},
   "outputs": [
    {
     "data": {
      "text/plain": [
       "['binary search',\n",
       " 'data structures',\n",
       " 'dfs and similar',\n",
       " 'dp',\n",
       " 'games',\n",
       " 'trees',\n",
       " 'constructive algorithms',\n",
       " 'implementation',\n",
       " 'math',\n",
       " 'string suffix structures',\n",
       " 'strings',\n",
       " 'number theory',\n",
       " 'graphs',\n",
       " 'greedy',\n",
       " 'brute force',\n",
       " 'bitmasks',\n",
       " 'combinatorics',\n",
       " 'probabilities',\n",
       " 'divide and conquer',\n",
       " 'fft',\n",
       " 'geometry',\n",
       " 'dsu',\n",
       " 'sortings',\n",
       " 'flows',\n",
       " 'hashing',\n",
       " 'shortest paths',\n",
       " 'two pointers',\n",
       " 'graph matchings',\n",
       " 'ternary search',\n",
       " 'chinese remainder theorem',\n",
       " 'meet-in-the-middle',\n",
       " 'matrices',\n",
       " '2-sat',\n",
       " '*special problem',\n",
       " 'expression parsing',\n",
       " 'schedules']"
      ]
     },
     "execution_count": 96,
     "metadata": {},
     "output_type": "execute_result"
    }
   ],
   "source": [
    "codeforces_keys"
   ]
  },
  {
   "cell_type": "code",
   "execution_count": 102,
   "metadata": {},
   "outputs": [],
   "source": [
    "renamed_classes = {\n",
    "    'simple': ['easy'],\n",
    "    'adhoc': ['easy'],\n",
    "    'cakewalk': ['easy'],\n",
    "    'easy': ['easy'],\n",
    "    'easy-medium': ['easy-medium'],\n",
    "    'medium': ['medium'],\n",
    "    'medium-hard': ['medium-hard'],\n",
    "    'hard': ['hard'],\n",
    "    'challenge': ['challenge'],\n",
    "    'knapsack' : ['knapsack'],\n",
    "    'game-theory' : ['games'],\n",
    "    'sets': ['sets'],\n",
    "    'mo algorithm': ['mo algorithm'],\n",
    "    'sqrt-decomposition': ['sqrt-decomposition'],\n",
    "    'heavy-light': ['heavy-light'],\n",
    "    'mobius-function': ['mobius-function'],\n",
    "    'sieve': ['sieve'],\n",
    "    'divide-and-conquer': ['divide and conquer'],\n",
    "    'dijkstra': ['graphs', 'dijkstra'],\n",
    "    'union-find': ['graphs', 'dsu'],\n",
    "    'greedy': ['greedy'],\n",
    "    'data-structure': ['data structures'],\n",
    "    'suffix-array': ['suffix-array', 'string suffix structures'],\n",
    "    'line-sweep': ['line-sweep'],\n",
    "    'digit dp': ['dp', 'digit dp'],\n",
    "    'tree-dp': ['dp', 'tree-dp'],\n",
    "    'bit': ['bitmasks'],\n",
    "    'modulo': ['modulo'],\n",
    "    'lca': ['lca'],\n",
    "    'gcd': ['gcd'],\n",
    "    'array': ['data structures', 'array'],\n",
    "    'stack': ['data structures', 'stack'],\n",
    "    'queue': ['data structures', 'queue'],\n",
    "    'combinatorics': ['combinatorics'],\n",
    "    'precomputation': ['precomputation'],\n",
    "    'backtracking': ['backtracking'],\n",
    "    'sprague-grundy': ['games', 'sprague-grundy'],\n",
    "    'number-theory': ['number theory'],\n",
    "    'treap': ['treap'],\n",
    "    'maxflow': ['flows'],\n",
    "    'sliding-window': ['sliding-window'],\n",
    "    'inclusion-exclusion': ['inclusion-exclusion'],\n",
    "    'trie': ['trie'],\n",
    "    'dp': ['dp'],\n",
    "    'fenwick': ['fenwick'],\n",
    "    'centroid-decomposition': ['centroid-decomposition'],\n",
    "    'observation': ['observation'],\n",
    "    'link-cut-tree': ['link-cut-tree'],\n",
    "    'meet in the middle': ['meet-in-the-middle'],\n",
    "    'mst': ['mst'],\n",
    "    'string': ['strings'],\n",
    "    'pigeonhole': ['pigeonhole'],\n",
    "    'xor': ['xor'],\n",
    "    'fibonacci': ['fibonacci'],\n",
    "    'gaussian-elimination': ['gaussian-elimination'],\n",
    "    'prime': ['prime'],\n",
    "    'convex-hull': ['convex-hull'],\n",
    "    'sorting': ['sortings'],\n",
    "    'euler tour': ['euler tour'],\n",
    "    'recursion': ['recursion'],\n",
    "    'binary-search': ['binary search'],\n",
    "    'lucas theorem': ['lucas theorem'],\n",
    "    'suffix-trees': ['suffix-trees', 'string suffix structures'],\n",
    "    'geometry': ['geometry'],\n",
    "    'kmp': ['strings', 'kmp'],\n",
    "    'lazy propagation': ['lazy propagation'],\n",
    "    'graph': ['graphs'],\n",
    "    'implementation': ['implementation'],\n",
    "    'matrix-expo': ['matrices', 'matrix-expo'],\n",
    "    'tree': ['trees'],\n",
    "    'two-pointers': ['two pointers'],\n",
    "    'factorization': ['factorization'],\n",
    "    'prefix-sum': ['prefix-sum'],\n",
    "    'dfs': ['dfs and similar', 'dfs'],\n",
    "    'fft': ['fft'],\n",
    "    'segment-tree': ['segment-tree'],\n",
    "    'dp+bitmask': ['dp', 'bitmasks', 'dp+bitmask'],\n",
    "    'hashing': ['hashing'],\n",
    "    'bfs': ['dfs and similar', 'bfs'],\n",
    "    'probability': ['probabilities'],\n",
    "    'maths': ['math'],\n",
    "    'bipartite': ['bipartite'],\n",
    "    'heaps': ['heaps']\n",
    "}"
   ]
  },
  {
   "cell_type": "code",
   "execution_count": 103,
   "metadata": {},
   "outputs": [],
   "source": [
    "all_keys = []\n",
    "all_keys.extend(codeforces_keys)"
   ]
  },
  {
   "cell_type": "code",
   "execution_count": 104,
   "metadata": {},
   "outputs": [
    {
     "data": {
      "text/plain": [
       "36"
      ]
     },
     "execution_count": 104,
     "metadata": {},
     "output_type": "execute_result"
    }
   ],
   "source": [
    "len(all_keys)"
   ]
  },
  {
   "cell_type": "code",
   "execution_count": 105,
   "metadata": {},
   "outputs": [],
   "source": [
    "for key, value in renamed_classes.items():\n",
    "    all_keys.extend(value)"
   ]
  },
  {
   "cell_type": "code",
   "execution_count": 106,
   "metadata": {},
   "outputs": [
    {
     "data": {
      "text/plain": [
       "135"
      ]
     },
     "execution_count": 106,
     "metadata": {},
     "output_type": "execute_result"
    }
   ],
   "source": [
    "len(all_keys)"
   ]
  },
  {
   "cell_type": "code",
   "execution_count": 109,
   "metadata": {},
   "outputs": [],
   "source": [
    "all_keys = list(set(all_keys))"
   ]
  },
  {
   "cell_type": "code",
   "execution_count": 110,
   "metadata": {},
   "outputs": [
    {
     "data": {
      "text/plain": [
       "(93,\n",
       " ['mobius-function',\n",
       "  'queue',\n",
       "  'greedy',\n",
       "  'suffix-array',\n",
       "  'bitmasks',\n",
       "  'digit dp',\n",
       "  'lca',\n",
       "  'gcd',\n",
       "  'probabilities',\n",
       "  'combinatorics',\n",
       "  'graph matchings',\n",
       "  'easy-medium',\n",
       "  'precomputation',\n",
       "  'sprague-grundy',\n",
       "  'math',\n",
       "  'centroid-decomposition',\n",
       "  'link-cut-tree',\n",
       "  'expression parsing',\n",
       "  'constructive algorithms',\n",
       "  'medium',\n",
       "  'schedules',\n",
       "  'euler tour',\n",
       "  'easy',\n",
       "  'challenge',\n",
       "  'implementation',\n",
       "  'binary search',\n",
       "  'matrices',\n",
       "  'two pointers',\n",
       "  'dfs',\n",
       "  'dp+bitmask',\n",
       "  'sets',\n",
       "  'sqrt-decomposition',\n",
       "  'dijkstra',\n",
       "  'line-sweep',\n",
       "  'data structures',\n",
       "  'tree-dp',\n",
       "  'hard',\n",
       "  'mst',\n",
       "  'recursion',\n",
       "  'games',\n",
       "  'suffix-trees',\n",
       "  'kmp',\n",
       "  'stack',\n",
       "  'brute force',\n",
       "  'medium-hard',\n",
       "  'prefix-sum',\n",
       "  'graphs',\n",
       "  '2-sat',\n",
       "  'shortest paths',\n",
       "  'heavy-light',\n",
       "  'heaps',\n",
       "  '*special problem',\n",
       "  'trees',\n",
       "  'array',\n",
       "  'sliding-window',\n",
       "  'inclusion-exclusion',\n",
       "  'meet-in-the-middle',\n",
       "  'dfs and similar',\n",
       "  'sortings',\n",
       "  'pigeonhole',\n",
       "  'xor',\n",
       "  'gaussian-elimination',\n",
       "  'lucas theorem',\n",
       "  'divide and conquer',\n",
       "  'flows',\n",
       "  'strings',\n",
       "  'matrix-expo',\n",
       "  'number theory',\n",
       "  'bipartite',\n",
       "  'knapsack',\n",
       "  'sieve',\n",
       "  'ternary search',\n",
       "  'modulo',\n",
       "  'backtracking',\n",
       "  'treap',\n",
       "  'trie',\n",
       "  'dp',\n",
       "  'fenwick',\n",
       "  'observation',\n",
       "  'fibonacci',\n",
       "  'convex-hull',\n",
       "  'chinese remainder theorem',\n",
       "  'string suffix structures',\n",
       "  'geometry',\n",
       "  'lazy propagation',\n",
       "  'factorization',\n",
       "  'dsu',\n",
       "  'fft',\n",
       "  'segment-tree',\n",
       "  'hashing',\n",
       "  'bfs',\n",
       "  'prime',\n",
       "  'mo algorithm'])"
      ]
     },
     "execution_count": 110,
     "metadata": {},
     "output_type": "execute_result"
    }
   ],
   "source": [
    "len(all_keys), all_keys"
   ]
  },
  {
   "cell_type": "code",
   "execution_count": 201,
   "metadata": {},
   "outputs": [],
   "source": [
    "id_to_class = all_keys"
   ]
  },
  {
   "cell_type": "code",
   "execution_count": 202,
   "metadata": {},
   "outputs": [],
   "source": [
    "class_to_id = {}\n",
    "for i, c in enumerate(id_to_class):\n",
    "  class_to_id[c] = i"
   ]
  },
  {
   "cell_type": "code",
   "execution_count": 203,
   "metadata": {},
   "outputs": [
    {
     "data": {
      "text/plain": [
       "'dp'"
      ]
     },
     "execution_count": 203,
     "metadata": {},
     "output_type": "execute_result"
    }
   ],
   "source": [
    "id_to_class[class_to_id['dp']]"
   ]
  },
  {
   "cell_type": "code",
   "execution_count": 205,
   "metadata": {},
   "outputs": [],
   "source": [
    "nb_classes = len(id_to_class)"
   ]
  },
  {
   "cell_type": "code",
   "execution_count": 206,
   "metadata": {},
   "outputs": [
    {
     "data": {
      "text/plain": [
       "93"
      ]
     },
     "execution_count": 206,
     "metadata": {},
     "output_type": "execute_result"
    }
   ],
   "source": [
    "nb_classes"
   ]
  },
  {
   "cell_type": "code",
   "execution_count": 198,
   "metadata": {},
   "outputs": [
    {
     "data": {
      "text/plain": [
       "['dfs and similar', 'easy-medium', 'bfs']"
      ]
     },
     "execution_count": 198,
     "metadata": {},
     "output_type": "execute_result"
    }
   ],
   "source": [
    "problemTags[3]"
   ]
  },
  {
   "cell_type": "code",
   "execution_count": 189,
   "metadata": {},
   "outputs": [
    {
     "data": {
      "text/plain": [
       "2729"
      ]
     },
     "execution_count": 189,
     "metadata": {},
     "output_type": "execute_result"
    }
   ],
   "source": [
    "len(problemTags)"
   ]
  },
  {
   "cell_type": "code",
   "execution_count": 190,
   "metadata": {},
   "outputs": [],
   "source": [
    "for tag in problemTags:\n",
    "    for key, value in renamed_classes.items():\n",
    "        if key in tag:\n",
    "            tag.remove(key)\n",
    "            tag.extend(value)"
   ]
  },
  {
   "cell_type": "code",
   "execution_count": 191,
   "metadata": {},
   "outputs": [],
   "source": [
    "all_classes = []\n",
    "for tag in problemTags:\n",
    "    all_classes.extend(tag)"
   ]
  },
  {
   "cell_type": "code",
   "execution_count": 196,
   "metadata": {},
   "outputs": [],
   "source": [
    "for i, tag in enumerate(problemTags):\n",
    "    problemTags[i] = list(set(tag))"
   ]
  },
  {
   "cell_type": "code",
   "execution_count": 138,
   "metadata": {},
   "outputs": [],
   "source": [
    "counter=collections.Counter(all_classes)"
   ]
  },
  {
   "cell_type": "code",
   "execution_count": 139,
   "metadata": {},
   "outputs": [],
   "source": [
    "all_classes = list(counter.keys())"
   ]
  },
  {
   "cell_type": "code",
   "execution_count": 140,
   "metadata": {},
   "outputs": [
    {
     "data": {
      "text/plain": [
       "Counter({'array': 39,\n",
       "         'backtracking': 12,\n",
       "         'bfs': 33,\n",
       "         'binary search': 102,\n",
       "         'bipartite': 14,\n",
       "         'bitmasks': 96,\n",
       "         'centroid-decomposition': 10,\n",
       "         'challenge': 78,\n",
       "         'combinatorics': 105,\n",
       "         'convex-hull': 11,\n",
       "         'data structures': 91,\n",
       "         'dfs': 62,\n",
       "         'dfs and similar': 90,\n",
       "         'digit dp': 5,\n",
       "         'dijkstra': 25,\n",
       "         'divide and conquer': 18,\n",
       "         'dp': 360,\n",
       "         'dp+bitmask': 20,\n",
       "         'dsu': 28,\n",
       "         'easy': 1145,\n",
       "         'easy-medium': 235,\n",
       "         'euler tour': 6,\n",
       "         'factorization': 16,\n",
       "         'fenwick': 25,\n",
       "         'fft': 27,\n",
       "         'fibonacci': 9,\n",
       "         'flows': 30,\n",
       "         'games': 43,\n",
       "         'gaussian-elimination': 9,\n",
       "         'gcd': 28,\n",
       "         'geometry': 68,\n",
       "         'graphs': 160,\n",
       "         'greedy': 134,\n",
       "         'hard': 263,\n",
       "         'hashing': 35,\n",
       "         'heaps': 10,\n",
       "         'heavy-light': 15,\n",
       "         'implementation': 83,\n",
       "         'inclusion-exclusion': 10,\n",
       "         'kmp': 11,\n",
       "         'knapsack': 9,\n",
       "         'lazy propagation': 7,\n",
       "         'lca': 24,\n",
       "         'line-sweep': 11,\n",
       "         'link-cut-tree': 5,\n",
       "         'lucas theorem': 4,\n",
       "         'math': 282,\n",
       "         'matrices': 36,\n",
       "         'matrix-expo': 36,\n",
       "         'medium': 444,\n",
       "         'medium-hard': 194,\n",
       "         'meet-in-the-middle': 8,\n",
       "         'mo algorithm': 8,\n",
       "         'mobius-function': 5,\n",
       "         'modulo': 18,\n",
       "         'mst': 8,\n",
       "         'number theory': 56,\n",
       "         'observation': 20,\n",
       "         'pigeonhole': 5,\n",
       "         'precomputation': 11,\n",
       "         'prefix-sum': 17,\n",
       "         'prime': 13,\n",
       "         'probabilities': 44,\n",
       "         'queue': 4,\n",
       "         'recursion': 12,\n",
       "         'segment-tree': 112,\n",
       "         'sets': 14,\n",
       "         'sieve': 23,\n",
       "         'sliding-window': 4,\n",
       "         'sortings': 95,\n",
       "         'sprague-grundy': 7,\n",
       "         'sqrt-decomposition': 36,\n",
       "         'stack': 11,\n",
       "         'string suffix structures': 17,\n",
       "         'strings': 93,\n",
       "         'suffix-array': 14,\n",
       "         'suffix-trees': 4,\n",
       "         'treap': 8,\n",
       "         'tree-dp': 11,\n",
       "         'trees': 63,\n",
       "         'trie': 17,\n",
       "         'two pointers': 12,\n",
       "         'xor': 16})"
      ]
     },
     "execution_count": 140,
     "metadata": {},
     "output_type": "execute_result"
    }
   ],
   "source": [
    "counter"
   ]
  },
  {
   "cell_type": "code",
   "execution_count": 199,
   "metadata": {},
   "outputs": [
    {
     "data": {
      "text/plain": [
       "[['stack', 'modulo', 'data structures', 'queue'],\n",
       " ['easy'],\n",
       " ['strings', 'hard', 'string suffix structures', 'suffix-trees'],\n",
       " ['dfs and similar', 'easy-medium', 'bfs'],\n",
       " ['bitmasks', 'fenwick', 'hard']]"
      ]
     },
     "execution_count": 199,
     "metadata": {},
     "output_type": "execute_result"
    }
   ],
   "source": [
    "problemTags[:5]"
   ]
  },
  {
   "cell_type": "code",
   "execution_count": 200,
   "metadata": {},
   "outputs": [
    {
     "data": {
      "text/plain": [
       "93"
      ]
     },
     "execution_count": 200,
     "metadata": {},
     "output_type": "execute_result"
    }
   ],
   "source": [
    "nb_classes"
   ]
  },
  {
   "cell_type": "code",
   "execution_count": 207,
   "metadata": {},
   "outputs": [],
   "source": [
    "problemTagsInId = []\n",
    "for tags in problemTags:\n",
    "  pTags = []\n",
    "  for tag in tags:\n",
    "    pTags.append(class_to_id[tag])\n",
    "  problemTagsInId.append(pTags)"
   ]
  },
  {
   "cell_type": "code",
   "execution_count": 208,
   "metadata": {},
   "outputs": [
    {
     "data": {
      "text/plain": [
       "[[42, 72, 34, 1], [22], [65, 36, 82, 40], [57, 11, 90], [4, 77, 36]]"
      ]
     },
     "execution_count": 208,
     "metadata": {},
     "output_type": "execute_result"
    }
   ],
   "source": [
    "problemTagsInId[:5]"
   ]
  },
  {
   "cell_type": "code",
   "execution_count": 209,
   "metadata": {},
   "outputs": [],
   "source": [
    "one_hot_problem_tags = np.zeros((len(problemTags), nb_classes))"
   ]
  },
  {
   "cell_type": "code",
   "execution_count": 210,
   "metadata": {},
   "outputs": [
    {
     "data": {
      "text/plain": [
       "(2729, 93)"
      ]
     },
     "execution_count": 210,
     "metadata": {},
     "output_type": "execute_result"
    }
   ],
   "source": [
    "one_hot_problem_tags.shape"
   ]
  },
  {
   "cell_type": "code",
   "execution_count": 211,
   "metadata": {},
   "outputs": [],
   "source": [
    "for i,tags in enumerate(problemTagsInId):\n",
    "  one_hot_problem_tags[i] = np.eye(nb_classes)[tags].sum(axis=0)"
   ]
  },
  {
   "cell_type": "code",
   "execution_count": 212,
   "metadata": {},
   "outputs": [
    {
     "data": {
      "text/plain": [
       "(array([0., 0., 0., 0., 0., 0., 0., 0., 0., 0., 0., 0., 0., 0., 0., 0., 0.,\n",
       "        0., 0., 0., 0., 0., 1., 0., 0., 0., 0., 0., 0., 0., 0., 0., 0., 0.,\n",
       "        0., 0., 0., 0., 0., 0., 0., 0., 0., 0., 0., 0., 0., 0., 0., 0., 0.,\n",
       "        0., 0., 0., 0., 0., 0., 0., 0., 0., 0., 0., 0., 0., 0., 0., 0., 0.,\n",
       "        0., 0., 0., 0., 0., 0., 0., 0., 0., 0., 0., 0., 0., 0., 0., 0., 0.,\n",
       "        0., 0., 0., 0., 0., 0., 0., 0.]), [22])"
      ]
     },
     "execution_count": 212,
     "metadata": {},
     "output_type": "execute_result"
    }
   ],
   "source": [
    "one_hot_problem_tags[1] , problemTagsInId[1]"
   ]
  },
  {
   "cell_type": "code",
   "execution_count": 213,
   "metadata": {},
   "outputs": [],
   "source": [
    "d = {'text': problemStatements}"
   ]
  },
  {
   "cell_type": "code",
   "execution_count": 214,
   "metadata": {},
   "outputs": [],
   "source": [
    "df_text = pd.DataFrame(d)"
   ]
  },
  {
   "cell_type": "code",
   "execution_count": 215,
   "metadata": {},
   "outputs": [
    {
     "data": {
      "text/html": [
       "<div>\n",
       "<style scoped>\n",
       "    .dataframe tbody tr th:only-of-type {\n",
       "        vertical-align: middle;\n",
       "    }\n",
       "\n",
       "    .dataframe tbody tr th {\n",
       "        vertical-align: top;\n",
       "    }\n",
       "\n",
       "    .dataframe thead th {\n",
       "        text-align: right;\n",
       "    }\n",
       "</style>\n",
       "<table border=\"1\" class=\"dataframe\">\n",
       "  <thead>\n",
       "    <tr style=\"text-align: right;\">\n",
       "      <th></th>\n",
       "      <th>text</th>\n",
       "    </tr>\n",
       "  </thead>\n",
       "  <tbody>\n",
       "    <tr>\n",
       "      <th>0</th>\n",
       "      <td>\\n Read problems statements in Russian \\nhere\\...</td>\n",
       "    </tr>\n",
       "    <tr>\n",
       "      <th>1</th>\n",
       "      <td>\\nYou are given a sequence of N integers, a[1]...</td>\n",
       "    </tr>\n",
       "    <tr>\n",
       "      <th>2</th>\n",
       "      <td>\\nChef has a string \\nS\\n. Initially, this str...</td>\n",
       "    </tr>\n",
       "    <tr>\n",
       "      <th>3</th>\n",
       "      <td>\\nIn the secret vault, Eon gets information ab...</td>\n",
       "    </tr>\n",
       "    <tr>\n",
       "      <th>4</th>\n",
       "      <td>\\n Read problems statements in \\nMandarin Chin...</td>\n",
       "    </tr>\n",
       "  </tbody>\n",
       "</table>\n",
       "</div>"
      ],
      "text/plain": [
       "                                                text\n",
       "0  \\n Read problems statements in Russian \\nhere\\...\n",
       "1  \\nYou are given a sequence of N integers, a[1]...\n",
       "2  \\nChef has a string \\nS\\n. Initially, this str...\n",
       "3  \\nIn the secret vault, Eon gets information ab...\n",
       "4  \\n Read problems statements in \\nMandarin Chin..."
      ]
     },
     "execution_count": 215,
     "metadata": {},
     "output_type": "execute_result"
    }
   ],
   "source": [
    "df_text.head()"
   ]
  },
  {
   "cell_type": "code",
   "execution_count": 216,
   "metadata": {},
   "outputs": [],
   "source": [
    "df_labels = pd.DataFrame(one_hot_problem_tags)"
   ]
  },
  {
   "cell_type": "code",
   "execution_count": 217,
   "metadata": {},
   "outputs": [
    {
     "data": {
      "text/html": [
       "<div>\n",
       "<style scoped>\n",
       "    .dataframe tbody tr th:only-of-type {\n",
       "        vertical-align: middle;\n",
       "    }\n",
       "\n",
       "    .dataframe tbody tr th {\n",
       "        vertical-align: top;\n",
       "    }\n",
       "\n",
       "    .dataframe thead th {\n",
       "        text-align: right;\n",
       "    }\n",
       "</style>\n",
       "<table border=\"1\" class=\"dataframe\">\n",
       "  <thead>\n",
       "    <tr style=\"text-align: right;\">\n",
       "      <th></th>\n",
       "      <th>0</th>\n",
       "      <th>1</th>\n",
       "      <th>2</th>\n",
       "      <th>3</th>\n",
       "      <th>4</th>\n",
       "      <th>5</th>\n",
       "      <th>6</th>\n",
       "      <th>7</th>\n",
       "      <th>8</th>\n",
       "      <th>9</th>\n",
       "      <th>...</th>\n",
       "      <th>83</th>\n",
       "      <th>84</th>\n",
       "      <th>85</th>\n",
       "      <th>86</th>\n",
       "      <th>87</th>\n",
       "      <th>88</th>\n",
       "      <th>89</th>\n",
       "      <th>90</th>\n",
       "      <th>91</th>\n",
       "      <th>92</th>\n",
       "    </tr>\n",
       "  </thead>\n",
       "  <tbody>\n",
       "    <tr>\n",
       "      <th>0</th>\n",
       "      <td>0.0</td>\n",
       "      <td>1.0</td>\n",
       "      <td>0.0</td>\n",
       "      <td>0.0</td>\n",
       "      <td>0.0</td>\n",
       "      <td>0.0</td>\n",
       "      <td>0.0</td>\n",
       "      <td>0.0</td>\n",
       "      <td>0.0</td>\n",
       "      <td>0.0</td>\n",
       "      <td>...</td>\n",
       "      <td>0.0</td>\n",
       "      <td>0.0</td>\n",
       "      <td>0.0</td>\n",
       "      <td>0.0</td>\n",
       "      <td>0.0</td>\n",
       "      <td>0.0</td>\n",
       "      <td>0.0</td>\n",
       "      <td>0.0</td>\n",
       "      <td>0.0</td>\n",
       "      <td>0.0</td>\n",
       "    </tr>\n",
       "    <tr>\n",
       "      <th>1</th>\n",
       "      <td>0.0</td>\n",
       "      <td>0.0</td>\n",
       "      <td>0.0</td>\n",
       "      <td>0.0</td>\n",
       "      <td>0.0</td>\n",
       "      <td>0.0</td>\n",
       "      <td>0.0</td>\n",
       "      <td>0.0</td>\n",
       "      <td>0.0</td>\n",
       "      <td>0.0</td>\n",
       "      <td>...</td>\n",
       "      <td>0.0</td>\n",
       "      <td>0.0</td>\n",
       "      <td>0.0</td>\n",
       "      <td>0.0</td>\n",
       "      <td>0.0</td>\n",
       "      <td>0.0</td>\n",
       "      <td>0.0</td>\n",
       "      <td>0.0</td>\n",
       "      <td>0.0</td>\n",
       "      <td>0.0</td>\n",
       "    </tr>\n",
       "    <tr>\n",
       "      <th>2</th>\n",
       "      <td>0.0</td>\n",
       "      <td>0.0</td>\n",
       "      <td>0.0</td>\n",
       "      <td>0.0</td>\n",
       "      <td>0.0</td>\n",
       "      <td>0.0</td>\n",
       "      <td>0.0</td>\n",
       "      <td>0.0</td>\n",
       "      <td>0.0</td>\n",
       "      <td>0.0</td>\n",
       "      <td>...</td>\n",
       "      <td>0.0</td>\n",
       "      <td>0.0</td>\n",
       "      <td>0.0</td>\n",
       "      <td>0.0</td>\n",
       "      <td>0.0</td>\n",
       "      <td>0.0</td>\n",
       "      <td>0.0</td>\n",
       "      <td>0.0</td>\n",
       "      <td>0.0</td>\n",
       "      <td>0.0</td>\n",
       "    </tr>\n",
       "    <tr>\n",
       "      <th>3</th>\n",
       "      <td>0.0</td>\n",
       "      <td>0.0</td>\n",
       "      <td>0.0</td>\n",
       "      <td>0.0</td>\n",
       "      <td>0.0</td>\n",
       "      <td>0.0</td>\n",
       "      <td>0.0</td>\n",
       "      <td>0.0</td>\n",
       "      <td>0.0</td>\n",
       "      <td>0.0</td>\n",
       "      <td>...</td>\n",
       "      <td>0.0</td>\n",
       "      <td>0.0</td>\n",
       "      <td>0.0</td>\n",
       "      <td>0.0</td>\n",
       "      <td>0.0</td>\n",
       "      <td>0.0</td>\n",
       "      <td>0.0</td>\n",
       "      <td>1.0</td>\n",
       "      <td>0.0</td>\n",
       "      <td>0.0</td>\n",
       "    </tr>\n",
       "    <tr>\n",
       "      <th>4</th>\n",
       "      <td>0.0</td>\n",
       "      <td>0.0</td>\n",
       "      <td>0.0</td>\n",
       "      <td>0.0</td>\n",
       "      <td>1.0</td>\n",
       "      <td>0.0</td>\n",
       "      <td>0.0</td>\n",
       "      <td>0.0</td>\n",
       "      <td>0.0</td>\n",
       "      <td>0.0</td>\n",
       "      <td>...</td>\n",
       "      <td>0.0</td>\n",
       "      <td>0.0</td>\n",
       "      <td>0.0</td>\n",
       "      <td>0.0</td>\n",
       "      <td>0.0</td>\n",
       "      <td>0.0</td>\n",
       "      <td>0.0</td>\n",
       "      <td>0.0</td>\n",
       "      <td>0.0</td>\n",
       "      <td>0.0</td>\n",
       "    </tr>\n",
       "  </tbody>\n",
       "</table>\n",
       "<p>5 rows × 93 columns</p>\n",
       "</div>"
      ],
      "text/plain": [
       "    0    1    2    3    4    5    6    7    8    9  ...    83   84   85   86  \\\n",
       "0  0.0  1.0  0.0  0.0  0.0  0.0  0.0  0.0  0.0  0.0 ...   0.0  0.0  0.0  0.0   \n",
       "1  0.0  0.0  0.0  0.0  0.0  0.0  0.0  0.0  0.0  0.0 ...   0.0  0.0  0.0  0.0   \n",
       "2  0.0  0.0  0.0  0.0  0.0  0.0  0.0  0.0  0.0  0.0 ...   0.0  0.0  0.0  0.0   \n",
       "3  0.0  0.0  0.0  0.0  0.0  0.0  0.0  0.0  0.0  0.0 ...   0.0  0.0  0.0  0.0   \n",
       "4  0.0  0.0  0.0  0.0  1.0  0.0  0.0  0.0  0.0  0.0 ...   0.0  0.0  0.0  0.0   \n",
       "\n",
       "    87   88   89   90   91   92  \n",
       "0  0.0  0.0  0.0  0.0  0.0  0.0  \n",
       "1  0.0  0.0  0.0  0.0  0.0  0.0  \n",
       "2  0.0  0.0  0.0  0.0  0.0  0.0  \n",
       "3  0.0  0.0  0.0  1.0  0.0  0.0  \n",
       "4  0.0  0.0  0.0  0.0  0.0  0.0  \n",
       "\n",
       "[5 rows x 93 columns]"
      ]
     },
     "execution_count": 217,
     "metadata": {},
     "output_type": "execute_result"
    }
   ],
   "source": [
    "df_labels.head()"
   ]
  },
  {
   "cell_type": "code",
   "execution_count": 218,
   "metadata": {},
   "outputs": [],
   "source": [
    "df_labels.columns = id_to_class"
   ]
  },
  {
   "cell_type": "code",
   "execution_count": 219,
   "metadata": {},
   "outputs": [
    {
     "data": {
      "text/html": [
       "<div>\n",
       "<style scoped>\n",
       "    .dataframe tbody tr th:only-of-type {\n",
       "        vertical-align: middle;\n",
       "    }\n",
       "\n",
       "    .dataframe tbody tr th {\n",
       "        vertical-align: top;\n",
       "    }\n",
       "\n",
       "    .dataframe thead th {\n",
       "        text-align: right;\n",
       "    }\n",
       "</style>\n",
       "<table border=\"1\" class=\"dataframe\">\n",
       "  <thead>\n",
       "    <tr style=\"text-align: right;\">\n",
       "      <th></th>\n",
       "      <th>mobius-function</th>\n",
       "      <th>queue</th>\n",
       "      <th>greedy</th>\n",
       "      <th>suffix-array</th>\n",
       "      <th>bitmasks</th>\n",
       "      <th>digit dp</th>\n",
       "      <th>lca</th>\n",
       "      <th>gcd</th>\n",
       "      <th>probabilities</th>\n",
       "      <th>combinatorics</th>\n",
       "      <th>...</th>\n",
       "      <th>geometry</th>\n",
       "      <th>lazy propagation</th>\n",
       "      <th>factorization</th>\n",
       "      <th>dsu</th>\n",
       "      <th>fft</th>\n",
       "      <th>segment-tree</th>\n",
       "      <th>hashing</th>\n",
       "      <th>bfs</th>\n",
       "      <th>prime</th>\n",
       "      <th>mo algorithm</th>\n",
       "    </tr>\n",
       "  </thead>\n",
       "  <tbody>\n",
       "    <tr>\n",
       "      <th>0</th>\n",
       "      <td>0.0</td>\n",
       "      <td>1.0</td>\n",
       "      <td>0.0</td>\n",
       "      <td>0.0</td>\n",
       "      <td>0.0</td>\n",
       "      <td>0.0</td>\n",
       "      <td>0.0</td>\n",
       "      <td>0.0</td>\n",
       "      <td>0.0</td>\n",
       "      <td>0.0</td>\n",
       "      <td>...</td>\n",
       "      <td>0.0</td>\n",
       "      <td>0.0</td>\n",
       "      <td>0.0</td>\n",
       "      <td>0.0</td>\n",
       "      <td>0.0</td>\n",
       "      <td>0.0</td>\n",
       "      <td>0.0</td>\n",
       "      <td>0.0</td>\n",
       "      <td>0.0</td>\n",
       "      <td>0.0</td>\n",
       "    </tr>\n",
       "    <tr>\n",
       "      <th>1</th>\n",
       "      <td>0.0</td>\n",
       "      <td>0.0</td>\n",
       "      <td>0.0</td>\n",
       "      <td>0.0</td>\n",
       "      <td>0.0</td>\n",
       "      <td>0.0</td>\n",
       "      <td>0.0</td>\n",
       "      <td>0.0</td>\n",
       "      <td>0.0</td>\n",
       "      <td>0.0</td>\n",
       "      <td>...</td>\n",
       "      <td>0.0</td>\n",
       "      <td>0.0</td>\n",
       "      <td>0.0</td>\n",
       "      <td>0.0</td>\n",
       "      <td>0.0</td>\n",
       "      <td>0.0</td>\n",
       "      <td>0.0</td>\n",
       "      <td>0.0</td>\n",
       "      <td>0.0</td>\n",
       "      <td>0.0</td>\n",
       "    </tr>\n",
       "    <tr>\n",
       "      <th>2</th>\n",
       "      <td>0.0</td>\n",
       "      <td>0.0</td>\n",
       "      <td>0.0</td>\n",
       "      <td>0.0</td>\n",
       "      <td>0.0</td>\n",
       "      <td>0.0</td>\n",
       "      <td>0.0</td>\n",
       "      <td>0.0</td>\n",
       "      <td>0.0</td>\n",
       "      <td>0.0</td>\n",
       "      <td>...</td>\n",
       "      <td>0.0</td>\n",
       "      <td>0.0</td>\n",
       "      <td>0.0</td>\n",
       "      <td>0.0</td>\n",
       "      <td>0.0</td>\n",
       "      <td>0.0</td>\n",
       "      <td>0.0</td>\n",
       "      <td>0.0</td>\n",
       "      <td>0.0</td>\n",
       "      <td>0.0</td>\n",
       "    </tr>\n",
       "    <tr>\n",
       "      <th>3</th>\n",
       "      <td>0.0</td>\n",
       "      <td>0.0</td>\n",
       "      <td>0.0</td>\n",
       "      <td>0.0</td>\n",
       "      <td>0.0</td>\n",
       "      <td>0.0</td>\n",
       "      <td>0.0</td>\n",
       "      <td>0.0</td>\n",
       "      <td>0.0</td>\n",
       "      <td>0.0</td>\n",
       "      <td>...</td>\n",
       "      <td>0.0</td>\n",
       "      <td>0.0</td>\n",
       "      <td>0.0</td>\n",
       "      <td>0.0</td>\n",
       "      <td>0.0</td>\n",
       "      <td>0.0</td>\n",
       "      <td>0.0</td>\n",
       "      <td>1.0</td>\n",
       "      <td>0.0</td>\n",
       "      <td>0.0</td>\n",
       "    </tr>\n",
       "    <tr>\n",
       "      <th>4</th>\n",
       "      <td>0.0</td>\n",
       "      <td>0.0</td>\n",
       "      <td>0.0</td>\n",
       "      <td>0.0</td>\n",
       "      <td>1.0</td>\n",
       "      <td>0.0</td>\n",
       "      <td>0.0</td>\n",
       "      <td>0.0</td>\n",
       "      <td>0.0</td>\n",
       "      <td>0.0</td>\n",
       "      <td>...</td>\n",
       "      <td>0.0</td>\n",
       "      <td>0.0</td>\n",
       "      <td>0.0</td>\n",
       "      <td>0.0</td>\n",
       "      <td>0.0</td>\n",
       "      <td>0.0</td>\n",
       "      <td>0.0</td>\n",
       "      <td>0.0</td>\n",
       "      <td>0.0</td>\n",
       "      <td>0.0</td>\n",
       "    </tr>\n",
       "  </tbody>\n",
       "</table>\n",
       "<p>5 rows × 93 columns</p>\n",
       "</div>"
      ],
      "text/plain": [
       "   mobius-function  queue  greedy  suffix-array  bitmasks  digit dp  lca  gcd  \\\n",
       "0              0.0    1.0     0.0           0.0       0.0       0.0  0.0  0.0   \n",
       "1              0.0    0.0     0.0           0.0       0.0       0.0  0.0  0.0   \n",
       "2              0.0    0.0     0.0           0.0       0.0       0.0  0.0  0.0   \n",
       "3              0.0    0.0     0.0           0.0       0.0       0.0  0.0  0.0   \n",
       "4              0.0    0.0     0.0           0.0       1.0       0.0  0.0  0.0   \n",
       "\n",
       "   probabilities  combinatorics      ...       geometry  lazy propagation  \\\n",
       "0            0.0            0.0      ...            0.0               0.0   \n",
       "1            0.0            0.0      ...            0.0               0.0   \n",
       "2            0.0            0.0      ...            0.0               0.0   \n",
       "3            0.0            0.0      ...            0.0               0.0   \n",
       "4            0.0            0.0      ...            0.0               0.0   \n",
       "\n",
       "   factorization  dsu  fft  segment-tree  hashing  bfs  prime  mo algorithm  \n",
       "0            0.0  0.0  0.0           0.0      0.0  0.0    0.0           0.0  \n",
       "1            0.0  0.0  0.0           0.0      0.0  0.0    0.0           0.0  \n",
       "2            0.0  0.0  0.0           0.0      0.0  0.0    0.0           0.0  \n",
       "3            0.0  0.0  0.0           0.0      0.0  1.0    0.0           0.0  \n",
       "4            0.0  0.0  0.0           0.0      0.0  0.0    0.0           0.0  \n",
       "\n",
       "[5 rows x 93 columns]"
      ]
     },
     "execution_count": 219,
     "metadata": {},
     "output_type": "execute_result"
    }
   ],
   "source": [
    "df_labels.head()"
   ]
  },
  {
   "cell_type": "code",
   "execution_count": 220,
   "metadata": {},
   "outputs": [],
   "source": [
    "df = pd.concat([df_text, df_labels], axis=1)"
   ]
  },
  {
   "cell_type": "code",
   "execution_count": 221,
   "metadata": {},
   "outputs": [
    {
     "data": {
      "text/html": [
       "<div>\n",
       "<style scoped>\n",
       "    .dataframe tbody tr th:only-of-type {\n",
       "        vertical-align: middle;\n",
       "    }\n",
       "\n",
       "    .dataframe tbody tr th {\n",
       "        vertical-align: top;\n",
       "    }\n",
       "\n",
       "    .dataframe thead th {\n",
       "        text-align: right;\n",
       "    }\n",
       "</style>\n",
       "<table border=\"1\" class=\"dataframe\">\n",
       "  <thead>\n",
       "    <tr style=\"text-align: right;\">\n",
       "      <th></th>\n",
       "      <th>text</th>\n",
       "      <th>mobius-function</th>\n",
       "      <th>queue</th>\n",
       "      <th>greedy</th>\n",
       "      <th>suffix-array</th>\n",
       "      <th>bitmasks</th>\n",
       "      <th>digit dp</th>\n",
       "      <th>lca</th>\n",
       "      <th>gcd</th>\n",
       "      <th>probabilities</th>\n",
       "      <th>...</th>\n",
       "      <th>geometry</th>\n",
       "      <th>lazy propagation</th>\n",
       "      <th>factorization</th>\n",
       "      <th>dsu</th>\n",
       "      <th>fft</th>\n",
       "      <th>segment-tree</th>\n",
       "      <th>hashing</th>\n",
       "      <th>bfs</th>\n",
       "      <th>prime</th>\n",
       "      <th>mo algorithm</th>\n",
       "    </tr>\n",
       "  </thead>\n",
       "  <tbody>\n",
       "    <tr>\n",
       "      <th>0</th>\n",
       "      <td>\\n Read problems statements in Russian \\nhere\\...</td>\n",
       "      <td>0.0</td>\n",
       "      <td>1.0</td>\n",
       "      <td>0.0</td>\n",
       "      <td>0.0</td>\n",
       "      <td>0.0</td>\n",
       "      <td>0.0</td>\n",
       "      <td>0.0</td>\n",
       "      <td>0.0</td>\n",
       "      <td>0.0</td>\n",
       "      <td>...</td>\n",
       "      <td>0.0</td>\n",
       "      <td>0.0</td>\n",
       "      <td>0.0</td>\n",
       "      <td>0.0</td>\n",
       "      <td>0.0</td>\n",
       "      <td>0.0</td>\n",
       "      <td>0.0</td>\n",
       "      <td>0.0</td>\n",
       "      <td>0.0</td>\n",
       "      <td>0.0</td>\n",
       "    </tr>\n",
       "    <tr>\n",
       "      <th>1</th>\n",
       "      <td>\\nYou are given a sequence of N integers, a[1]...</td>\n",
       "      <td>0.0</td>\n",
       "      <td>0.0</td>\n",
       "      <td>0.0</td>\n",
       "      <td>0.0</td>\n",
       "      <td>0.0</td>\n",
       "      <td>0.0</td>\n",
       "      <td>0.0</td>\n",
       "      <td>0.0</td>\n",
       "      <td>0.0</td>\n",
       "      <td>...</td>\n",
       "      <td>0.0</td>\n",
       "      <td>0.0</td>\n",
       "      <td>0.0</td>\n",
       "      <td>0.0</td>\n",
       "      <td>0.0</td>\n",
       "      <td>0.0</td>\n",
       "      <td>0.0</td>\n",
       "      <td>0.0</td>\n",
       "      <td>0.0</td>\n",
       "      <td>0.0</td>\n",
       "    </tr>\n",
       "    <tr>\n",
       "      <th>2</th>\n",
       "      <td>\\nChef has a string \\nS\\n. Initially, this str...</td>\n",
       "      <td>0.0</td>\n",
       "      <td>0.0</td>\n",
       "      <td>0.0</td>\n",
       "      <td>0.0</td>\n",
       "      <td>0.0</td>\n",
       "      <td>0.0</td>\n",
       "      <td>0.0</td>\n",
       "      <td>0.0</td>\n",
       "      <td>0.0</td>\n",
       "      <td>...</td>\n",
       "      <td>0.0</td>\n",
       "      <td>0.0</td>\n",
       "      <td>0.0</td>\n",
       "      <td>0.0</td>\n",
       "      <td>0.0</td>\n",
       "      <td>0.0</td>\n",
       "      <td>0.0</td>\n",
       "      <td>0.0</td>\n",
       "      <td>0.0</td>\n",
       "      <td>0.0</td>\n",
       "    </tr>\n",
       "    <tr>\n",
       "      <th>3</th>\n",
       "      <td>\\nIn the secret vault, Eon gets information ab...</td>\n",
       "      <td>0.0</td>\n",
       "      <td>0.0</td>\n",
       "      <td>0.0</td>\n",
       "      <td>0.0</td>\n",
       "      <td>0.0</td>\n",
       "      <td>0.0</td>\n",
       "      <td>0.0</td>\n",
       "      <td>0.0</td>\n",
       "      <td>0.0</td>\n",
       "      <td>...</td>\n",
       "      <td>0.0</td>\n",
       "      <td>0.0</td>\n",
       "      <td>0.0</td>\n",
       "      <td>0.0</td>\n",
       "      <td>0.0</td>\n",
       "      <td>0.0</td>\n",
       "      <td>0.0</td>\n",
       "      <td>1.0</td>\n",
       "      <td>0.0</td>\n",
       "      <td>0.0</td>\n",
       "    </tr>\n",
       "    <tr>\n",
       "      <th>4</th>\n",
       "      <td>\\n Read problems statements in \\nMandarin Chin...</td>\n",
       "      <td>0.0</td>\n",
       "      <td>0.0</td>\n",
       "      <td>0.0</td>\n",
       "      <td>0.0</td>\n",
       "      <td>1.0</td>\n",
       "      <td>0.0</td>\n",
       "      <td>0.0</td>\n",
       "      <td>0.0</td>\n",
       "      <td>0.0</td>\n",
       "      <td>...</td>\n",
       "      <td>0.0</td>\n",
       "      <td>0.0</td>\n",
       "      <td>0.0</td>\n",
       "      <td>0.0</td>\n",
       "      <td>0.0</td>\n",
       "      <td>0.0</td>\n",
       "      <td>0.0</td>\n",
       "      <td>0.0</td>\n",
       "      <td>0.0</td>\n",
       "      <td>0.0</td>\n",
       "    </tr>\n",
       "  </tbody>\n",
       "</table>\n",
       "<p>5 rows × 94 columns</p>\n",
       "</div>"
      ],
      "text/plain": [
       "                                                text  mobius-function  queue  \\\n",
       "0  \\n Read problems statements in Russian \\nhere\\...              0.0    1.0   \n",
       "1  \\nYou are given a sequence of N integers, a[1]...              0.0    0.0   \n",
       "2  \\nChef has a string \\nS\\n. Initially, this str...              0.0    0.0   \n",
       "3  \\nIn the secret vault, Eon gets information ab...              0.0    0.0   \n",
       "4  \\n Read problems statements in \\nMandarin Chin...              0.0    0.0   \n",
       "\n",
       "   greedy  suffix-array  bitmasks  digit dp  lca  gcd  probabilities  \\\n",
       "0     0.0           0.0       0.0       0.0  0.0  0.0            0.0   \n",
       "1     0.0           0.0       0.0       0.0  0.0  0.0            0.0   \n",
       "2     0.0           0.0       0.0       0.0  0.0  0.0            0.0   \n",
       "3     0.0           0.0       0.0       0.0  0.0  0.0            0.0   \n",
       "4     0.0           0.0       1.0       0.0  0.0  0.0            0.0   \n",
       "\n",
       "       ...       geometry  lazy propagation  factorization  dsu  fft  \\\n",
       "0      ...            0.0               0.0            0.0  0.0  0.0   \n",
       "1      ...            0.0               0.0            0.0  0.0  0.0   \n",
       "2      ...            0.0               0.0            0.0  0.0  0.0   \n",
       "3      ...            0.0               0.0            0.0  0.0  0.0   \n",
       "4      ...            0.0               0.0            0.0  0.0  0.0   \n",
       "\n",
       "   segment-tree  hashing  bfs  prime  mo algorithm  \n",
       "0           0.0      0.0  0.0    0.0           0.0  \n",
       "1           0.0      0.0  0.0    0.0           0.0  \n",
       "2           0.0      0.0  0.0    0.0           0.0  \n",
       "3           0.0      0.0  1.0    0.0           0.0  \n",
       "4           0.0      0.0  0.0    0.0           0.0  \n",
       "\n",
       "[5 rows x 94 columns]"
      ]
     },
     "execution_count": 221,
     "metadata": {},
     "output_type": "execute_result"
    }
   ],
   "source": [
    "df.head()"
   ]
  },
  {
   "cell_type": "code",
   "execution_count": 222,
   "metadata": {},
   "outputs": [
    {
     "data": {
      "text/plain": [
       "(2729, 94)"
      ]
     },
     "execution_count": 222,
     "metadata": {},
     "output_type": "execute_result"
    }
   ],
   "source": [
    "df.shape"
   ]
  },
  {
   "cell_type": "code",
   "execution_count": 224,
   "metadata": {},
   "outputs": [],
   "source": [
    "df.to_csv('codechef_complete_with_union_of_codeforces_codechef_classes.csv', index=False)"
   ]
  },
  {
   "cell_type": "code",
   "execution_count": 225,
   "metadata": {},
   "outputs": [],
   "source": [
    "#  Doing the same thing for codeforces"
   ]
  },
  {
   "cell_type": "code",
   "execution_count": 231,
   "metadata": {},
   "outputs": [],
   "source": [
    "with open('competitivescripts/problemTags.pkl', 'rb') as f:\n",
    "  problemTags = pickle.load(f)"
   ]
  },
  {
   "cell_type": "code",
   "execution_count": 233,
   "metadata": {},
   "outputs": [],
   "source": [
    "with open('competitivescripts/problemStatements.pkl', 'rb') as f:\n",
    "  problemStatements = pickle.load(f)"
   ]
  },
  {
   "cell_type": "code",
   "execution_count": 235,
   "metadata": {},
   "outputs": [
    {
     "data": {
      "text/plain": [
       "(4869,\n",
       " 4869,\n",
       " ['binary search',\n",
       "  'data structures',\n",
       "  'dfs and similar',\n",
       "  'dp',\n",
       "  'games',\n",
       "  'trees'])"
      ]
     },
     "execution_count": 235,
     "metadata": {},
     "output_type": "execute_result"
    }
   ],
   "source": [
    "# All the codeforces problems\n",
    "len(problemStatements), len(problemTags), problemTags[0]"
   ]
  },
  {
   "cell_type": "code",
   "execution_count": 236,
   "metadata": {},
   "outputs": [
    {
     "data": {
      "text/plain": [
       "93"
      ]
     },
     "execution_count": 236,
     "metadata": {},
     "output_type": "execute_result"
    }
   ],
   "source": [
    "nb_classes"
   ]
  },
  {
   "cell_type": "code",
   "execution_count": 237,
   "metadata": {},
   "outputs": [],
   "source": [
    "problemTagsInId = []\n",
    "for tags in problemTags:\n",
    "  pTags = []\n",
    "  for tag in tags:\n",
    "    pTags.append(class_to_id[tag])\n",
    "  problemTagsInId.append(pTags)"
   ]
  },
  {
   "cell_type": "code",
   "execution_count": 238,
   "metadata": {},
   "outputs": [
    {
     "data": {
      "text/plain": [
       "([25, 18, 14], ['binary search', 'constructive algorithms', 'math'])"
      ]
     },
     "execution_count": 238,
     "metadata": {},
     "output_type": "execute_result"
    }
   ],
   "source": [
    "problemTagsInId[2], problemTags[2]"
   ]
  },
  {
   "cell_type": "code",
   "execution_count": 239,
   "metadata": {},
   "outputs": [],
   "source": [
    "one_hot_problem_tags = np.zeros((len(problemTags), nb_classes))"
   ]
  },
  {
   "cell_type": "code",
   "execution_count": 240,
   "metadata": {},
   "outputs": [
    {
     "data": {
      "text/plain": [
       "(4869, 93)"
      ]
     },
     "execution_count": 240,
     "metadata": {},
     "output_type": "execute_result"
    }
   ],
   "source": [
    "one_hot_problem_tags.shape"
   ]
  },
  {
   "cell_type": "code",
   "execution_count": 241,
   "metadata": {},
   "outputs": [],
   "source": [
    "for i,tags in enumerate(problemTagsInId):\n",
    "  one_hot_problem_tags[i] = np.eye(nb_classes)[tags].sum(axis=0)"
   ]
  },
  {
   "cell_type": "code",
   "execution_count": 242,
   "metadata": {},
   "outputs": [
    {
     "data": {
      "text/plain": [
       "(array([0., 0., 0., 0., 0., 0., 0., 0., 0., 0., 0., 0., 0., 0., 1., 0., 0.,\n",
       "        0., 1., 0., 0., 0., 0., 0., 0., 1., 0., 0., 0., 0., 0., 0., 0., 0.,\n",
       "        0., 0., 0., 0., 0., 0., 0., 0., 0., 0., 0., 0., 0., 0., 0., 0., 0.,\n",
       "        0., 0., 0., 0., 0., 0., 0., 0., 0., 0., 0., 0., 0., 0., 0., 0., 0.,\n",
       "        0., 0., 0., 0., 0., 0., 0., 0., 0., 0., 0., 0., 0., 0., 0., 0., 0.,\n",
       "        0., 0., 0., 0., 0., 0., 0., 0.]), [25, 18, 14])"
      ]
     },
     "execution_count": 242,
     "metadata": {},
     "output_type": "execute_result"
    }
   ],
   "source": [
    "one_hot_problem_tags[2] , problemTagsInId[2]"
   ]
  },
  {
   "cell_type": "code",
   "execution_count": 243,
   "metadata": {},
   "outputs": [],
   "source": [
    "d = {'text': problemStatements}"
   ]
  },
  {
   "cell_type": "code",
   "execution_count": 244,
   "metadata": {},
   "outputs": [],
   "source": [
    "df_text = pd.DataFrame(d)"
   ]
  },
  {
   "cell_type": "code",
   "execution_count": 245,
   "metadata": {},
   "outputs": [
    {
     "data": {
      "text/html": [
       "<div>\n",
       "<style scoped>\n",
       "    .dataframe tbody tr th:only-of-type {\n",
       "        vertical-align: middle;\n",
       "    }\n",
       "\n",
       "    .dataframe tbody tr th {\n",
       "        vertical-align: top;\n",
       "    }\n",
       "\n",
       "    .dataframe thead th {\n",
       "        text-align: right;\n",
       "    }\n",
       "</style>\n",
       "<table border=\"1\" class=\"dataframe\">\n",
       "  <thead>\n",
       "    <tr style=\"text-align: right;\">\n",
       "      <th></th>\n",
       "      <th>text</th>\n",
       "    </tr>\n",
       "  </thead>\n",
       "  <tbody>\n",
       "    <tr>\n",
       "      <th>0</th>\n",
       "      <td>F. Cookies\\ntime limit per test\\n3 seconds\\nme...</td>\n",
       "    </tr>\n",
       "    <tr>\n",
       "      <th>1</th>\n",
       "      <td>C. Postcard\\ntime limit per test\\n1 second\\nme...</td>\n",
       "    </tr>\n",
       "    <tr>\n",
       "      <th>2</th>\n",
       "      <td>B. Squares and Segments\\ntime limit per test\\n...</td>\n",
       "    </tr>\n",
       "    <tr>\n",
       "      <th>3</th>\n",
       "      <td>A. Snowball\\ntime limit per test\\n1 second\\nme...</td>\n",
       "    </tr>\n",
       "    <tr>\n",
       "      <th>4</th>\n",
       "      <td>F. Ж-function\\ntime limit per test\\n6 seconds\\...</td>\n",
       "    </tr>\n",
       "  </tbody>\n",
       "</table>\n",
       "</div>"
      ],
      "text/plain": [
       "                                                text\n",
       "0  F. Cookies\\ntime limit per test\\n3 seconds\\nme...\n",
       "1  C. Postcard\\ntime limit per test\\n1 second\\nme...\n",
       "2  B. Squares and Segments\\ntime limit per test\\n...\n",
       "3  A. Snowball\\ntime limit per test\\n1 second\\nme...\n",
       "4  F. Ж-function\\ntime limit per test\\n6 seconds\\..."
      ]
     },
     "execution_count": 245,
     "metadata": {},
     "output_type": "execute_result"
    }
   ],
   "source": [
    "df_text.head()"
   ]
  },
  {
   "cell_type": "code",
   "execution_count": 246,
   "metadata": {},
   "outputs": [],
   "source": [
    "df_labels = pd.DataFrame(one_hot_problem_tags)"
   ]
  },
  {
   "cell_type": "code",
   "execution_count": 247,
   "metadata": {},
   "outputs": [
    {
     "data": {
      "text/html": [
       "<div>\n",
       "<style scoped>\n",
       "    .dataframe tbody tr th:only-of-type {\n",
       "        vertical-align: middle;\n",
       "    }\n",
       "\n",
       "    .dataframe tbody tr th {\n",
       "        vertical-align: top;\n",
       "    }\n",
       "\n",
       "    .dataframe thead th {\n",
       "        text-align: right;\n",
       "    }\n",
       "</style>\n",
       "<table border=\"1\" class=\"dataframe\">\n",
       "  <thead>\n",
       "    <tr style=\"text-align: right;\">\n",
       "      <th></th>\n",
       "      <th>0</th>\n",
       "      <th>1</th>\n",
       "      <th>2</th>\n",
       "      <th>3</th>\n",
       "      <th>4</th>\n",
       "      <th>5</th>\n",
       "      <th>6</th>\n",
       "      <th>7</th>\n",
       "      <th>8</th>\n",
       "      <th>9</th>\n",
       "      <th>...</th>\n",
       "      <th>83</th>\n",
       "      <th>84</th>\n",
       "      <th>85</th>\n",
       "      <th>86</th>\n",
       "      <th>87</th>\n",
       "      <th>88</th>\n",
       "      <th>89</th>\n",
       "      <th>90</th>\n",
       "      <th>91</th>\n",
       "      <th>92</th>\n",
       "    </tr>\n",
       "  </thead>\n",
       "  <tbody>\n",
       "    <tr>\n",
       "      <th>0</th>\n",
       "      <td>0.0</td>\n",
       "      <td>0.0</td>\n",
       "      <td>0.0</td>\n",
       "      <td>0.0</td>\n",
       "      <td>0.0</td>\n",
       "      <td>0.0</td>\n",
       "      <td>0.0</td>\n",
       "      <td>0.0</td>\n",
       "      <td>0.0</td>\n",
       "      <td>0.0</td>\n",
       "      <td>...</td>\n",
       "      <td>0.0</td>\n",
       "      <td>0.0</td>\n",
       "      <td>0.0</td>\n",
       "      <td>0.0</td>\n",
       "      <td>0.0</td>\n",
       "      <td>0.0</td>\n",
       "      <td>0.0</td>\n",
       "      <td>0.0</td>\n",
       "      <td>0.0</td>\n",
       "      <td>0.0</td>\n",
       "    </tr>\n",
       "    <tr>\n",
       "      <th>1</th>\n",
       "      <td>0.0</td>\n",
       "      <td>0.0</td>\n",
       "      <td>0.0</td>\n",
       "      <td>0.0</td>\n",
       "      <td>0.0</td>\n",
       "      <td>0.0</td>\n",
       "      <td>0.0</td>\n",
       "      <td>0.0</td>\n",
       "      <td>0.0</td>\n",
       "      <td>0.0</td>\n",
       "      <td>...</td>\n",
       "      <td>0.0</td>\n",
       "      <td>0.0</td>\n",
       "      <td>0.0</td>\n",
       "      <td>0.0</td>\n",
       "      <td>0.0</td>\n",
       "      <td>0.0</td>\n",
       "      <td>0.0</td>\n",
       "      <td>0.0</td>\n",
       "      <td>0.0</td>\n",
       "      <td>0.0</td>\n",
       "    </tr>\n",
       "    <tr>\n",
       "      <th>2</th>\n",
       "      <td>0.0</td>\n",
       "      <td>0.0</td>\n",
       "      <td>0.0</td>\n",
       "      <td>0.0</td>\n",
       "      <td>0.0</td>\n",
       "      <td>0.0</td>\n",
       "      <td>0.0</td>\n",
       "      <td>0.0</td>\n",
       "      <td>0.0</td>\n",
       "      <td>0.0</td>\n",
       "      <td>...</td>\n",
       "      <td>0.0</td>\n",
       "      <td>0.0</td>\n",
       "      <td>0.0</td>\n",
       "      <td>0.0</td>\n",
       "      <td>0.0</td>\n",
       "      <td>0.0</td>\n",
       "      <td>0.0</td>\n",
       "      <td>0.0</td>\n",
       "      <td>0.0</td>\n",
       "      <td>0.0</td>\n",
       "    </tr>\n",
       "    <tr>\n",
       "      <th>3</th>\n",
       "      <td>0.0</td>\n",
       "      <td>0.0</td>\n",
       "      <td>0.0</td>\n",
       "      <td>0.0</td>\n",
       "      <td>0.0</td>\n",
       "      <td>0.0</td>\n",
       "      <td>0.0</td>\n",
       "      <td>0.0</td>\n",
       "      <td>0.0</td>\n",
       "      <td>0.0</td>\n",
       "      <td>...</td>\n",
       "      <td>0.0</td>\n",
       "      <td>0.0</td>\n",
       "      <td>0.0</td>\n",
       "      <td>0.0</td>\n",
       "      <td>0.0</td>\n",
       "      <td>0.0</td>\n",
       "      <td>0.0</td>\n",
       "      <td>0.0</td>\n",
       "      <td>0.0</td>\n",
       "      <td>0.0</td>\n",
       "    </tr>\n",
       "    <tr>\n",
       "      <th>4</th>\n",
       "      <td>0.0</td>\n",
       "      <td>0.0</td>\n",
       "      <td>0.0</td>\n",
       "      <td>0.0</td>\n",
       "      <td>0.0</td>\n",
       "      <td>0.0</td>\n",
       "      <td>0.0</td>\n",
       "      <td>0.0</td>\n",
       "      <td>0.0</td>\n",
       "      <td>0.0</td>\n",
       "      <td>...</td>\n",
       "      <td>0.0</td>\n",
       "      <td>0.0</td>\n",
       "      <td>0.0</td>\n",
       "      <td>0.0</td>\n",
       "      <td>0.0</td>\n",
       "      <td>0.0</td>\n",
       "      <td>0.0</td>\n",
       "      <td>0.0</td>\n",
       "      <td>0.0</td>\n",
       "      <td>0.0</td>\n",
       "    </tr>\n",
       "  </tbody>\n",
       "</table>\n",
       "<p>5 rows × 93 columns</p>\n",
       "</div>"
      ],
      "text/plain": [
       "    0    1    2    3    4    5    6    7    8    9  ...    83   84   85   86  \\\n",
       "0  0.0  0.0  0.0  0.0  0.0  0.0  0.0  0.0  0.0  0.0 ...   0.0  0.0  0.0  0.0   \n",
       "1  0.0  0.0  0.0  0.0  0.0  0.0  0.0  0.0  0.0  0.0 ...   0.0  0.0  0.0  0.0   \n",
       "2  0.0  0.0  0.0  0.0  0.0  0.0  0.0  0.0  0.0  0.0 ...   0.0  0.0  0.0  0.0   \n",
       "3  0.0  0.0  0.0  0.0  0.0  0.0  0.0  0.0  0.0  0.0 ...   0.0  0.0  0.0  0.0   \n",
       "4  0.0  0.0  0.0  0.0  0.0  0.0  0.0  0.0  0.0  0.0 ...   0.0  0.0  0.0  0.0   \n",
       "\n",
       "    87   88   89   90   91   92  \n",
       "0  0.0  0.0  0.0  0.0  0.0  0.0  \n",
       "1  0.0  0.0  0.0  0.0  0.0  0.0  \n",
       "2  0.0  0.0  0.0  0.0  0.0  0.0  \n",
       "3  0.0  0.0  0.0  0.0  0.0  0.0  \n",
       "4  0.0  0.0  0.0  0.0  0.0  0.0  \n",
       "\n",
       "[5 rows x 93 columns]"
      ]
     },
     "execution_count": 247,
     "metadata": {},
     "output_type": "execute_result"
    }
   ],
   "source": [
    "df_labels.head()"
   ]
  },
  {
   "cell_type": "code",
   "execution_count": 248,
   "metadata": {},
   "outputs": [],
   "source": [
    "df_labels.columns = id_to_class"
   ]
  },
  {
   "cell_type": "code",
   "execution_count": 249,
   "metadata": {},
   "outputs": [
    {
     "data": {
      "text/html": [
       "<div>\n",
       "<style scoped>\n",
       "    .dataframe tbody tr th:only-of-type {\n",
       "        vertical-align: middle;\n",
       "    }\n",
       "\n",
       "    .dataframe tbody tr th {\n",
       "        vertical-align: top;\n",
       "    }\n",
       "\n",
       "    .dataframe thead th {\n",
       "        text-align: right;\n",
       "    }\n",
       "</style>\n",
       "<table border=\"1\" class=\"dataframe\">\n",
       "  <thead>\n",
       "    <tr style=\"text-align: right;\">\n",
       "      <th></th>\n",
       "      <th>mobius-function</th>\n",
       "      <th>queue</th>\n",
       "      <th>greedy</th>\n",
       "      <th>suffix-array</th>\n",
       "      <th>bitmasks</th>\n",
       "      <th>digit dp</th>\n",
       "      <th>lca</th>\n",
       "      <th>gcd</th>\n",
       "      <th>probabilities</th>\n",
       "      <th>combinatorics</th>\n",
       "      <th>...</th>\n",
       "      <th>geometry</th>\n",
       "      <th>lazy propagation</th>\n",
       "      <th>factorization</th>\n",
       "      <th>dsu</th>\n",
       "      <th>fft</th>\n",
       "      <th>segment-tree</th>\n",
       "      <th>hashing</th>\n",
       "      <th>bfs</th>\n",
       "      <th>prime</th>\n",
       "      <th>mo algorithm</th>\n",
       "    </tr>\n",
       "  </thead>\n",
       "  <tbody>\n",
       "    <tr>\n",
       "      <th>0</th>\n",
       "      <td>0.0</td>\n",
       "      <td>0.0</td>\n",
       "      <td>0.0</td>\n",
       "      <td>0.0</td>\n",
       "      <td>0.0</td>\n",
       "      <td>0.0</td>\n",
       "      <td>0.0</td>\n",
       "      <td>0.0</td>\n",
       "      <td>0.0</td>\n",
       "      <td>0.0</td>\n",
       "      <td>...</td>\n",
       "      <td>0.0</td>\n",
       "      <td>0.0</td>\n",
       "      <td>0.0</td>\n",
       "      <td>0.0</td>\n",
       "      <td>0.0</td>\n",
       "      <td>0.0</td>\n",
       "      <td>0.0</td>\n",
       "      <td>0.0</td>\n",
       "      <td>0.0</td>\n",
       "      <td>0.0</td>\n",
       "    </tr>\n",
       "    <tr>\n",
       "      <th>1</th>\n",
       "      <td>0.0</td>\n",
       "      <td>0.0</td>\n",
       "      <td>0.0</td>\n",
       "      <td>0.0</td>\n",
       "      <td>0.0</td>\n",
       "      <td>0.0</td>\n",
       "      <td>0.0</td>\n",
       "      <td>0.0</td>\n",
       "      <td>0.0</td>\n",
       "      <td>0.0</td>\n",
       "      <td>...</td>\n",
       "      <td>0.0</td>\n",
       "      <td>0.0</td>\n",
       "      <td>0.0</td>\n",
       "      <td>0.0</td>\n",
       "      <td>0.0</td>\n",
       "      <td>0.0</td>\n",
       "      <td>0.0</td>\n",
       "      <td>0.0</td>\n",
       "      <td>0.0</td>\n",
       "      <td>0.0</td>\n",
       "    </tr>\n",
       "    <tr>\n",
       "      <th>2</th>\n",
       "      <td>0.0</td>\n",
       "      <td>0.0</td>\n",
       "      <td>0.0</td>\n",
       "      <td>0.0</td>\n",
       "      <td>0.0</td>\n",
       "      <td>0.0</td>\n",
       "      <td>0.0</td>\n",
       "      <td>0.0</td>\n",
       "      <td>0.0</td>\n",
       "      <td>0.0</td>\n",
       "      <td>...</td>\n",
       "      <td>0.0</td>\n",
       "      <td>0.0</td>\n",
       "      <td>0.0</td>\n",
       "      <td>0.0</td>\n",
       "      <td>0.0</td>\n",
       "      <td>0.0</td>\n",
       "      <td>0.0</td>\n",
       "      <td>0.0</td>\n",
       "      <td>0.0</td>\n",
       "      <td>0.0</td>\n",
       "    </tr>\n",
       "    <tr>\n",
       "      <th>3</th>\n",
       "      <td>0.0</td>\n",
       "      <td>0.0</td>\n",
       "      <td>0.0</td>\n",
       "      <td>0.0</td>\n",
       "      <td>0.0</td>\n",
       "      <td>0.0</td>\n",
       "      <td>0.0</td>\n",
       "      <td>0.0</td>\n",
       "      <td>0.0</td>\n",
       "      <td>0.0</td>\n",
       "      <td>...</td>\n",
       "      <td>0.0</td>\n",
       "      <td>0.0</td>\n",
       "      <td>0.0</td>\n",
       "      <td>0.0</td>\n",
       "      <td>0.0</td>\n",
       "      <td>0.0</td>\n",
       "      <td>0.0</td>\n",
       "      <td>0.0</td>\n",
       "      <td>0.0</td>\n",
       "      <td>0.0</td>\n",
       "    </tr>\n",
       "    <tr>\n",
       "      <th>4</th>\n",
       "      <td>0.0</td>\n",
       "      <td>0.0</td>\n",
       "      <td>0.0</td>\n",
       "      <td>0.0</td>\n",
       "      <td>0.0</td>\n",
       "      <td>0.0</td>\n",
       "      <td>0.0</td>\n",
       "      <td>0.0</td>\n",
       "      <td>0.0</td>\n",
       "      <td>0.0</td>\n",
       "      <td>...</td>\n",
       "      <td>0.0</td>\n",
       "      <td>0.0</td>\n",
       "      <td>0.0</td>\n",
       "      <td>0.0</td>\n",
       "      <td>0.0</td>\n",
       "      <td>0.0</td>\n",
       "      <td>0.0</td>\n",
       "      <td>0.0</td>\n",
       "      <td>0.0</td>\n",
       "      <td>0.0</td>\n",
       "    </tr>\n",
       "  </tbody>\n",
       "</table>\n",
       "<p>5 rows × 93 columns</p>\n",
       "</div>"
      ],
      "text/plain": [
       "   mobius-function  queue  greedy  suffix-array  bitmasks  digit dp  lca  gcd  \\\n",
       "0              0.0    0.0     0.0           0.0       0.0       0.0  0.0  0.0   \n",
       "1              0.0    0.0     0.0           0.0       0.0       0.0  0.0  0.0   \n",
       "2              0.0    0.0     0.0           0.0       0.0       0.0  0.0  0.0   \n",
       "3              0.0    0.0     0.0           0.0       0.0       0.0  0.0  0.0   \n",
       "4              0.0    0.0     0.0           0.0       0.0       0.0  0.0  0.0   \n",
       "\n",
       "   probabilities  combinatorics      ...       geometry  lazy propagation  \\\n",
       "0            0.0            0.0      ...            0.0               0.0   \n",
       "1            0.0            0.0      ...            0.0               0.0   \n",
       "2            0.0            0.0      ...            0.0               0.0   \n",
       "3            0.0            0.0      ...            0.0               0.0   \n",
       "4            0.0            0.0      ...            0.0               0.0   \n",
       "\n",
       "   factorization  dsu  fft  segment-tree  hashing  bfs  prime  mo algorithm  \n",
       "0            0.0  0.0  0.0           0.0      0.0  0.0    0.0           0.0  \n",
       "1            0.0  0.0  0.0           0.0      0.0  0.0    0.0           0.0  \n",
       "2            0.0  0.0  0.0           0.0      0.0  0.0    0.0           0.0  \n",
       "3            0.0  0.0  0.0           0.0      0.0  0.0    0.0           0.0  \n",
       "4            0.0  0.0  0.0           0.0      0.0  0.0    0.0           0.0  \n",
       "\n",
       "[5 rows x 93 columns]"
      ]
     },
     "execution_count": 249,
     "metadata": {},
     "output_type": "execute_result"
    }
   ],
   "source": [
    "df_labels.head()"
   ]
  },
  {
   "cell_type": "code",
   "execution_count": 250,
   "metadata": {},
   "outputs": [],
   "source": [
    "df = pd.concat([df_text, df_labels], axis=1)"
   ]
  },
  {
   "cell_type": "code",
   "execution_count": 251,
   "metadata": {},
   "outputs": [
    {
     "data": {
      "text/html": [
       "<div>\n",
       "<style scoped>\n",
       "    .dataframe tbody tr th:only-of-type {\n",
       "        vertical-align: middle;\n",
       "    }\n",
       "\n",
       "    .dataframe tbody tr th {\n",
       "        vertical-align: top;\n",
       "    }\n",
       "\n",
       "    .dataframe thead th {\n",
       "        text-align: right;\n",
       "    }\n",
       "</style>\n",
       "<table border=\"1\" class=\"dataframe\">\n",
       "  <thead>\n",
       "    <tr style=\"text-align: right;\">\n",
       "      <th></th>\n",
       "      <th>text</th>\n",
       "      <th>mobius-function</th>\n",
       "      <th>queue</th>\n",
       "      <th>greedy</th>\n",
       "      <th>suffix-array</th>\n",
       "      <th>bitmasks</th>\n",
       "      <th>digit dp</th>\n",
       "      <th>lca</th>\n",
       "      <th>gcd</th>\n",
       "      <th>probabilities</th>\n",
       "      <th>...</th>\n",
       "      <th>geometry</th>\n",
       "      <th>lazy propagation</th>\n",
       "      <th>factorization</th>\n",
       "      <th>dsu</th>\n",
       "      <th>fft</th>\n",
       "      <th>segment-tree</th>\n",
       "      <th>hashing</th>\n",
       "      <th>bfs</th>\n",
       "      <th>prime</th>\n",
       "      <th>mo algorithm</th>\n",
       "    </tr>\n",
       "  </thead>\n",
       "  <tbody>\n",
       "    <tr>\n",
       "      <th>0</th>\n",
       "      <td>F. Cookies\\ntime limit per test\\n3 seconds\\nme...</td>\n",
       "      <td>0.0</td>\n",
       "      <td>0.0</td>\n",
       "      <td>0.0</td>\n",
       "      <td>0.0</td>\n",
       "      <td>0.0</td>\n",
       "      <td>0.0</td>\n",
       "      <td>0.0</td>\n",
       "      <td>0.0</td>\n",
       "      <td>0.0</td>\n",
       "      <td>...</td>\n",
       "      <td>0.0</td>\n",
       "      <td>0.0</td>\n",
       "      <td>0.0</td>\n",
       "      <td>0.0</td>\n",
       "      <td>0.0</td>\n",
       "      <td>0.0</td>\n",
       "      <td>0.0</td>\n",
       "      <td>0.0</td>\n",
       "      <td>0.0</td>\n",
       "      <td>0.0</td>\n",
       "    </tr>\n",
       "    <tr>\n",
       "      <th>1</th>\n",
       "      <td>C. Postcard\\ntime limit per test\\n1 second\\nme...</td>\n",
       "      <td>0.0</td>\n",
       "      <td>0.0</td>\n",
       "      <td>0.0</td>\n",
       "      <td>0.0</td>\n",
       "      <td>0.0</td>\n",
       "      <td>0.0</td>\n",
       "      <td>0.0</td>\n",
       "      <td>0.0</td>\n",
       "      <td>0.0</td>\n",
       "      <td>...</td>\n",
       "      <td>0.0</td>\n",
       "      <td>0.0</td>\n",
       "      <td>0.0</td>\n",
       "      <td>0.0</td>\n",
       "      <td>0.0</td>\n",
       "      <td>0.0</td>\n",
       "      <td>0.0</td>\n",
       "      <td>0.0</td>\n",
       "      <td>0.0</td>\n",
       "      <td>0.0</td>\n",
       "    </tr>\n",
       "    <tr>\n",
       "      <th>2</th>\n",
       "      <td>B. Squares and Segments\\ntime limit per test\\n...</td>\n",
       "      <td>0.0</td>\n",
       "      <td>0.0</td>\n",
       "      <td>0.0</td>\n",
       "      <td>0.0</td>\n",
       "      <td>0.0</td>\n",
       "      <td>0.0</td>\n",
       "      <td>0.0</td>\n",
       "      <td>0.0</td>\n",
       "      <td>0.0</td>\n",
       "      <td>...</td>\n",
       "      <td>0.0</td>\n",
       "      <td>0.0</td>\n",
       "      <td>0.0</td>\n",
       "      <td>0.0</td>\n",
       "      <td>0.0</td>\n",
       "      <td>0.0</td>\n",
       "      <td>0.0</td>\n",
       "      <td>0.0</td>\n",
       "      <td>0.0</td>\n",
       "      <td>0.0</td>\n",
       "    </tr>\n",
       "    <tr>\n",
       "      <th>3</th>\n",
       "      <td>A. Snowball\\ntime limit per test\\n1 second\\nme...</td>\n",
       "      <td>0.0</td>\n",
       "      <td>0.0</td>\n",
       "      <td>0.0</td>\n",
       "      <td>0.0</td>\n",
       "      <td>0.0</td>\n",
       "      <td>0.0</td>\n",
       "      <td>0.0</td>\n",
       "      <td>0.0</td>\n",
       "      <td>0.0</td>\n",
       "      <td>...</td>\n",
       "      <td>0.0</td>\n",
       "      <td>0.0</td>\n",
       "      <td>0.0</td>\n",
       "      <td>0.0</td>\n",
       "      <td>0.0</td>\n",
       "      <td>0.0</td>\n",
       "      <td>0.0</td>\n",
       "      <td>0.0</td>\n",
       "      <td>0.0</td>\n",
       "      <td>0.0</td>\n",
       "    </tr>\n",
       "    <tr>\n",
       "      <th>4</th>\n",
       "      <td>F. Ж-function\\ntime limit per test\\n6 seconds\\...</td>\n",
       "      <td>0.0</td>\n",
       "      <td>0.0</td>\n",
       "      <td>0.0</td>\n",
       "      <td>0.0</td>\n",
       "      <td>0.0</td>\n",
       "      <td>0.0</td>\n",
       "      <td>0.0</td>\n",
       "      <td>0.0</td>\n",
       "      <td>0.0</td>\n",
       "      <td>...</td>\n",
       "      <td>0.0</td>\n",
       "      <td>0.0</td>\n",
       "      <td>0.0</td>\n",
       "      <td>0.0</td>\n",
       "      <td>0.0</td>\n",
       "      <td>0.0</td>\n",
       "      <td>0.0</td>\n",
       "      <td>0.0</td>\n",
       "      <td>0.0</td>\n",
       "      <td>0.0</td>\n",
       "    </tr>\n",
       "  </tbody>\n",
       "</table>\n",
       "<p>5 rows × 94 columns</p>\n",
       "</div>"
      ],
      "text/plain": [
       "                                                text  mobius-function  queue  \\\n",
       "0  F. Cookies\\ntime limit per test\\n3 seconds\\nme...              0.0    0.0   \n",
       "1  C. Postcard\\ntime limit per test\\n1 second\\nme...              0.0    0.0   \n",
       "2  B. Squares and Segments\\ntime limit per test\\n...              0.0    0.0   \n",
       "3  A. Snowball\\ntime limit per test\\n1 second\\nme...              0.0    0.0   \n",
       "4  F. Ж-function\\ntime limit per test\\n6 seconds\\...              0.0    0.0   \n",
       "\n",
       "   greedy  suffix-array  bitmasks  digit dp  lca  gcd  probabilities  \\\n",
       "0     0.0           0.0       0.0       0.0  0.0  0.0            0.0   \n",
       "1     0.0           0.0       0.0       0.0  0.0  0.0            0.0   \n",
       "2     0.0           0.0       0.0       0.0  0.0  0.0            0.0   \n",
       "3     0.0           0.0       0.0       0.0  0.0  0.0            0.0   \n",
       "4     0.0           0.0       0.0       0.0  0.0  0.0            0.0   \n",
       "\n",
       "       ...       geometry  lazy propagation  factorization  dsu  fft  \\\n",
       "0      ...            0.0               0.0            0.0  0.0  0.0   \n",
       "1      ...            0.0               0.0            0.0  0.0  0.0   \n",
       "2      ...            0.0               0.0            0.0  0.0  0.0   \n",
       "3      ...            0.0               0.0            0.0  0.0  0.0   \n",
       "4      ...            0.0               0.0            0.0  0.0  0.0   \n",
       "\n",
       "   segment-tree  hashing  bfs  prime  mo algorithm  \n",
       "0           0.0      0.0  0.0    0.0           0.0  \n",
       "1           0.0      0.0  0.0    0.0           0.0  \n",
       "2           0.0      0.0  0.0    0.0           0.0  \n",
       "3           0.0      0.0  0.0    0.0           0.0  \n",
       "4           0.0      0.0  0.0    0.0           0.0  \n",
       "\n",
       "[5 rows x 94 columns]"
      ]
     },
     "execution_count": 251,
     "metadata": {},
     "output_type": "execute_result"
    }
   ],
   "source": [
    "df.head()"
   ]
  },
  {
   "cell_type": "code",
   "execution_count": 252,
   "metadata": {},
   "outputs": [
    {
     "data": {
      "text/plain": [
       "(4869, 94)"
      ]
     },
     "execution_count": 252,
     "metadata": {},
     "output_type": "execute_result"
    }
   ],
   "source": [
    "df.shape"
   ]
  },
  {
   "cell_type": "code",
   "execution_count": 253,
   "metadata": {},
   "outputs": [],
   "source": [
    "df.to_csv('codeforces_complete_with_union_of_codeforces_codechef_classes.csv', index=False)"
   ]
  },
  {
   "cell_type": "code",
   "execution_count": 254,
   "metadata": {},
   "outputs": [],
   "source": [
    "df1 = pd.read_csv('codeforces_complete_with_union_of_codeforces_codechef_classes.csv')"
   ]
  },
  {
   "cell_type": "code",
   "execution_count": 255,
   "metadata": {},
   "outputs": [
    {
     "data": {
      "text/html": [
       "<div>\n",
       "<style scoped>\n",
       "    .dataframe tbody tr th:only-of-type {\n",
       "        vertical-align: middle;\n",
       "    }\n",
       "\n",
       "    .dataframe tbody tr th {\n",
       "        vertical-align: top;\n",
       "    }\n",
       "\n",
       "    .dataframe thead th {\n",
       "        text-align: right;\n",
       "    }\n",
       "</style>\n",
       "<table border=\"1\" class=\"dataframe\">\n",
       "  <thead>\n",
       "    <tr style=\"text-align: right;\">\n",
       "      <th></th>\n",
       "      <th>text</th>\n",
       "      <th>mobius-function</th>\n",
       "      <th>queue</th>\n",
       "      <th>greedy</th>\n",
       "      <th>suffix-array</th>\n",
       "      <th>bitmasks</th>\n",
       "      <th>digit dp</th>\n",
       "      <th>lca</th>\n",
       "      <th>gcd</th>\n",
       "      <th>probabilities</th>\n",
       "      <th>...</th>\n",
       "      <th>geometry</th>\n",
       "      <th>lazy propagation</th>\n",
       "      <th>factorization</th>\n",
       "      <th>dsu</th>\n",
       "      <th>fft</th>\n",
       "      <th>segment-tree</th>\n",
       "      <th>hashing</th>\n",
       "      <th>bfs</th>\n",
       "      <th>prime</th>\n",
       "      <th>mo algorithm</th>\n",
       "    </tr>\n",
       "  </thead>\n",
       "  <tbody>\n",
       "    <tr>\n",
       "      <th>0</th>\n",
       "      <td>F. Cookies\\ntime limit per test\\n3 seconds\\nme...</td>\n",
       "      <td>0.0</td>\n",
       "      <td>0.0</td>\n",
       "      <td>0.0</td>\n",
       "      <td>0.0</td>\n",
       "      <td>0.0</td>\n",
       "      <td>0.0</td>\n",
       "      <td>0.0</td>\n",
       "      <td>0.0</td>\n",
       "      <td>0.0</td>\n",
       "      <td>...</td>\n",
       "      <td>0.0</td>\n",
       "      <td>0.0</td>\n",
       "      <td>0.0</td>\n",
       "      <td>0.0</td>\n",
       "      <td>0.0</td>\n",
       "      <td>0.0</td>\n",
       "      <td>0.0</td>\n",
       "      <td>0.0</td>\n",
       "      <td>0.0</td>\n",
       "      <td>0.0</td>\n",
       "    </tr>\n",
       "    <tr>\n",
       "      <th>1</th>\n",
       "      <td>C. Postcard\\ntime limit per test\\n1 second\\nme...</td>\n",
       "      <td>0.0</td>\n",
       "      <td>0.0</td>\n",
       "      <td>0.0</td>\n",
       "      <td>0.0</td>\n",
       "      <td>0.0</td>\n",
       "      <td>0.0</td>\n",
       "      <td>0.0</td>\n",
       "      <td>0.0</td>\n",
       "      <td>0.0</td>\n",
       "      <td>...</td>\n",
       "      <td>0.0</td>\n",
       "      <td>0.0</td>\n",
       "      <td>0.0</td>\n",
       "      <td>0.0</td>\n",
       "      <td>0.0</td>\n",
       "      <td>0.0</td>\n",
       "      <td>0.0</td>\n",
       "      <td>0.0</td>\n",
       "      <td>0.0</td>\n",
       "      <td>0.0</td>\n",
       "    </tr>\n",
       "    <tr>\n",
       "      <th>2</th>\n",
       "      <td>B. Squares and Segments\\ntime limit per test\\n...</td>\n",
       "      <td>0.0</td>\n",
       "      <td>0.0</td>\n",
       "      <td>0.0</td>\n",
       "      <td>0.0</td>\n",
       "      <td>0.0</td>\n",
       "      <td>0.0</td>\n",
       "      <td>0.0</td>\n",
       "      <td>0.0</td>\n",
       "      <td>0.0</td>\n",
       "      <td>...</td>\n",
       "      <td>0.0</td>\n",
       "      <td>0.0</td>\n",
       "      <td>0.0</td>\n",
       "      <td>0.0</td>\n",
       "      <td>0.0</td>\n",
       "      <td>0.0</td>\n",
       "      <td>0.0</td>\n",
       "      <td>0.0</td>\n",
       "      <td>0.0</td>\n",
       "      <td>0.0</td>\n",
       "    </tr>\n",
       "    <tr>\n",
       "      <th>3</th>\n",
       "      <td>A. Snowball\\ntime limit per test\\n1 second\\nme...</td>\n",
       "      <td>0.0</td>\n",
       "      <td>0.0</td>\n",
       "      <td>0.0</td>\n",
       "      <td>0.0</td>\n",
       "      <td>0.0</td>\n",
       "      <td>0.0</td>\n",
       "      <td>0.0</td>\n",
       "      <td>0.0</td>\n",
       "      <td>0.0</td>\n",
       "      <td>...</td>\n",
       "      <td>0.0</td>\n",
       "      <td>0.0</td>\n",
       "      <td>0.0</td>\n",
       "      <td>0.0</td>\n",
       "      <td>0.0</td>\n",
       "      <td>0.0</td>\n",
       "      <td>0.0</td>\n",
       "      <td>0.0</td>\n",
       "      <td>0.0</td>\n",
       "      <td>0.0</td>\n",
       "    </tr>\n",
       "    <tr>\n",
       "      <th>4</th>\n",
       "      <td>F. Ж-function\\ntime limit per test\\n6 seconds\\...</td>\n",
       "      <td>0.0</td>\n",
       "      <td>0.0</td>\n",
       "      <td>0.0</td>\n",
       "      <td>0.0</td>\n",
       "      <td>0.0</td>\n",
       "      <td>0.0</td>\n",
       "      <td>0.0</td>\n",
       "      <td>0.0</td>\n",
       "      <td>0.0</td>\n",
       "      <td>...</td>\n",
       "      <td>0.0</td>\n",
       "      <td>0.0</td>\n",
       "      <td>0.0</td>\n",
       "      <td>0.0</td>\n",
       "      <td>0.0</td>\n",
       "      <td>0.0</td>\n",
       "      <td>0.0</td>\n",
       "      <td>0.0</td>\n",
       "      <td>0.0</td>\n",
       "      <td>0.0</td>\n",
       "    </tr>\n",
       "  </tbody>\n",
       "</table>\n",
       "<p>5 rows × 94 columns</p>\n",
       "</div>"
      ],
      "text/plain": [
       "                                                text  mobius-function  queue  \\\n",
       "0  F. Cookies\\ntime limit per test\\n3 seconds\\nme...              0.0    0.0   \n",
       "1  C. Postcard\\ntime limit per test\\n1 second\\nme...              0.0    0.0   \n",
       "2  B. Squares and Segments\\ntime limit per test\\n...              0.0    0.0   \n",
       "3  A. Snowball\\ntime limit per test\\n1 second\\nme...              0.0    0.0   \n",
       "4  F. Ж-function\\ntime limit per test\\n6 seconds\\...              0.0    0.0   \n",
       "\n",
       "   greedy  suffix-array  bitmasks  digit dp  lca  gcd  probabilities  \\\n",
       "0     0.0           0.0       0.0       0.0  0.0  0.0            0.0   \n",
       "1     0.0           0.0       0.0       0.0  0.0  0.0            0.0   \n",
       "2     0.0           0.0       0.0       0.0  0.0  0.0            0.0   \n",
       "3     0.0           0.0       0.0       0.0  0.0  0.0            0.0   \n",
       "4     0.0           0.0       0.0       0.0  0.0  0.0            0.0   \n",
       "\n",
       "       ...       geometry  lazy propagation  factorization  dsu  fft  \\\n",
       "0      ...            0.0               0.0            0.0  0.0  0.0   \n",
       "1      ...            0.0               0.0            0.0  0.0  0.0   \n",
       "2      ...            0.0               0.0            0.0  0.0  0.0   \n",
       "3      ...            0.0               0.0            0.0  0.0  0.0   \n",
       "4      ...            0.0               0.0            0.0  0.0  0.0   \n",
       "\n",
       "   segment-tree  hashing  bfs  prime  mo algorithm  \n",
       "0           0.0      0.0  0.0    0.0           0.0  \n",
       "1           0.0      0.0  0.0    0.0           0.0  \n",
       "2           0.0      0.0  0.0    0.0           0.0  \n",
       "3           0.0      0.0  0.0    0.0           0.0  \n",
       "4           0.0      0.0  0.0    0.0           0.0  \n",
       "\n",
       "[5 rows x 94 columns]"
      ]
     },
     "execution_count": 255,
     "metadata": {},
     "output_type": "execute_result"
    }
   ],
   "source": [
    "df1.head()"
   ]
  },
  {
   "cell_type": "code",
   "execution_count": 256,
   "metadata": {},
   "outputs": [],
   "source": [
    "df2 = pd.read_csv('codechef_complete_with_union_of_codeforces_codechef_classes.csv')"
   ]
  },
  {
   "cell_type": "code",
   "execution_count": 257,
   "metadata": {},
   "outputs": [
    {
     "data": {
      "text/html": [
       "<div>\n",
       "<style scoped>\n",
       "    .dataframe tbody tr th:only-of-type {\n",
       "        vertical-align: middle;\n",
       "    }\n",
       "\n",
       "    .dataframe tbody tr th {\n",
       "        vertical-align: top;\n",
       "    }\n",
       "\n",
       "    .dataframe thead th {\n",
       "        text-align: right;\n",
       "    }\n",
       "</style>\n",
       "<table border=\"1\" class=\"dataframe\">\n",
       "  <thead>\n",
       "    <tr style=\"text-align: right;\">\n",
       "      <th></th>\n",
       "      <th>text</th>\n",
       "      <th>mobius-function</th>\n",
       "      <th>queue</th>\n",
       "      <th>greedy</th>\n",
       "      <th>suffix-array</th>\n",
       "      <th>bitmasks</th>\n",
       "      <th>digit dp</th>\n",
       "      <th>lca</th>\n",
       "      <th>gcd</th>\n",
       "      <th>probabilities</th>\n",
       "      <th>...</th>\n",
       "      <th>geometry</th>\n",
       "      <th>lazy propagation</th>\n",
       "      <th>factorization</th>\n",
       "      <th>dsu</th>\n",
       "      <th>fft</th>\n",
       "      <th>segment-tree</th>\n",
       "      <th>hashing</th>\n",
       "      <th>bfs</th>\n",
       "      <th>prime</th>\n",
       "      <th>mo algorithm</th>\n",
       "    </tr>\n",
       "  </thead>\n",
       "  <tbody>\n",
       "    <tr>\n",
       "      <th>0</th>\n",
       "      <td>\\n Read problems statements in Russian \\nhere\\...</td>\n",
       "      <td>0.0</td>\n",
       "      <td>1.0</td>\n",
       "      <td>0.0</td>\n",
       "      <td>0.0</td>\n",
       "      <td>0.0</td>\n",
       "      <td>0.0</td>\n",
       "      <td>0.0</td>\n",
       "      <td>0.0</td>\n",
       "      <td>0.0</td>\n",
       "      <td>...</td>\n",
       "      <td>0.0</td>\n",
       "      <td>0.0</td>\n",
       "      <td>0.0</td>\n",
       "      <td>0.0</td>\n",
       "      <td>0.0</td>\n",
       "      <td>0.0</td>\n",
       "      <td>0.0</td>\n",
       "      <td>0.0</td>\n",
       "      <td>0.0</td>\n",
       "      <td>0.0</td>\n",
       "    </tr>\n",
       "    <tr>\n",
       "      <th>1</th>\n",
       "      <td>\\nYou are given a sequence of N integers, a[1]...</td>\n",
       "      <td>0.0</td>\n",
       "      <td>0.0</td>\n",
       "      <td>0.0</td>\n",
       "      <td>0.0</td>\n",
       "      <td>0.0</td>\n",
       "      <td>0.0</td>\n",
       "      <td>0.0</td>\n",
       "      <td>0.0</td>\n",
       "      <td>0.0</td>\n",
       "      <td>...</td>\n",
       "      <td>0.0</td>\n",
       "      <td>0.0</td>\n",
       "      <td>0.0</td>\n",
       "      <td>0.0</td>\n",
       "      <td>0.0</td>\n",
       "      <td>0.0</td>\n",
       "      <td>0.0</td>\n",
       "      <td>0.0</td>\n",
       "      <td>0.0</td>\n",
       "      <td>0.0</td>\n",
       "    </tr>\n",
       "    <tr>\n",
       "      <th>2</th>\n",
       "      <td>\\nChef has a string \\nS\\n. Initially, this str...</td>\n",
       "      <td>0.0</td>\n",
       "      <td>0.0</td>\n",
       "      <td>0.0</td>\n",
       "      <td>0.0</td>\n",
       "      <td>0.0</td>\n",
       "      <td>0.0</td>\n",
       "      <td>0.0</td>\n",
       "      <td>0.0</td>\n",
       "      <td>0.0</td>\n",
       "      <td>...</td>\n",
       "      <td>0.0</td>\n",
       "      <td>0.0</td>\n",
       "      <td>0.0</td>\n",
       "      <td>0.0</td>\n",
       "      <td>0.0</td>\n",
       "      <td>0.0</td>\n",
       "      <td>0.0</td>\n",
       "      <td>0.0</td>\n",
       "      <td>0.0</td>\n",
       "      <td>0.0</td>\n",
       "    </tr>\n",
       "    <tr>\n",
       "      <th>3</th>\n",
       "      <td>\\nIn the secret vault, Eon gets information ab...</td>\n",
       "      <td>0.0</td>\n",
       "      <td>0.0</td>\n",
       "      <td>0.0</td>\n",
       "      <td>0.0</td>\n",
       "      <td>0.0</td>\n",
       "      <td>0.0</td>\n",
       "      <td>0.0</td>\n",
       "      <td>0.0</td>\n",
       "      <td>0.0</td>\n",
       "      <td>...</td>\n",
       "      <td>0.0</td>\n",
       "      <td>0.0</td>\n",
       "      <td>0.0</td>\n",
       "      <td>0.0</td>\n",
       "      <td>0.0</td>\n",
       "      <td>0.0</td>\n",
       "      <td>0.0</td>\n",
       "      <td>1.0</td>\n",
       "      <td>0.0</td>\n",
       "      <td>0.0</td>\n",
       "    </tr>\n",
       "    <tr>\n",
       "      <th>4</th>\n",
       "      <td>\\n Read problems statements in \\nMandarin Chin...</td>\n",
       "      <td>0.0</td>\n",
       "      <td>0.0</td>\n",
       "      <td>0.0</td>\n",
       "      <td>0.0</td>\n",
       "      <td>1.0</td>\n",
       "      <td>0.0</td>\n",
       "      <td>0.0</td>\n",
       "      <td>0.0</td>\n",
       "      <td>0.0</td>\n",
       "      <td>...</td>\n",
       "      <td>0.0</td>\n",
       "      <td>0.0</td>\n",
       "      <td>0.0</td>\n",
       "      <td>0.0</td>\n",
       "      <td>0.0</td>\n",
       "      <td>0.0</td>\n",
       "      <td>0.0</td>\n",
       "      <td>0.0</td>\n",
       "      <td>0.0</td>\n",
       "      <td>0.0</td>\n",
       "    </tr>\n",
       "  </tbody>\n",
       "</table>\n",
       "<p>5 rows × 94 columns</p>\n",
       "</div>"
      ],
      "text/plain": [
       "                                                text  mobius-function  queue  \\\n",
       "0  \\n Read problems statements in Russian \\nhere\\...              0.0    1.0   \n",
       "1  \\nYou are given a sequence of N integers, a[1]...              0.0    0.0   \n",
       "2  \\nChef has a string \\nS\\n. Initially, this str...              0.0    0.0   \n",
       "3  \\nIn the secret vault, Eon gets information ab...              0.0    0.0   \n",
       "4  \\n Read problems statements in \\nMandarin Chin...              0.0    0.0   \n",
       "\n",
       "   greedy  suffix-array  bitmasks  digit dp  lca  gcd  probabilities  \\\n",
       "0     0.0           0.0       0.0       0.0  0.0  0.0            0.0   \n",
       "1     0.0           0.0       0.0       0.0  0.0  0.0            0.0   \n",
       "2     0.0           0.0       0.0       0.0  0.0  0.0            0.0   \n",
       "3     0.0           0.0       0.0       0.0  0.0  0.0            0.0   \n",
       "4     0.0           0.0       1.0       0.0  0.0  0.0            0.0   \n",
       "\n",
       "       ...       geometry  lazy propagation  factorization  dsu  fft  \\\n",
       "0      ...            0.0               0.0            0.0  0.0  0.0   \n",
       "1      ...            0.0               0.0            0.0  0.0  0.0   \n",
       "2      ...            0.0               0.0            0.0  0.0  0.0   \n",
       "3      ...            0.0               0.0            0.0  0.0  0.0   \n",
       "4      ...            0.0               0.0            0.0  0.0  0.0   \n",
       "\n",
       "   segment-tree  hashing  bfs  prime  mo algorithm  \n",
       "0           0.0      0.0  0.0    0.0           0.0  \n",
       "1           0.0      0.0  0.0    0.0           0.0  \n",
       "2           0.0      0.0  0.0    0.0           0.0  \n",
       "3           0.0      0.0  1.0    0.0           0.0  \n",
       "4           0.0      0.0  0.0    0.0           0.0  \n",
       "\n",
       "[5 rows x 94 columns]"
      ]
     },
     "execution_count": 257,
     "metadata": {},
     "output_type": "execute_result"
    }
   ],
   "source": [
    "df2.head()"
   ]
  },
  {
   "cell_type": "code",
   "execution_count": 258,
   "metadata": {},
   "outputs": [],
   "source": [
    "df = pd.concat([df1, df2], axis=0)"
   ]
  },
  {
   "cell_type": "code",
   "execution_count": 259,
   "metadata": {},
   "outputs": [
    {
     "data": {
      "text/plain": [
       "(7598, 94)"
      ]
     },
     "execution_count": 259,
     "metadata": {},
     "output_type": "execute_result"
    }
   ],
   "source": [
    "df.shape"
   ]
  },
  {
   "cell_type": "code",
   "execution_count": 260,
   "metadata": {},
   "outputs": [],
   "source": [
    "df.to_csv('competitive.csv', index=False)"
   ]
  },
  {
   "cell_type": "code",
   "execution_count": null,
   "metadata": {},
   "outputs": [],
   "source": []
  }
 ],
 "metadata": {
  "kernelspec": {
   "display_name": "Python 3",
   "language": "python",
   "name": "python3"
  },
  "language_info": {
   "codemirror_mode": {
    "name": "ipython",
    "version": 3
   },
   "file_extension": ".py",
   "mimetype": "text/x-python",
   "name": "python",
   "nbconvert_exporter": "python",
   "pygments_lexer": "ipython3",
   "version": "3.6.7"
  }
 },
 "nbformat": 4,
 "nbformat_minor": 2
}
