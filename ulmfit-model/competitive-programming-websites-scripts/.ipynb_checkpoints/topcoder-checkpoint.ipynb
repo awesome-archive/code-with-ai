{
 "cells": [
  {
   "cell_type": "code",
   "execution_count": 1,
   "metadata": {},
   "outputs": [],
   "source": [
    "from urllib.request import urlopen\n",
    "from bs4 import BeautifulSoup\n",
    "from IPython.core.debugger import Tracer\n",
    "import re\n",
    "import pickle"
   ]
  },
  {
   "cell_type": "code",
   "execution_count": 38,
   "metadata": {},
   "outputs": [],
   "source": [
    "url = 'https://community.topcoder.com/tc?module=ProblemArchive&sr=4551&er=4600&sc=&sd=&class=&cat=&div1l=&div2l=&mind1s=&mind2s=&maxd1s=&maxd2s=&wr='"
   ]
  },
  {
   "cell_type": "code",
   "execution_count": 39,
   "metadata": {},
   "outputs": [
    {
     "name": "stdout",
     "output_type": "stream",
     "text": [
      "TopCoder Statistics - Problem Archive\n"
     ]
    }
   ],
   "source": [
    "html_doc = ''\n",
    "with urlopen(url) as response:\n",
    "    for line in response:\n",
    "        line = line.decode('utf-8')\n",
    "        html_doc = html_doc + line.replace('\\n','')\n",
    "soup = BeautifulSoup(html_doc, 'html.parser')\n",
    "print(soup.title.string)"
   ]
  },
  {
   "cell_type": "code",
   "execution_count": 40,
   "metadata": {},
   "outputs": [],
   "source": [
    "form = soup.find('form', {'name': 'problemListForm'})"
   ]
  },
  {
   "cell_type": "code",
   "execution_count": 41,
   "metadata": {},
   "outputs": [],
   "source": [
    "table = form.find_all('table')[-1]"
   ]
  },
  {
   "cell_type": "code",
   "execution_count": 42,
   "metadata": {},
   "outputs": [],
   "source": [
    "rows = table.find_all('tr')[3:-6]"
   ]
  },
  {
   "cell_type": "code",
   "execution_count": 43,
   "metadata": {},
   "outputs": [
    {
     "data": {
      "text/plain": [
       "39"
      ]
     },
     "execution_count": 43,
     "metadata": {},
     "output_type": "execute_result"
    }
   ],
   "source": [
    "len(rows)"
   ]
  },
  {
   "cell_type": "code",
   "execution_count": 44,
   "metadata": {},
   "outputs": [],
   "source": [
    "row = rows[2]"
   ]
  },
  {
   "cell_type": "code",
   "execution_count": 45,
   "metadata": {},
   "outputs": [],
   "source": [
    "tds =  row.find_all('td')"
   ]
  },
  {
   "cell_type": "code",
   "execution_count": 46,
   "metadata": {},
   "outputs": [
    {
     "data": {
      "text/plain": [
       "'/stat?c=problem_statement&pm=202'"
      ]
     },
     "execution_count": 46,
     "metadata": {},
     "output_type": "execute_result"
    }
   ],
   "source": [
    "tds[1].a['href']"
   ]
  },
  {
   "cell_type": "code",
   "execution_count": 47,
   "metadata": {},
   "outputs": [
    {
     "data": {
      "text/plain": [
       "'            Brute Force, Search        '"
      ]
     },
     "execution_count": 47,
     "metadata": {},
     "output_type": "execute_result"
    }
   ],
   "source": [
    "tds[5].text"
   ]
  },
  {
   "cell_type": "code",
   "execution_count": 48,
   "metadata": {},
   "outputs": [
    {
     "data": {
      "text/plain": [
       "'            3        '"
      ]
     },
     "execution_count": 48,
     "metadata": {},
     "output_type": "execute_result"
    }
   ],
   "source": [
    "# Div 1 level\n",
    "tds[6].text"
   ]
  },
  {
   "cell_type": "code",
   "execution_count": 49,
   "metadata": {},
   "outputs": [
    {
     "data": {
      "text/plain": [
       "'            66.67%        '"
      ]
     },
     "execution_count": 49,
     "metadata": {},
     "output_type": "execute_result"
    }
   ],
   "source": [
    "# Div 1 success rate\n",
    "tds[7].text"
   ]
  },
  {
   "cell_type": "code",
   "execution_count": 50,
   "metadata": {},
   "outputs": [
    {
     "data": {
      "text/plain": [
       "' '"
      ]
     },
     "execution_count": 50,
     "metadata": {},
     "output_type": "execute_result"
    }
   ],
   "source": [
    "# Div 2 level\n",
    "tds[8].text"
   ]
  },
  {
   "cell_type": "code",
   "execution_count": 51,
   "metadata": {},
   "outputs": [
    {
     "data": {
      "text/plain": [
       "' '"
      ]
     },
     "execution_count": 51,
     "metadata": {},
     "output_type": "execute_result"
    }
   ],
   "source": [
    "# Div 2 success rate\n",
    "tds[9].text"
   ]
  },
  {
   "cell_type": "code",
   "execution_count": null,
   "metadata": {},
   "outputs": [],
   "source": [
    "# Getting the problem"
   ]
  },
  {
   "cell_type": "code",
   "execution_count": 52,
   "metadata": {},
   "outputs": [],
   "source": [
    "url = 'https://community.topcoder.com/stat?c=problem_statement&pm=1018'"
   ]
  },
  {
   "cell_type": "code",
   "execution_count": 53,
   "metadata": {},
   "outputs": [],
   "source": [
    "html_doc = ''\n",
    "with urlopen(url) as response:\n",
    "    for line in response:\n",
    "        line = line.decode('utf-8')\n",
    "        html_doc = html_doc + line.replace('\\n','')\n",
    "soup = BeautifulSoup(html_doc, 'html.parser')"
   ]
  },
  {
   "cell_type": "code",
   "execution_count": 54,
   "metadata": {},
   "outputs": [],
   "source": [
    "div = soup.find('td',{'class':'problemText'})"
   ]
  },
  {
   "cell_type": "code",
   "execution_count": 57,
   "metadata": {},
   "outputs": [
    {
     "name": "stdout",
     "output_type": "stream",
     "text": [
      " \n",
      "Problem Statement\n",
      "    \n",
      "Comments are an important part of most code, however, in some circumstances, theyend up just taking up space, and bandwidth.  Your task is to write a classComment with a method strip, which removes all the comments from apiece of code.  For this problem, we will consider only two type of comments:comments starting with \"//\" and comments starting with \"/*\" and ending with\"*/\".  The first type of comments removes everything starting from \"//\" untilthe end of the line.  The second type of comment removes everything, startingat \"/*\", until the sequence \"*/\" is found.  In addition comments may not benested in any way.  So, as soon as a \"/*\" comment is opened, everything iscommented, until a \"*/\" is found.  Thus the String \"/*//*/code\", withoutcomments, is \"code\".  Note that even though \"//\" is present, it does notcomment out code, because it is commented out itself, by the comment startingwith \"/*\".  Similarly, the neither \"//*\" nor \"///*\" open a \"/*\" comment, because everything after the \"//\" is already commented out, and thus can notstart a comment.\n",
      "However, it is not enough to simple search for the sequence \"//\" and \"/*\",because these could be surrounded by quotes, and thus not a comment.  Forexample, in the code:\n",
      "String s = \"//\";\n",
      "\"//\" does not start a comment, because it is part of a String.  A String beginsat a '\"', which is not commented.  A String ends at the first non-escaped '\"'.An escaped quote is one that is preceded by a '\\'.  Any time a backslash isfound, within a string, the next character is escaped, and the two of themtogether make one character.  For example, in java, c++, and c# \"\\n\" representsa new line, \"\\\"\" represents a quote, and \"\\\\\" represents a single '\\'(not two, because the first one escapes the second, and together they make one'\\').Your method must take all of this into consideration when removing comments.It must remove the rest of the line, when a \"//\" comment is found, and removecharacters starting with \"/*\" up to \"*/\" whenever a \"/*\" comment is found.  \n",
      "Inaddition, it must take into account that characters which are part of a String,cannot begin a comment (though they may end a comment which was previouslybegun by \"/*\").  You will be given an input String[], code, where each elementrepresents a line of code.  Your method should remove all of the commentedparts of the code, and return the result.  If, after removing commented text,any of the lines have been entirely removed, your return should not containelements for those lines.\n",
      "To summarize:\n",
      "Upon finding \"//\" (not in a String) - remove the entire rest of the line.\n",
      "Upon finding \"/*\" (not in a String) - remove all character until \"*/\"\n",
      "Upon finding '\"' (not in a comment) - all characters until the next unescapedquote are part of a String, and can not start a comment.\n",
      "Upon finding '\\' (in a String) - the next character is escaped, and can notclose the String.\n",
      " \n",
      "Definition\n",
      "    \n",
      "Class:\n",
      "Comment\n",
      "Method:\n",
      "strip\n",
      "Parameters:\n",
      "String[]\n",
      "Returns:\n",
      "String[]\n",
      "Method signature:\n",
      "String[] strip(String[] code)\n",
      "(be sure your method is public)\n",
      "    \n",
      " \n",
      "Notes\n",
      "-\n",
      "code will not neccessarily be syntactically correct.  Your method should remove based simply on the rules above.\n",
      "-\n",
      "When removing characters after finding \"/*\", remove until \"*/\" is found.  Do not worry about the */ being part of a String, as everything between \"/*\" and \"*/\" is part of a comment, and thus can not be a String.\n",
      "-\n",
      "For the purposes of this problem, characters may only by escaped by '\\' when they are within a String.\n",
      "-\n",
      "The beginning of a comment must be on one line.  Thus if one element ends with '/' and the next element starts with '*', this will not start a comment.\n",
      "-\n",
      "\"/*\" comments may not be nested.  After removing comments, \"/*/**/*/\" becomes \"*/\"\n",
      "-\n",
      "In reality, you would have to deal with code like \"char c = '\"';//comment\" (single quote, double quote, single quote). However, for the purposes of this problem, you should treat such sequences as described above, in which case there are no comments here because the quote starts a String.\n",
      " \n",
      "Constraints\n",
      "-\n",
      "code will contain between 1 and 50 elements, inclusive.\n",
      "-\n",
      "Each element of code will contain between 1 and 50 characters, inclusive.\n",
      "-\n",
      "Each character of each element of code will be a letter ('a' to 'z' or 'A' to 'Z'), a number ('0' to '9'), a space, or a character from: ;:\"',<.>/?[{]}\\|`~!@#$%^&*()-_=+\n",
      "-\n",
      "All \"/*\" comments will be closed by the end of the last element of code.\n",
      "-\n",
      "All Strings (uncommented code starting with '\"') will be closed before the end of the line they were started on.\n",
      " \n",
      "Examples\n",
      "0)\n",
      "    \n",
      "{\"public class Comment{\",\" public String[] strip(String[] code){\",\"//this isn't right!\",\"  return code;\",\" }\",\"}\"}\n",
      "Returns: { \"public class Comment{\", \" public String[] strip(String[] code){\", \"  return code;\", \" }\", \"}\" }\n",
      "We remove the one commented line.\n",
      "1)\n",
      "    \n",
      "{\"/*public class Comment{\",\" public String[] strip(String[] code){\",\"//this isn't right!\",\"  return code;\",\" }\",\"}*/\"}\n",
      "Returns: { }\n",
      "Here, everything is commented out.\n",
      "2)\n",
      "    \n",
      "{\"String s = \\\"\\\\\\\"/**/\\\\\\\"\\\"\"}\n",
      "Returns: { \"String s = \\\"\\\\\\\"/**/\\\\\\\"\\\"\" }\n",
      "The strings above are doubly escaped so that you can use the {} button in the arena.  The actual input and output string are the same and are:\n",
      "String s = \"\\\"/**/\\\"\"\n",
      "3)\n",
      "    \n",
      "{\"public class Comment{\",\" public String[] strip(String[] code){\",\" //this isn't right!\",\"  return code;\",\" }\",\"}\"}\n",
      "Returns: { \"public class Comment{\", \" public String[] strip(String[] code){\", \" \", \"  return code;\", \" }\", \"}\" }\n",
      "4)\n",
      "    \n",
      "{\"char c = '\\\"'//\\\"\"}\n",
      "Returns: { \"char c = '\\\"'//\\\"\" }\n",
      "note again that there are extra escape characters.\n",
      "This problem statement is the exclusive and proprietary property of TopCoder, Inc.  Any unauthorized use or reproduction of this information without the prior written consent of TopCoder, Inc. is strictly prohibited.  (c)2010, TopCoder, Inc.  All rights reserved.  \n",
      " \n"
     ]
    }
   ],
   "source": [
    "print(div.get_text(separator=\"\\n\"))"
   ]
  },
  {
   "cell_type": "code",
   "execution_count": null,
   "metadata": {},
   "outputs": [],
   "source": []
  }
 ],
 "metadata": {
  "kernelspec": {
   "display_name": "Python 3",
   "language": "python",
   "name": "python3"
  },
  "language_info": {
   "codemirror_mode": {
    "name": "ipython",
    "version": 3
   },
   "file_extension": ".py",
   "mimetype": "text/x-python",
   "name": "python",
   "nbconvert_exporter": "python",
   "pygments_lexer": "ipython3",
   "version": "3.6.7"
  }
 },
 "nbformat": 4,
 "nbformat_minor": 2
}
