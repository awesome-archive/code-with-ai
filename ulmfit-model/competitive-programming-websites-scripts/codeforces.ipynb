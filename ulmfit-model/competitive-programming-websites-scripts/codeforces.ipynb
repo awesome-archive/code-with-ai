{
 "cells": [
  {
   "cell_type": "code",
   "execution_count": 2,
   "metadata": {},
   "outputs": [],
   "source": [
    "from urllib.request import urlopen\n",
    "from bs4 import BeautifulSoup\n",
    "from IPython.core.debugger import Tracer\n",
    "import re\n",
    "import pickle"
   ]
  },
  {
   "cell_type": "code",
   "execution_count": 25,
   "metadata": {},
   "outputs": [],
   "source": [
    "url = 'https://codeforces.com/problemset/page/3'"
   ]
  },
  {
   "cell_type": "code",
   "execution_count": 26,
   "metadata": {},
   "outputs": [
    {
     "name": "stdout",
     "output_type": "stream",
     "text": [
      "Problemset - Codeforces\n"
     ]
    }
   ],
   "source": [
    "html_doc = ''\n",
    "with urlopen(url) as response:\n",
    "    for line in response:\n",
    "        line = line.decode('utf-8')\n",
    "        html_doc = html_doc + line.replace('\\n','')\n",
    "soup = BeautifulSoup(html_doc, 'html.parser')\n",
    "print(soup.title.string)"
   ]
  },
  {
   "cell_type": "code",
   "execution_count": 27,
   "metadata": {},
   "outputs": [],
   "source": [
    "table = soup.find('table', {'class': 'problems'})"
   ]
  },
  {
   "cell_type": "code",
   "execution_count": 28,
   "metadata": {},
   "outputs": [],
   "source": [
    "rows = table.find_all('tr')"
   ]
  },
  {
   "cell_type": "code",
   "execution_count": 29,
   "metadata": {},
   "outputs": [
    {
     "data": {
      "text/plain": [
       "101"
      ]
     },
     "execution_count": 29,
     "metadata": {},
     "output_type": "execute_result"
    }
   ],
   "source": [
    "len(rows)"
   ]
  },
  {
   "cell_type": "code",
   "execution_count": 30,
   "metadata": {},
   "outputs": [],
   "source": [
    "row = rows[8]"
   ]
  },
  {
   "cell_type": "code",
   "execution_count": 31,
   "metadata": {},
   "outputs": [
    {
     "data": {
      "text/plain": [
       "<tr> <td class=\"id\"> <a href=\"/problemset/problem/1060/C\">\n",
       "                1060C\n",
       "                </a> </td> <td> <div style=\"float: left;\"> <a href=\"/problemset/problem/1060/C\">\n",
       "Maximum Subrectangle                    </a> </div> <div style=\"float: right; font-size: 1.1rem; padding-top: 1px; text-align: right;\"> <a class=\"notice\" href=\"/problemset?tags=binary+search\" style=\"text-decoration: none;\" title=\"Binary search\">binary search</a>,\n",
       "                        <a class=\"notice\" href=\"/problemset?tags=implementation\" style=\"text-decoration: none;\" title=\"Implementation problems, programming technics, simulation\">implementation</a>,\n",
       "                        <a class=\"notice\" href=\"/problemset?tags=two+pointers\" style=\"text-decoration: none;\" title=\"Two pointers\">two pointers</a> </div> </td> <td class=\"act\"> <span class=\"act-item\"> <a href=\"/problemset/submit/1060/C\"><img alt=\"Submit\" src=\"//st.codeforces.com/s/15513/images/icons/submit-22x22.png\" title=\"Submit\"/></a> </span> </td> <td style=\"font-size: 1.1rem\"> <span class=\"ProblemRating\" title=\"Difficulty\">1600</span> </td> <td style=\"font-size: 1.1rem;\"> <a href=\"/problemset/status/1060/problem/C\" title=\"Participants solved the problem\"><img src=\"//st.codeforces.com/s/15513/images/icons/user.png\" style=\"vertical-align:middle;\"/> x2901</a> </td> </tr>"
      ]
     },
     "execution_count": 31,
     "metadata": {},
     "output_type": "execute_result"
    }
   ],
   "source": [
    "row"
   ]
  },
  {
   "cell_type": "code",
   "execution_count": 32,
   "metadata": {},
   "outputs": [],
   "source": [
    "tds =  row.find_all('td')"
   ]
  },
  {
   "cell_type": "code",
   "execution_count": 33,
   "metadata": {},
   "outputs": [
    {
     "data": {
      "text/plain": [
       "'/problemset/problem/1060/C'"
      ]
     },
     "execution_count": 33,
     "metadata": {},
     "output_type": "execute_result"
    }
   ],
   "source": [
    "tds[0].a['href']"
   ]
  },
  {
   "cell_type": "code",
   "execution_count": 34,
   "metadata": {},
   "outputs": [
    {
     "data": {
      "text/plain": [
       "[<a class=\"notice\" href=\"/problemset?tags=binary+search\" style=\"text-decoration: none;\" title=\"Binary search\">binary search</a>,\n",
       " <a class=\"notice\" href=\"/problemset?tags=implementation\" style=\"text-decoration: none;\" title=\"Implementation problems, programming technics, simulation\">implementation</a>,\n",
       " <a class=\"notice\" href=\"/problemset?tags=two+pointers\" style=\"text-decoration: none;\" title=\"Two pointers\">two pointers</a>]"
      ]
     },
     "execution_count": 34,
     "metadata": {},
     "output_type": "execute_result"
    }
   ],
   "source": [
    "tds[1].find_all('a',{'class':'notice'})"
   ]
  },
  {
   "cell_type": "code",
   "execution_count": 35,
   "metadata": {},
   "outputs": [],
   "source": [
    "typeLabelsAnchors = tds[1].find_all('a',{'class':'notice'})"
   ]
  },
  {
   "cell_type": "code",
   "execution_count": 36,
   "metadata": {},
   "outputs": [
    {
     "data": {
      "text/plain": [
       "['binary search', 'implementation', 'two pointers']"
      ]
     },
     "execution_count": 36,
     "metadata": {},
     "output_type": "execute_result"
    }
   ],
   "source": [
    "typeLabels = []\n",
    "for labelAnchor in typeLabelsAnchors:\n",
    "    typeLabels.append(labelAnchor.text)\n",
    "typeLabels"
   ]
  },
  {
   "cell_type": "code",
   "execution_count": 37,
   "metadata": {},
   "outputs": [
    {
     "data": {
      "text/plain": [
       "' 1600 '"
      ]
     },
     "execution_count": 37,
     "metadata": {},
     "output_type": "execute_result"
    }
   ],
   "source": [
    "tds[3].text"
   ]
  },
  {
   "cell_type": "code",
   "execution_count": 38,
   "metadata": {},
   "outputs": [],
   "source": [
    "problemLink1 = []\n",
    "problemTags1 = []\n",
    "problemDifficulty1 = []"
   ]
  },
  {
   "cell_type": "code",
   "execution_count": 39,
   "metadata": {},
   "outputs": [],
   "source": [
    "for row in rows:\n",
    "    tds =  row.find_all('td')\n",
    "    if len(tds) == 0:\n",
    "        continue\n",
    "#     getting the problem link\n",
    "    problemLink1.append(tds[0].a['href'])\n",
    "#     getting type labels\n",
    "    typeLabelsAnchors = tds[1].find_all('a',{'class':'notice'})\n",
    "    typeLabels = []\n",
    "    for labelAnchor in typeLabelsAnchors:\n",
    "        typeLabels.append(labelAnchor.text)\n",
    "    problemTags1.append(typeLabels)\n",
    "#     getting difficulty level\n",
    "    problemDifficulty1.append(tds[3].text)"
   ]
  },
  {
   "cell_type": "code",
   "execution_count": 40,
   "metadata": {},
   "outputs": [
    {
     "data": {
      "text/plain": [
       "(100, 100, 100)"
      ]
     },
     "execution_count": 40,
     "metadata": {},
     "output_type": "execute_result"
    }
   ],
   "source": [
    "len(problemLink1), len(problemTags1), len(problemDifficulty1)"
   ]
  },
  {
   "cell_type": "code",
   "execution_count": 41,
   "metadata": {},
   "outputs": [
    {
     "data": {
      "text/plain": [
       "[]"
      ]
     },
     "execution_count": 41,
     "metadata": {},
     "output_type": "execute_result"
    }
   ],
   "source": [
    "problemLink[-10:]"
   ]
  },
  {
   "cell_type": "code",
   "execution_count": 42,
   "metadata": {},
   "outputs": [
    {
     "data": {
      "text/plain": [
       "[]"
      ]
     },
     "execution_count": 42,
     "metadata": {},
     "output_type": "execute_result"
    }
   ],
   "source": [
    "problemTags[-10:]"
   ]
  },
  {
   "cell_type": "code",
   "execution_count": 43,
   "metadata": {},
   "outputs": [
    {
     "data": {
      "text/plain": [
       "[]"
      ]
     },
     "execution_count": 43,
     "metadata": {},
     "output_type": "execute_result"
    }
   ],
   "source": [
    "problemDifficulty[-10:]"
   ]
  },
  {
   "cell_type": "code",
   "execution_count": 44,
   "metadata": {},
   "outputs": [],
   "source": [
    "problemLink = []\n",
    "problemTags = []\n",
    "problemDifficulty = []"
   ]
  },
  {
   "cell_type": "code",
   "execution_count": 45,
   "metadata": {},
   "outputs": [
    {
     "name": "stdout",
     "output_type": "stream",
     "text": [
      "Done: 0\n",
      "Done: 1\n",
      "Done: 2\n",
      "Done: 3\n",
      "Done: 4\n",
      "Done: 5\n",
      "Done: 6\n",
      "Done: 7\n",
      "Done: 8\n",
      "Done: 9\n",
      "Done: 10\n",
      "Done: 11\n",
      "Done: 12\n",
      "Done: 13\n",
      "Done: 14\n",
      "Done: 15\n",
      "Done: 16\n",
      "Done: 17\n",
      "Done: 18\n",
      "Done: 19\n",
      "Done: 20\n",
      "Done: 21\n",
      "Done: 22\n",
      "Done: 23\n",
      "Done: 24\n",
      "Done: 25\n",
      "Done: 26\n",
      "Done: 27\n",
      "Done: 28\n",
      "Done: 29\n",
      "Done: 30\n",
      "Done: 31\n",
      "Done: 32\n",
      "Done: 33\n",
      "Done: 34\n",
      "Done: 35\n",
      "Done: 36\n",
      "Done: 37\n",
      "Done: 38\n",
      "Done: 39\n",
      "Done: 40\n",
      "Done: 41\n",
      "Done: 42\n",
      "Done: 43\n",
      "Done: 44\n",
      "Done: 45\n",
      "Done: 46\n",
      "Done: 47\n",
      "Done: 48\n"
     ]
    }
   ],
   "source": [
    "for pageNumber in range(49):\n",
    "    url = url = 'https://codeforces.com/problemset/page/' + str(pageNumber)\n",
    "    html_doc = ''\n",
    "    with urlopen(url) as response:\n",
    "        for line in response:\n",
    "            line = line.decode('utf-8')\n",
    "            html_doc = html_doc + line.replace('\\n','')\n",
    "    soup = BeautifulSoup(html_doc, 'html.parser')\n",
    "    table = soup.find('table', {'class': 'problems'})\n",
    "    rows = table.find_all('tr')\n",
    "    for row in rows:\n",
    "        tds =  row.find_all('td')\n",
    "        if len(tds) == 0:\n",
    "            continue\n",
    "    #     getting the problem link\n",
    "        problemLink.append(tds[0].a['href'])\n",
    "    #     getting type labels\n",
    "        typeLabelsAnchors = tds[1].find_all('a',{'class':'notice'})\n",
    "        typeLabels = []\n",
    "        for labelAnchor in typeLabelsAnchors:\n",
    "            typeLabels.append(labelAnchor.text)\n",
    "        problemTags.append(typeLabels)\n",
    "    #     getting difficulty level\n",
    "        problemDifficulty.append(tds[3].text)\n",
    "    print(f'Done: {pageNumber}')\n",
    "#     break"
   ]
  },
  {
   "cell_type": "code",
   "execution_count": 46,
   "metadata": {},
   "outputs": [
    {
     "data": {
      "text/plain": [
       "(4869, 4869, 4869)"
      ]
     },
     "execution_count": 46,
     "metadata": {},
     "output_type": "execute_result"
    }
   ],
   "source": [
    "len(problemLink), len(problemTags), len(problemDifficulty)"
   ]
  },
  {
   "cell_type": "code",
   "execution_count": 47,
   "metadata": {},
   "outputs": [],
   "source": [
    "import pickle"
   ]
  },
  {
   "cell_type": "code",
   "execution_count": 48,
   "metadata": {},
   "outputs": [],
   "source": [
    "with open('problemLink.pkl', 'wb') as f:\n",
    "    pickle.dump(problemLink, f)"
   ]
  },
  {
   "cell_type": "code",
   "execution_count": 49,
   "metadata": {},
   "outputs": [],
   "source": [
    "with open('problemTags.pkl', 'wb') as f:\n",
    "    pickle.dump(problemTags, f)"
   ]
  },
  {
   "cell_type": "code",
   "execution_count": 51,
   "metadata": {},
   "outputs": [],
   "source": [
    "with open('problemDifficulty.pkl', 'wb') as f:\n",
    "    pickle.dump(problemDifficulty, f)"
   ]
  },
  {
   "cell_type": "code",
   "execution_count": 3,
   "metadata": {},
   "outputs": [],
   "source": [
    "with open('problemLink.pkl', 'rb') as f:\n",
    "    problemLink = pickle.load(f)"
   ]
  },
  {
   "cell_type": "code",
   "execution_count": null,
   "metadata": {},
   "outputs": [],
   "source": []
  },
  {
   "cell_type": "code",
   "execution_count": 4,
   "metadata": {},
   "outputs": [],
   "source": [
    "with open('problemTags.pkl', 'rb') as f:\n",
    "    problemTags = pickle.load(f)"
   ]
  },
  {
   "cell_type": "code",
   "execution_count": 5,
   "metadata": {},
   "outputs": [],
   "source": [
    "with open('problemDifficulty.pkl', 'rb') as f:\n",
    "    problemDifficulty = pickle.load(f)"
   ]
  },
  {
   "cell_type": "code",
   "execution_count": 6,
   "metadata": {},
   "outputs": [
    {
     "data": {
      "text/plain": [
       "('/problemset/problem/1099/F',\n",
       " ['binary search',\n",
       "  'data structures',\n",
       "  'dfs and similar',\n",
       "  'dp',\n",
       "  'games',\n",
       "  'trees'],\n",
       " ' 2300 ')"
      ]
     },
     "execution_count": 6,
     "metadata": {},
     "output_type": "execute_result"
    }
   ],
   "source": [
    "problemLink[0] , problemTags[0], problemDifficulty[0]"
   ]
  },
  {
   "cell_type": "code",
   "execution_count": 6,
   "metadata": {},
   "outputs": [],
   "source": [
    "# By now we have all the urls"
   ]
  },
  {
   "cell_type": "code",
   "execution_count": 7,
   "metadata": {},
   "outputs": [
    {
     "ename": "NameError",
     "evalue": "name 'problemStatements' is not defined",
     "output_type": "error",
     "traceback": [
      "\u001b[0;31m---------------------------------------------------------------------------\u001b[0m",
      "\u001b[0;31mNameError\u001b[0m                                 Traceback (most recent call last)",
      "\u001b[0;32m<ipython-input-7-5e9de8b7cfd1>\u001b[0m in \u001b[0;36m<module>\u001b[0;34m\u001b[0m\n\u001b[0;32m----> 1\u001b[0;31m \u001b[0mlen\u001b[0m\u001b[0;34m(\u001b[0m\u001b[0mproblemStatements\u001b[0m\u001b[0;34m)\u001b[0m\u001b[0;34m\u001b[0m\u001b[0;34m\u001b[0m\u001b[0m\n\u001b[0m",
      "\u001b[0;31mNameError\u001b[0m: name 'problemStatements' is not defined"
     ]
    }
   ],
   "source": [
    "len(problemStatements)"
   ]
  },
  {
   "cell_type": "code",
   "execution_count": 7,
   "metadata": {},
   "outputs": [],
   "source": [
    "base_url = 'https://codeforces.com'"
   ]
  },
  {
   "cell_type": "code",
   "execution_count": 8,
   "metadata": {},
   "outputs": [],
   "source": [
    "from tqdm import tqdm\n",
    "problemStatements = []"
   ]
  },
  {
   "cell_type": "code",
   "execution_count": 10,
   "metadata": {},
   "outputs": [
    {
     "name": "stderr",
     "output_type": "stream",
     "text": [
      "  1%|          | 55/4869 [01:10<1:40:57,  1.26s/it]"
     ]
    },
    {
     "name": "stdout",
     "output_type": "stream",
     "text": [
      "Failed: /problemset/problem/1090/L \n"
     ]
    },
    {
     "name": "stderr",
     "output_type": "stream",
     "text": [
      "\r",
      "  1%|          | 56/4869 [01:11<1:39:59,  1.25s/it]"
     ]
    },
    {
     "name": "stdout",
     "output_type": "stream",
     "text": [
      "Failed: /problemset/problem/1090/K \n"
     ]
    },
    {
     "name": "stderr",
     "output_type": "stream",
     "text": [
      "  1%|          | 58/4869 [01:14<1:42:53,  1.28s/it]"
     ]
    },
    {
     "name": "stdout",
     "output_type": "stream",
     "text": [
      "Failed: /problemset/problem/1090/I \n"
     ]
    },
    {
     "name": "stderr",
     "output_type": "stream",
     "text": [
      "\r",
      "  1%|          | 59/4869 [01:15<1:47:57,  1.35s/it]"
     ]
    },
    {
     "name": "stdout",
     "output_type": "stream",
     "text": [
      "Failed: /problemset/problem/1090/H \n"
     ]
    },
    {
     "name": "stderr",
     "output_type": "stream",
     "text": [
      "\r",
      "  1%|          | 60/4869 [01:16<1:49:16,  1.36s/it]"
     ]
    },
    {
     "name": "stdout",
     "output_type": "stream",
     "text": [
      "Failed: /problemset/problem/1090/G \n"
     ]
    },
    {
     "name": "stderr",
     "output_type": "stream",
     "text": [
      "\r",
      "  1%|▏         | 61/4869 [01:18<1:47:52,  1.35s/it]"
     ]
    },
    {
     "name": "stdout",
     "output_type": "stream",
     "text": [
      "Failed: /problemset/problem/1090/F \n"
     ]
    },
    {
     "name": "stderr",
     "output_type": "stream",
     "text": [
      "\r",
      "  1%|▏         | 62/4869 [01:19<1:53:24,  1.42s/it]"
     ]
    },
    {
     "name": "stdout",
     "output_type": "stream",
     "text": [
      "Failed: /problemset/problem/1090/E \n"
     ]
    },
    {
     "name": "stderr",
     "output_type": "stream",
     "text": [
      "  1%|▏         | 65/4869 [01:23<1:47:20,  1.34s/it]"
     ]
    },
    {
     "name": "stdout",
     "output_type": "stream",
     "text": [
      "Failed: /problemset/problem/1090/B \n"
     ]
    },
    {
     "name": "stderr",
     "output_type": "stream",
     "text": [
      "  1%|▏         | 67/4869 [01:32<4:07:58,  3.10s/it]"
     ]
    },
    {
     "name": "stdout",
     "output_type": "stream",
     "text": [
      "Failed: /problemset/problem/1089/M \n"
     ]
    },
    {
     "name": "stderr",
     "output_type": "stream",
     "text": [
      "  1%|▏         | 72/4869 [01:38<2:09:06,  1.61s/it]"
     ]
    },
    {
     "name": "stdout",
     "output_type": "stream",
     "text": [
      "Failed: /problemset/problem/1089/H \n"
     ]
    },
    {
     "name": "stderr",
     "output_type": "stream",
     "text": [
      "  2%|▏         | 75/4869 [01:43<2:06:31,  1.58s/it]"
     ]
    },
    {
     "name": "stdout",
     "output_type": "stream",
     "text": [
      "Failed: /problemset/problem/1089/E \n"
     ]
    },
    {
     "name": "stderr",
     "output_type": "stream",
     "text": [
      "\r",
      "  2%|▏         | 76/4869 [01:44<2:00:23,  1.51s/it]"
     ]
    },
    {
     "name": "stdout",
     "output_type": "stream",
     "text": [
      "Failed: /problemset/problem/1089/D \n"
     ]
    },
    {
     "name": "stderr",
     "output_type": "stream",
     "text": [
      "\r",
      "  2%|▏         | 77/4869 [01:46<2:14:52,  1.69s/it]"
     ]
    },
    {
     "name": "stdout",
     "output_type": "stream",
     "text": [
      "Failed: /problemset/problem/1089/C \n"
     ]
    },
    {
     "name": "stderr",
     "output_type": "stream",
     "text": [
      "\r",
      "  2%|▏         | 78/4869 [01:49<2:29:59,  1.88s/it]"
     ]
    },
    {
     "name": "stdout",
     "output_type": "stream",
     "text": [
      "Failed: /problemset/problem/1089/B \n"
     ]
    },
    {
     "name": "stderr",
     "output_type": "stream",
     "text": [
      "  3%|▎         | 155/4869 [03:34<1:30:37,  1.15s/it]"
     ]
    },
    {
     "name": "stdout",
     "output_type": "stream",
     "text": [
      "Failed: /problemset/problem/1090/L \n"
     ]
    },
    {
     "name": "stderr",
     "output_type": "stream",
     "text": [
      "\r",
      "  3%|▎         | 156/4869 [03:35<1:27:36,  1.12s/it]"
     ]
    },
    {
     "name": "stdout",
     "output_type": "stream",
     "text": [
      "Failed: /problemset/problem/1090/K \n"
     ]
    },
    {
     "name": "stderr",
     "output_type": "stream",
     "text": [
      "  3%|▎         | 158/4869 [03:37<1:26:47,  1.11s/it]"
     ]
    },
    {
     "name": "stdout",
     "output_type": "stream",
     "text": [
      "Failed: /problemset/problem/1090/I \n"
     ]
    },
    {
     "name": "stderr",
     "output_type": "stream",
     "text": [
      "\r",
      "  3%|▎         | 159/4869 [03:38<1:26:24,  1.10s/it]"
     ]
    },
    {
     "name": "stdout",
     "output_type": "stream",
     "text": [
      "Failed: /problemset/problem/1090/H \n"
     ]
    },
    {
     "name": "stderr",
     "output_type": "stream",
     "text": [
      "\r",
      "  3%|▎         | 160/4869 [03:39<1:25:28,  1.09s/it]"
     ]
    },
    {
     "name": "stdout",
     "output_type": "stream",
     "text": [
      "Failed: /problemset/problem/1090/G \n"
     ]
    },
    {
     "name": "stderr",
     "output_type": "stream",
     "text": [
      "\r",
      "  3%|▎         | 161/4869 [03:40<1:22:20,  1.05s/it]"
     ]
    },
    {
     "name": "stdout",
     "output_type": "stream",
     "text": [
      "Failed: /problemset/problem/1090/F \n"
     ]
    },
    {
     "name": "stderr",
     "output_type": "stream",
     "text": [
      "\r",
      "  3%|▎         | 162/4869 [03:41<1:20:27,  1.03s/it]"
     ]
    },
    {
     "name": "stdout",
     "output_type": "stream",
     "text": [
      "Failed: /problemset/problem/1090/E \n"
     ]
    },
    {
     "name": "stderr",
     "output_type": "stream",
     "text": [
      "  3%|▎         | 165/4869 [03:45<1:29:47,  1.15s/it]"
     ]
    },
    {
     "name": "stdout",
     "output_type": "stream",
     "text": [
      "Failed: /problemset/problem/1090/B \n"
     ]
    },
    {
     "name": "stderr",
     "output_type": "stream",
     "text": [
      "  3%|▎         | 167/4869 [03:47<1:29:15,  1.14s/it]"
     ]
    },
    {
     "name": "stdout",
     "output_type": "stream",
     "text": [
      "Failed: /problemset/problem/1089/M \n"
     ]
    },
    {
     "name": "stderr",
     "output_type": "stream",
     "text": [
      "  4%|▎         | 172/4869 [03:55<1:48:07,  1.38s/it]"
     ]
    },
    {
     "name": "stdout",
     "output_type": "stream",
     "text": [
      "Failed: /problemset/problem/1089/H \n"
     ]
    },
    {
     "name": "stderr",
     "output_type": "stream",
     "text": [
      "  4%|▎         | 175/4869 [03:58<1:34:43,  1.21s/it]"
     ]
    },
    {
     "name": "stdout",
     "output_type": "stream",
     "text": [
      "Failed: /problemset/problem/1089/E \n"
     ]
    },
    {
     "name": "stderr",
     "output_type": "stream",
     "text": [
      "\r",
      "  4%|▎         | 176/4869 [03:59<1:30:20,  1.15s/it]"
     ]
    },
    {
     "name": "stdout",
     "output_type": "stream",
     "text": [
      "Failed: /problemset/problem/1089/D \n"
     ]
    },
    {
     "name": "stderr",
     "output_type": "stream",
     "text": [
      "\r",
      "  4%|▎         | 177/4869 [04:00<1:27:34,  1.12s/it]"
     ]
    },
    {
     "name": "stdout",
     "output_type": "stream",
     "text": [
      "Failed: /problemset/problem/1089/C \n"
     ]
    },
    {
     "name": "stderr",
     "output_type": "stream",
     "text": [
      "\r",
      "  4%|▎         | 178/4869 [04:01<1:24:28,  1.08s/it]"
     ]
    },
    {
     "name": "stdout",
     "output_type": "stream",
     "text": [
      "Failed: /problemset/problem/1089/B \n"
     ]
    },
    {
     "name": "stderr",
     "output_type": "stream",
     "text": [
      " 56%|█████▌    | 2731/4869 [1:03:36<46:17,  1.30s/it]  "
     ]
    },
    {
     "name": "stdout",
     "output_type": "stream",
     "text": [
      "Failed: /problemset/problem/497/D \n"
     ]
    },
    {
     "name": "stderr",
     "output_type": "stream",
     "text": [
      "100%|██████████| 4869/4869 [1:52:50<00:00,  1.28s/it]  \n"
     ]
    }
   ],
   "source": [
    "for link in tqdm(problemLink):\n",
    "    url = base_url + link\n",
    "    html_doc = ''\n",
    "    try:\n",
    "        with urlopen(url) as response:\n",
    "            for line in response:\n",
    "                line = line.decode('utf-8')\n",
    "                html_doc = html_doc + line.replace('\\n','')\n",
    "        soup = BeautifulSoup(html_doc, 'html.parser')\n",
    "        div = soup.find('div',{'class':'problem-statement'})\n",
    "        problemStatement = cleanText(div.get_text(separator=\"\\n\"))\n",
    "        problemStatements.append(problemStatement)\n",
    "    except:\n",
    "        problemStatements.append('')\n",
    "        print(f'Failed: {link} ')"
   ]
  },
  {
   "cell_type": "code",
   "execution_count": 11,
   "metadata": {},
   "outputs": [
    {
     "data": {
      "text/plain": [
       "4869"
      ]
     },
     "execution_count": 11,
     "metadata": {},
     "output_type": "execute_result"
    }
   ],
   "source": [
    "len(problemStatements)"
   ]
  },
  {
   "cell_type": "code",
   "execution_count": 12,
   "metadata": {},
   "outputs": [],
   "source": [
    "stale = []\n",
    "for i, ps in enumerate(problemStatements):\n",
    "    if ps == '':\n",
    "        stale.append(i)"
   ]
  },
  {
   "cell_type": "code",
   "execution_count": 13,
   "metadata": {},
   "outputs": [
    {
     "data": {
      "text/plain": [
       "29"
      ]
     },
     "execution_count": 13,
     "metadata": {},
     "output_type": "execute_result"
    }
   ],
   "source": [
    "len(stale)"
   ]
  },
  {
   "cell_type": "code",
   "execution_count": 15,
   "metadata": {},
   "outputs": [],
   "source": [
    "with open('problemStatements.pkl', 'wb') as f:\n",
    "    pickle.dump(problemStatements, f)"
   ]
  },
  {
   "cell_type": "code",
   "execution_count": 16,
   "metadata": {},
   "outputs": [
    {
     "name": "stdout",
     "output_type": "stream",
     "text": [
      "F. Cookies\n",
      "time limit per test\n",
      "3 seconds\n",
      "memory limit per test\n",
      "512 megabytes\n",
      "input\n",
      "standard input\n",
      "output\n",
      "standard output\n",
      "Mitya and Vasya are playing an interesting game. They have a rooted tree with n vertices,and the vertices are indexed from 1 to n. The root has index 1. Every other vertex i ≥ 2 has its \n",
      "parent\n",
      " pi,and vertex i is called a \n",
      "child\n",
      " of vertex pi.\n",
      "There are some cookies in every vertex of the tree: there are xi cookies in vertex i. It takes exactly ti time for Mitya to eat \n",
      "one\n",
      " cookie in vertex i. There is also a chip,which is initially located in the root of the tree,and it takes li time to move the chip along the edge connecting vertex i with its parent.\n",
      "Mitya and Vasya take turns playing,Mitya goes first.\n",
      " \n",
      " Mitya moves the chip from the vertex,where the chip is located,to one of its children. \n",
      " Vasya can remove an edge from the vertex,where the chip is located,to one of its children. Vasya can also decide to skip his turn. \n",
      " \n",
      " \n",
      "Mitya can stop the game at any his turn. Once he stops the game,he moves the chip up to the root,eating some cookies along his way. Mitya can decide how many cookies he would like to eat in every vertex on his way. The total time spent on descend,ascend and eating cookies should not exceed T. Please note that in the end of the game the chip is always located in the root of the tree: Mitya can not leave the chip in any other vertex,even if he has already eaten enough cookies — he must move the chip back to the root (and every move from vertex v to its parent takes lv time).\n",
      "Find out what is the maximum number of cookies Mitya can eat,regardless of Vasya's actions.\n",
      "Input\n",
      "The first line contains two integers n and T — the number of vertices in the tree and the time he has to accomplish his task (2≤ n ≤ 10^5; 1≤ T≤10^18).\n",
      "The second line contains n integers x1,x2,...,xn — number of cookies located in the corresponding vertex (1≤ xi≤10^6). The third line contains n integers t1,t2,...,tn — how much time it takes Mitya to eat one cookie in vertex i (1≤ ti≤10^6).\n",
      "Each of the following n - 1 lines describe the tree. For every i from 2 to n,the corresponding line contains two integers pi and li,where pi denotes the parent of vertex i and li denotes the time it takes Mitya to move the chip along the edge from vertex i to its parent (1≤ pi < i,0≤ li ≤ 10^9).\n",
      "Output\n",
      "Output a single integer — maximum number of cookies Mitya can eat.\n",
      "Examples\n",
      "Input\n",
      "5 261 5 1 7 71 3 2 2 21 11 12 02 0\n",
      "Output\n",
      "11\n",
      "Input\n",
      "3 1792 2 16 6 61 32 3\n",
      "Output\n",
      "4\n",
      "Note\n",
      "In the first example test case,Mitya can start by moving the chip to vertex 2. In this case no matter how Vasya plays,Mitya is able to eat at least 11 cookies. Below you can find the detailed description of the moves:\n",
      " \n",
      " Mitya moves chip to vertex 2. \n",
      " Vasya removes edge to vertex 4. \n",
      " Mitya moves chip to vertex 5. \n",
      " Since vertex 5 has no children,Vasya does not remove any edges. \n",
      " Mitya stops the game and moves the chip towards the root,eating cookies along the way (7 in vertex 5,3 in vertex 2,1 in vertex 1). \n",
      "Mitya spend 1+0 time to go down,0+1 to go up,7⋅ 2 to eat 7 cookies in vertex 5,3⋅ 3 to eat 3 cookies in vertex 2,1⋅ 1 to eat 1 cookie in vertex 1. Total time is 1+0+0+1+7⋅ 2+3⋅ 3+1⋅ 1=26.\n"
     ]
    }
   ],
   "source": [
    "print(problemStatements[0])"
   ]
  },
  {
   "cell_type": "code",
   "execution_count": 100,
   "metadata": {},
   "outputs": [],
   "source": [
    "url = base_url + problemLink[53]"
   ]
  },
  {
   "cell_type": "code",
   "execution_count": 101,
   "metadata": {},
   "outputs": [
    {
     "data": {
      "text/plain": [
       "'https://codeforces.com/problemset/problem/1090/M'"
      ]
     },
     "execution_count": 101,
     "metadata": {},
     "output_type": "execute_result"
    }
   ],
   "source": [
    "url"
   ]
  },
  {
   "cell_type": "code",
   "execution_count": 98,
   "metadata": {
    "scrolled": false
   },
   "outputs": [
    {
     "ename": "UnicodeDecodeError",
     "evalue": "'utf-8' codec can't decode byte 0xe4 in position 1: invalid continuation byte",
     "output_type": "error",
     "traceback": [
      "\u001b[0;31m---------------------------------------------------------------------------\u001b[0m",
      "\u001b[0;31mUnicodeDecodeError\u001b[0m                        Traceback (most recent call last)",
      "\u001b[0;32m<ipython-input-98-70f62edcb4f7>\u001b[0m in \u001b[0;36m<module>\u001b[0;34m\u001b[0m\n\u001b[1;32m      2\u001b[0m \u001b[0;32mwith\u001b[0m \u001b[0murlopen\u001b[0m\u001b[0;34m(\u001b[0m\u001b[0murl\u001b[0m\u001b[0;34m)\u001b[0m \u001b[0;32mas\u001b[0m \u001b[0mresponse\u001b[0m\u001b[0;34m:\u001b[0m\u001b[0;34m\u001b[0m\u001b[0;34m\u001b[0m\u001b[0m\n\u001b[1;32m      3\u001b[0m     \u001b[0;32mfor\u001b[0m \u001b[0mline\u001b[0m \u001b[0;32min\u001b[0m \u001b[0mresponse\u001b[0m\u001b[0;34m:\u001b[0m\u001b[0;34m\u001b[0m\u001b[0;34m\u001b[0m\u001b[0m\n\u001b[0;32m----> 4\u001b[0;31m         \u001b[0mline\u001b[0m \u001b[0;34m=\u001b[0m \u001b[0mline\u001b[0m\u001b[0;34m.\u001b[0m\u001b[0mdecode\u001b[0m\u001b[0;34m(\u001b[0m\u001b[0;34m'utf-8'\u001b[0m\u001b[0;34m)\u001b[0m\u001b[0;34m\u001b[0m\u001b[0;34m\u001b[0m\u001b[0m\n\u001b[0m\u001b[1;32m      5\u001b[0m         \u001b[0mhtml_doc\u001b[0m \u001b[0;34m=\u001b[0m \u001b[0mhtml_doc\u001b[0m \u001b[0;34m+\u001b[0m \u001b[0mline\u001b[0m\u001b[0;34m.\u001b[0m\u001b[0mreplace\u001b[0m\u001b[0;34m(\u001b[0m\u001b[0;34m'\\n'\u001b[0m\u001b[0;34m,\u001b[0m\u001b[0;34m''\u001b[0m\u001b[0;34m)\u001b[0m\u001b[0;34m\u001b[0m\u001b[0;34m\u001b[0m\u001b[0m\n\u001b[1;32m      6\u001b[0m \u001b[0msoup\u001b[0m \u001b[0;34m=\u001b[0m \u001b[0mBeautifulSoup\u001b[0m\u001b[0;34m(\u001b[0m\u001b[0mhtml_doc\u001b[0m\u001b[0;34m,\u001b[0m \u001b[0;34m'html.parser'\u001b[0m\u001b[0;34m)\u001b[0m\u001b[0;34m\u001b[0m\u001b[0;34m\u001b[0m\u001b[0m\n",
      "\u001b[0;31mUnicodeDecodeError\u001b[0m: 'utf-8' codec can't decode byte 0xe4 in position 1: invalid continuation byte"
     ]
    }
   ],
   "source": [
    "html_doc = ''\n",
    "with urlopen(url) as response:\n",
    "    for line in response:\n",
    "        line = line.decode('utf-8')\n",
    "        html_doc = html_doc + line.replace('\\n','')\n",
    "soup = BeautifulSoup(html_doc, 'html.parser')"
   ]
  },
  {
   "cell_type": "code",
   "execution_count": 75,
   "metadata": {},
   "outputs": [],
   "source": [
    "div = soup.find('div',{'class':'problem-statement'})"
   ]
  },
  {
   "cell_type": "code",
   "execution_count": 76,
   "metadata": {},
   "outputs": [],
   "source": [
    "# This does eveything we need\n",
    "problemStatement = cleanText(div.get_text(separator=\"\\n\"))"
   ]
  },
  {
   "cell_type": "code",
   "execution_count": 77,
   "metadata": {},
   "outputs": [
    {
     "data": {
      "text/plain": [
       "' matrix in ℝ𝑛×𝑛.'"
      ]
     },
     "execution_count": 77,
     "metadata": {},
     "output_type": "execute_result"
    }
   ],
   "source": [
    "' matrix in ℝ𝑛×𝑛.'"
   ]
  },
  {
   "cell_type": "code",
   "execution_count": 79,
   "metadata": {},
   "outputs": [
    {
     "name": "stdout",
     "output_type": "stream",
     "text": [
      "E. Cashback\n",
      "time limit per test\n",
      "2 seconds\n",
      "memory limit per test\n",
      "256 megabytes\n",
      "input\n",
      "standard input\n",
      "output\n",
      "standard output\n",
      "Since you are the best Wraith King,Nizhniy Magazin «Mir» at the centre of Vinnytsia is offering you a discount.\n",
      "You are given an array \n",
      "a\n",
      " of length \n",
      "n\n",
      " and an integer \n",
      "c\n",
      ". \n",
      "The value of some array \n",
      "b\n",
      " of length \n",
      "k\n",
      " is the sum of its elements except for the \n",
      " smallest. For example,the value of the array \n",
      "[3, 1, 6, 5, 2]\n",
      " with \n",
      "c\n",
      " = 2\n",
      " is \n",
      "3 + 6 + 5 = 14\n",
      ".\n",
      "Among all possible partitions of \n",
      "a\n",
      " into contiguous subarrays output the smallest possible sum of the values of these subarrays.\n",
      "Input\n",
      "The first line contains integers \n",
      "n\n",
      " and \n",
      "c\n",
      " (\n",
      "1 ≤ \n",
      "n\n",
      ", \n",
      "c\n",
      " ≤ 100 000\n",
      ").\n",
      "The second line contains \n",
      "n\n",
      " integers \n",
      "a\n",
      "i\n",
      " (\n",
      "1 ≤ \n",
      "a\n",
      "i\n",
      " ≤ 10\n",
      "9\n",
      ") — elements of \n",
      "a\n",
      ".\n",
      "Output\n",
      "Output a single integer — the smallest possible sum of values of these subarrays of some partition of \n",
      "a\n",
      ".\n",
      "Examples\n",
      "Input\n",
      "3 5\n",
      "1 2 3\n",
      "Output\n",
      "6\n",
      "Input\n",
      "12 10\n",
      "1 1 10 10 10 10 10 10 9 10 10 10\n",
      "Output\n",
      "92\n",
      "Input\n",
      "7 2\n",
      "2 3 6 4 5 7 1\n",
      "Output\n",
      "17\n",
      "Input\n",
      "8 4\n",
      "1 3 4 5 5 3 4 1\n",
      "Output\n",
      "23\n",
      "Note\n",
      "In the first example any partition yields 6 as the sum.\n",
      "In the second example one of the optimal partitions is \n",
      "[1, 1], [10, 10, 10, 10, 10, 10, 9, 10, 10, 10]\n",
      " with the values 2 and 90 respectively.\n",
      "In the third example one of the optimal partitions is \n",
      "[2, 3], [6, 4, 5, 7], [1]\n",
      " with the values 3,13 and 1 respectively.\n",
      "In the fourth example one of the optimal partitions is \n",
      "[1], [3, 4, 5, 5, 3, 4], [1]\n",
      " with the values 1,21 and 1 respectively.\n"
     ]
    }
   ],
   "source": [
    "print(problemStatement)"
   ]
  },
  {
   "cell_type": "code",
   "execution_count": null,
   "metadata": {},
   "outputs": [],
   "source": []
  },
  {
   "cell_type": "code",
   "execution_count": 68,
   "metadata": {},
   "outputs": [
    {
     "ename": "NameError",
     "evalue": "name 'arr' is not defined",
     "output_type": "error",
     "traceback": [
      "\u001b[0;31m---------------------------------------------------------------------------\u001b[0m",
      "\u001b[0;31mNameError\u001b[0m                                 Traceback (most recent call last)",
      "\u001b[0;32m<ipython-input-68-b29f72643596>\u001b[0m in \u001b[0;36m<module>\u001b[0;34m\u001b[0m\n\u001b[0;32m----> 1\u001b[0;31m \u001b[0;32mfor\u001b[0m \u001b[0mi\u001b[0m\u001b[0;34m,\u001b[0m\u001b[0mword\u001b[0m \u001b[0;32min\u001b[0m \u001b[0menumerate\u001b[0m\u001b[0;34m(\u001b[0m\u001b[0marr\u001b[0m\u001b[0;34m)\u001b[0m\u001b[0;34m:\u001b[0m\u001b[0;34m\u001b[0m\u001b[0;34m\u001b[0m\u001b[0m\n\u001b[0m\u001b[1;32m      2\u001b[0m     \u001b[0;32mif\u001b[0m \u001b[0mword\u001b[0m\u001b[0;34m[\u001b[0m\u001b[0;34m:\u001b[0m\u001b[0;36m6\u001b[0m\u001b[0;34m]\u001b[0m \u001b[0;34m==\u001b[0m \u001b[0;34m'\\\\fracn'\u001b[0m\u001b[0;34m:\u001b[0m\u001b[0;34m\u001b[0m\u001b[0;34m\u001b[0m\u001b[0m\n\u001b[1;32m      3\u001b[0m         \u001b[0mprint\u001b[0m\u001b[0;34m(\u001b[0m\u001b[0;34m'true'\u001b[0m\u001b[0;34m)\u001b[0m\u001b[0;34m\u001b[0m\u001b[0;34m\u001b[0m\u001b[0m\n\u001b[1;32m      4\u001b[0m         \u001b[0marr\u001b[0m\u001b[0;34m[\u001b[0m\u001b[0mi\u001b[0m\u001b[0;34m]\u001b[0m \u001b[0;34m=\u001b[0m \u001b[0mword\u001b[0m\u001b[0;34m[\u001b[0m\u001b[0;36m6\u001b[0m\u001b[0;34m:\u001b[0m\u001b[0;34m]\u001b[0m\u001b[0;34m\u001b[0m\u001b[0;34m\u001b[0m\u001b[0m\n",
      "\u001b[0;31mNameError\u001b[0m: name 'arr' is not defined"
     ]
    }
   ],
   "source": [
    "for i,word in enumerate(arr):\n",
    "    if word[:6] == '\\\\fracn':\n",
    "        print('true')\n",
    "        arr[i] = word[6:]"
   ]
  },
  {
   "cell_type": "code",
   "execution_count": 69,
   "metadata": {},
   "outputs": [
    {
     "data": {
      "text/plain": [
       "True"
      ]
     },
     "execution_count": 69,
     "metadata": {},
     "output_type": "execute_result"
    }
   ],
   "source": [
    "'\\fracn(n-1)2)'[:5] == '\\x0cracn'"
   ]
  },
  {
   "cell_type": "code",
   "execution_count": 70,
   "metadata": {},
   "outputs": [],
   "source": [
    "arr = problemStatement.split(' ')"
   ]
  },
  {
   "cell_type": "code",
   "execution_count": 71,
   "metadata": {},
   "outputs": [
    {
     "name": "stdout",
     "output_type": "stream",
     "text": [
      "F. Machine Learning\n",
      "time limit per test\n",
      "4 seconds\n",
      "memory limit per test\n",
      "512 megabytes\n",
      "input\n",
      "standard input\n",
      "output\n",
      "standard output\n",
      "You come home and fell some unpleasant smell. Where is it coming from?\n",
      "You are given an array \n",
      "a\n",
      ". You have to answer the following queries: \n",
      " \n",
      " You are given two integers \n",
      "l\n",
      " and \n",
      "r\n",
      ". Let \n",
      "c\n",
      "i\n",
      " be the number of occurrences of \n",
      "i\n",
      " in \n",
      "a\n",
      "l\n",
      ": \n",
      "r\n",
      ",where \n",
      "a\n",
      "l\n",
      ": \n",
      "r\n",
      " is the subarray of \n",
      "a\n",
      " from \n",
      "l\n",
      "-th element to \n",
      "r\n",
      "-th inclusive. Find the \n",
      "Mex\n",
      " of \n",
      "\n",
      "c\n",
      "0\n",
      ", \n",
      "c\n",
      "1\n",
      ", ..., \n",
      "c\n",
      "10\n",
      "9\n",
      "\n",
      " \n",
      " You are given two integers \n",
      "p\n",
      " to \n",
      "x\n",
      ". Change \n",
      "a\n",
      "p\n",
      " to \n",
      "x\n",
      ". \n",
      "The \n",
      "Mex\n",
      " of a multiset of numbers is the smallest non-negative integer \n",
      "not in\n",
      " the set.\n",
      "Note that in this problem all elements of \n",
      "a\n",
      " are positive,which means that \n",
      "c\n",
      "0\n",
      " = 0 and \n",
      "0\n",
      " is never the answer for the query of the second type.\n",
      "Input\n",
      "The first line of input contains two integers \n",
      "n\n",
      " and \n",
      "q\n",
      " (\n",
      "1 ≤ \n",
      "n\n",
      ", \n",
      "q\n",
      " ≤ 100 000\n",
      ") — the length of the array and the number of queries respectively.\n",
      "The second line of input contains \n",
      "n\n",
      " integers — \n",
      "a\n",
      "1\n",
      ",\n",
      "a\n",
      "2\n",
      ",\n",
      "...\n",
      ",\n",
      "a\n",
      "n\n",
      " (\n",
      "1 ≤ \n",
      "a\n",
      "i\n",
      " ≤ 10\n",
      "9\n",
      ").\n",
      "Each of the next \n",
      "q\n",
      " lines describes a single query.\n",
      "The first type of query is described by three integers \n",
      "t\n",
      "i\n",
      " = 1\n",
      ",\n",
      "l\n",
      "i\n",
      ",\n",
      "r\n",
      "i\n",
      ",where \n",
      "1 ≤ \n",
      "l\n",
      "i\n",
      " ≤ \n",
      "r\n",
      "i\n",
      " ≤ \n",
      "n\n",
      " — the bounds of the subarray.\n",
      "The second type of query is described by three integers \n",
      "t\n",
      "i\n",
      " = 2\n",
      ",\n",
      "p\n",
      "i\n",
      ",\n",
      "x\n",
      "i\n",
      ",where \n",
      "1 ≤ \n",
      "p\n",
      "i\n",
      " ≤ \n",
      "n\n",
      " is the index of the element,which must be changed and \n",
      "1 ≤ \n",
      "x\n",
      "i\n",
      " ≤ 10\n",
      "9\n",
      " is the new value.\n",
      "Output\n",
      "For each query of the first type output a single integer — the \n",
      "Mex\n",
      " of \n",
      "\n",
      "c\n",
      "0\n",
      ", \n",
      "c\n",
      "1\n",
      ", ..., \n",
      "c\n",
      "10\n",
      "9\n",
      "\n",
      ".\n",
      "Example\n",
      "Input\n",
      "10 4\n",
      "1 2 3 1 1 2 2 2 9 9\n",
      "1 1 1\n",
      "1 2 8\n",
      "2 7 1\n",
      "1 2 8\n",
      "Output\n",
      "2\n",
      "3\n",
      "2\n",
      "Note\n",
      "The subarray of the first query consists of the single element — \n",
      "1\n",
      ". \n",
      "The subarray of the second query consists of four \n",
      "2\n",
      "s,one \n",
      "3\n",
      " and two \n",
      "1\n",
      "s.\n",
      "The subarray of the fourth query consists of three \n",
      "1\n",
      "s,three \n",
      "2\n",
      "s and one \n",
      "3\n",
      ".\n"
     ]
    }
   ],
   "source": [
    "print(' '.join(arr))"
   ]
  },
  {
   "cell_type": "code",
   "execution_count": 7,
   "metadata": {},
   "outputs": [],
   "source": [
    "# header = div.find('div',{'class':'header'})"
   ]
  },
  {
   "cell_type": "code",
   "execution_count": 8,
   "metadata": {},
   "outputs": [],
   "source": [
    "# problemStatement = ''"
   ]
  },
  {
   "cell_type": "code",
   "execution_count": 9,
   "metadata": {},
   "outputs": [],
   "source": [
    "# timeLimit = header.find('div',{'class':'time-limit'})"
   ]
  },
  {
   "cell_type": "code",
   "execution_count": 10,
   "metadata": {},
   "outputs": [],
   "source": [
    "# problemStatement = problemStatement + timeLimit.text[0:timeLimit.text.find('test')+4] + '\\n' + timeLimit.text[timeLimit.text.find('test')+4:] + '\\n'"
   ]
  },
  {
   "cell_type": "code",
   "execution_count": 11,
   "metadata": {},
   "outputs": [
    {
     "name": "stdout",
     "output_type": "stream",
     "text": [
      "time limit per test\n",
      "1 second\n",
      "\n"
     ]
    }
   ],
   "source": [
    "# print(problemStatement)"
   ]
  },
  {
   "cell_type": "code",
   "execution_count": 12,
   "metadata": {},
   "outputs": [],
   "source": [
    "# memoryLimit = header.find('div',{'class':'memory-limit'})"
   ]
  },
  {
   "cell_type": "code",
   "execution_count": 13,
   "metadata": {},
   "outputs": [],
   "source": [
    "# problemStatement = problemStatement + memoryLimit.text[0:memoryLimit.text.find('test')+4] + '\\n' + memoryLimit.text[memoryLimit.text.find('test')+4:] + '\\n'"
   ]
  },
  {
   "cell_type": "code",
   "execution_count": 14,
   "metadata": {},
   "outputs": [
    {
     "name": "stdout",
     "output_type": "stream",
     "text": [
      "time limit per test\n",
      "1 second\n",
      "memory limit per test\n",
      "256 megabytes\n",
      "\n"
     ]
    }
   ],
   "source": [
    "# print(problemStatement)"
   ]
  },
  {
   "cell_type": "code",
   "execution_count": 15,
   "metadata": {},
   "outputs": [],
   "source": [
    "# inputFile = header.find('div',{'class':'input-file'})"
   ]
  },
  {
   "cell_type": "code",
   "execution_count": 16,
   "metadata": {},
   "outputs": [
    {
     "data": {
      "text/plain": [
       "<div class=\"input-file\"><div class=\"property-title\">input</div>standard input</div>"
      ]
     },
     "execution_count": 16,
     "metadata": {},
     "output_type": "execute_result"
    }
   ],
   "source": [
    "# inputFile"
   ]
  },
  {
   "cell_type": "code",
   "execution_count": 17,
   "metadata": {},
   "outputs": [],
   "source": [
    "# problemStatement = problemStatement + inputFile.text[0:inputFile.text.find('input')+5] + '\\n' + inputFile.text[inputFile.text.find('input')+5:] + '\\n'"
   ]
  },
  {
   "cell_type": "code",
   "execution_count": 18,
   "metadata": {},
   "outputs": [
    {
     "name": "stdout",
     "output_type": "stream",
     "text": [
      "time limit per test\n",
      "1 second\n",
      "memory limit per test\n",
      "256 megabytes\n",
      "input\n",
      "standard input\n",
      "\n"
     ]
    }
   ],
   "source": [
    "# print(problemStatement)"
   ]
  },
  {
   "cell_type": "code",
   "execution_count": 19,
   "metadata": {},
   "outputs": [],
   "source": [
    "# outputFile = header.find('div',{'class':'output-file'})"
   ]
  },
  {
   "cell_type": "code",
   "execution_count": 20,
   "metadata": {},
   "outputs": [
    {
     "data": {
      "text/plain": [
       "'output\\nstandard output\\n'"
      ]
     },
     "execution_count": 20,
     "metadata": {},
     "output_type": "execute_result"
    }
   ],
   "source": [
    "# outputFile.text[0:outputFile.text.find('output')+6] + '\\n' + outputFile.text[outputFile.text.find('output')+6:] + '\\n'"
   ]
  },
  {
   "cell_type": "code",
   "execution_count": 21,
   "metadata": {},
   "outputs": [],
   "source": [
    "# problem = (div.find('div',{'class':''})).find('p').text"
   ]
  },
  {
   "cell_type": "code",
   "execution_count": 22,
   "metadata": {},
   "outputs": [],
   "source": [
    "# problem = problem.replace('$$$','')"
   ]
  },
  {
   "cell_type": "code",
   "execution_count": 23,
   "metadata": {},
   "outputs": [
    {
     "data": {
      "text/plain": [
       "'You are given 𝑛 integers 𝑎1,𝑎2,…,𝑎𝑛. Each of 𝑎𝑖 has between 3 and 5 divisors. Consider 𝑎=∏𝑎𝑖 — the product of all input integers. Find the number of divisors of 𝑎. As this number may be very large, print it modulo prime number 998244353.'"
      ]
     },
     "execution_count": 23,
     "metadata": {},
     "output_type": "execute_result"
    }
   ],
   "source": [
    "# 'You are given 𝑛 integers 𝑎1,𝑎2,…,𝑎𝑛. Each of 𝑎𝑖 has between 3 and 5 divisors. Consider 𝑎=∏𝑎𝑖 — the product of all input integers. Find the number of divisors of 𝑎. As this number may be very large, print it modulo prime number 998244353.'"
   ]
  },
  {
   "cell_type": "code",
   "execution_count": 24,
   "metadata": {},
   "outputs": [
    {
     "data": {
      "text/plain": [
       "'You are given n integers a_1, a_2, ..., a_n. Each of a_i has between 3 and 5 divisors. Consider a = \\\\prod a_i\\xa0— the product of all input integers. Find the number of divisors of a. As this number may be very large, print it modulo prime number 998244353.'"
      ]
     },
     "execution_count": 24,
     "metadata": {},
     "output_type": "execute_result"
    }
   ],
   "source": [
    "# problem = problem.replace('\\\\ldots','...')\n",
    "# problem"
   ]
  },
  {
   "cell_type": "code",
   "execution_count": 25,
   "metadata": {},
   "outputs": [
    {
     "data": {
      "text/plain": [
       "'You are given n integers a_1, a_2, ..., a_n. Each of a_i has between 3 and 5 divisors. Consider a = ∏ a_i\\xa0— the product of all input integers. Find the number of divisors of a. As this number may be very large, print it modulo prime number 998244353.'"
      ]
     },
     "execution_count": 25,
     "metadata": {},
     "output_type": "execute_result"
    }
   ],
   "source": [
    "# problem = problem.replace('\\\\prod','∏')\n",
    "problem"
   ]
  },
  {
   "cell_type": "code",
   "execution_count": 26,
   "metadata": {},
   "outputs": [],
   "source": [
    "# problem = problem.replace(u'\\ufeff','')\n",
    "# problem = problem.replace(u'\\xa0', u' ')\n",
    "# problem = problem.replace('  ', ' ');\n",
    "# problem = problem.replace(' , ', ',');\n",
    "# problem = problem.replace(', ', ',');"
   ]
  },
  {
   "cell_type": "code",
   "execution_count": 27,
   "metadata": {},
   "outputs": [],
   "source": [
    "# problemStatement = problemStatement + problem + '\\n'"
   ]
  },
  {
   "cell_type": "code",
   "execution_count": 28,
   "metadata": {},
   "outputs": [
    {
     "name": "stdout",
     "output_type": "stream",
     "text": [
      "time limit per test\n",
      "1 second\n",
      "memory limit per test\n",
      "256 megabytes\n",
      "input\n",
      "standard input\n",
      "You are given n integers a_1,a_2,...,a_n. Each of a_i has between 3 and 5 divisors. Consider a = ∏ a_i — the product of all input integers. Find the number of divisors of a. As this number may be very large,print it modulo prime number 998244353.\n",
      "\n"
     ]
    }
   ],
   "source": [
    "# print(problemStatement)"
   ]
  },
  {
   "cell_type": "code",
   "execution_count": 29,
   "metadata": {},
   "outputs": [],
   "source": [
    "# inputSpecification = div.find('div',{'class':'input-specification'})"
   ]
  },
  {
   "cell_type": "code",
   "execution_count": 30,
   "metadata": {},
   "outputs": [],
   "source": [
    "# iSpec = inputSpecification.text"
   ]
  },
  {
   "cell_type": "code",
   "execution_count": 31,
   "metadata": {},
   "outputs": [],
   "source": [
    "# iSpec = iSpec[:iSpec.find('Input')+5] + '\\n' + iSpec[iSpec.find('Input')+5:]"
   ]
  },
  {
   "cell_type": "code",
   "execution_count": 36,
   "metadata": {},
   "outputs": [],
   "source": [
    "# iSpec = cleanText(iSpec)"
   ]
  },
  {
   "cell_type": "code",
   "execution_count": 37,
   "metadata": {},
   "outputs": [
    {
     "name": "stdout",
     "output_type": "stream",
     "text": [
      "Input\n",
      "The first line contains a single integer n (1 ≤ n ≤ 500) — the number of numbers.Each of the next n lines contains an integer a_i (1 ≤ a_i ≤ 2⋅ 10^{18}). It is guaranteed that the number of divisors of each a_i is between 3 and 5.\n"
     ]
    }
   ],
   "source": [
    "# print(iSpec)"
   ]
  },
  {
   "cell_type": "code",
   "execution_count": 9,
   "metadata": {},
   "outputs": [],
   "source": [
    "def cleanText(text):\n",
    "    text = text.replace('$$$','')\n",
    "    text = text.replace('\\\\ldots','…')\n",
    "    text = text.replace('\\\\prod','∏')\n",
    "    text = text.replace(u'\\ufeff','')\n",
    "    text = text.replace(u'\\xa0', u' ')\n",
    "    text = text.replace('\\leq', '≤');\n",
    "    text = text.replace('\\le', '≤');\n",
    "    text = text.replace('\\ge', '≥');\n",
    "    text = text.replace('\\geq', '≥');\n",
    "    text = text.replace('\\cdot', '⋅');\n",
    "    text = text.replace('\\dots', '⋯');\n",
    "    text = text.replace('_', '');\n",
    "    text = text.replace('{', '');\n",
    "    text = text.replace('}', '');\n",
    "    text = text.replace('\\frac', '');\n",
    "    text = text.replace('\\mathbb', '');\n",
    "    text = text.replace('\\\\times', '×');\n",
    "    text = text.replace('\\\\neq', '≠');\n",
    "    text = text.replace('\\\\ne', '≠');\n",
    "    text = text.replace('\\\\bmod', ' mod');\n",
    "    text = text.replace('  ', ' ');\n",
    "    text = text.replace(' , ', ',');\n",
    "    text = text.replace(', ', ',');\n",
    "    arr = text.split(' ')\n",
    "    for i,word in enumerate(arr):\n",
    "        if word[:5] == '\\\\frac':\n",
    "            arr[i] = word[5:]\n",
    "    text = ' '.join(arr)\n",
    "    return text"
   ]
  },
  {
   "cell_type": "code",
   "execution_count": 35,
   "metadata": {},
   "outputs": [
    {
     "data": {
      "text/plain": [
       "'Input\\n\\nThe first line contains a single integer 𝑛\\n(1≤𝑛≤500\\n\\n) — the number of numbers.\\n\\nEach of the next 𝑛\\nlines contains an integer 𝑎𝑖 (1≤𝑎𝑖≤2⋅1018). It is guaranteed that the number of divisors of each 𝑎𝑖 is between 3 and 5.'"
      ]
     },
     "execution_count": 35,
     "metadata": {},
     "output_type": "execute_result"
    }
   ],
   "source": [
    "'''Input\n",
    "\n",
    "The first line contains a single integer 𝑛\n",
    "(1≤𝑛≤500\n",
    "\n",
    ") — the number of numbers.\n",
    "\n",
    "Each of the next 𝑛\n",
    "lines contains an integer 𝑎𝑖 (1≤𝑎𝑖≤2⋅1018). It is guaranteed that the number of divisors of each 𝑎𝑖 is between 3 and 5.'''"
   ]
  },
  {
   "cell_type": "code",
   "execution_count": 38,
   "metadata": {},
   "outputs": [],
   "source": [
    "# problemStatement = problemStatement + iSpec"
   ]
  },
  {
   "cell_type": "code",
   "execution_count": 39,
   "metadata": {},
   "outputs": [
    {
     "name": "stdout",
     "output_type": "stream",
     "text": [
      "time limit per test\n",
      "1 second\n",
      "memory limit per test\n",
      "256 megabytes\n",
      "input\n",
      "standard input\n",
      "You are given n integers a_1,a_2,...,a_n. Each of a_i has between 3 and 5 divisors. Consider a = ∏ a_i — the product of all input integers. Find the number of divisors of a. As this number may be very large,print it modulo prime number 998244353.\n",
      "Input\n",
      "The first line contains a single integer n (1 ≤ n ≤ 500) — the number of numbers.Each of the next n lines contains an integer a_i (1 ≤ a_i ≤ 2⋅ 10^{18}). It is guaranteed that the number of divisors of each a_i is between 3 and 5.\n"
     ]
    }
   ],
   "source": [
    "# print(problemStatement)"
   ]
  },
  {
   "cell_type": "code",
   "execution_count": 40,
   "metadata": {},
   "outputs": [],
   "source": [
    "# outputSpecification = div.find('div',{'class':'output-specification'})"
   ]
  },
  {
   "cell_type": "code",
   "execution_count": 59,
   "metadata": {},
   "outputs": [],
   "source": [
    "# oSpec = outputSpecification.get_text(separator=\"\\n\")"
   ]
  },
  {
   "cell_type": "code",
   "execution_count": 48,
   "metadata": {},
   "outputs": [],
   "source": [
    "# oSpec = oSpec[:oSpec.find('Output')+6] + '\\n' + oSpec[oSpec.find('Output')+6:]"
   ]
  },
  {
   "cell_type": "code",
   "execution_count": 56,
   "metadata": {},
   "outputs": [],
   "source": [
    "# oSpec = oSpec[:oSpec.find('Hacks input')+11] + '\\n' + oSpec[oSpec.find('Hacks input')+11:]"
   ]
  },
  {
   "cell_type": "code",
   "execution_count": 61,
   "metadata": {},
   "outputs": [],
   "source": [
    "# oSpec = cleanText(oSpec)"
   ]
  },
  {
   "cell_type": "code",
   "execution_count": 62,
   "metadata": {},
   "outputs": [
    {
     "name": "stdout",
     "output_type": "stream",
     "text": [
      "Output\n",
      "Print a single integer d — the number of divisors of the product a_1 ⋅ a_2 ⋅ ⋯ ⋅ a_n modulo 998244353.\n",
      "Hacks input\n",
      "For hacks,the input needs to be provided in a special format.\n",
      "The first line contains an integer n (1 ≤ n ≤ 500) — the number of numbers.\n",
      "Each of the next n lines contains a prime factorization of a_i. The line contains an integer k_i (2 ≤ k_i ≤ 4) — the number of prime factors of a_i and k_i integers p_{i,j} (2 ≤ p_{i,j} ≤ 2 ⋅ 10^{18}) where p_{i,j} is the j-th prime factor of a_i. \n",
      "Before supplying the input to the contestant,a_i = ∏ p_{i,j} are calculated. Note that each p_{i,j} must be prime,each computed a_i must satisfy a_i ≤ 2⋅10^{18} and must have between 3 and 5 divisors. The contestant will be given only a_i,and not its prime factorization. \n",
      "For example,you need to use this test to get the first sample:\n",
      "3\n",
      "2 3 3\n",
      "2 3 5\n",
      "2 11 13\n"
     ]
    }
   ],
   "source": [
    "# print(oSpec)"
   ]
  },
  {
   "cell_type": "code",
   "execution_count": null,
   "metadata": {},
   "outputs": [],
   "source": [
    "'Print a single integer 𝑑 — the number of divisors of the product 𝑎1⋅𝑎2⋅⋯⋅𝑎𝑛 modulo 998244353.'"
   ]
  },
  {
   "cell_type": "code",
   "execution_count": null,
   "metadata": {},
   "outputs": [],
   "source": []
  },
  {
   "cell_type": "code",
   "execution_count": 16,
   "metadata": {},
   "outputs": [],
   "source": [
    "# elems = div.find_all()"
   ]
  },
  {
   "cell_type": "code",
   "execution_count": 27,
   "metadata": {},
   "outputs": [],
   "source": [
    "# import collections\n",
    "# de = collections.deque(elems)"
   ]
  },
  {
   "cell_type": "code",
   "execution_count": 28,
   "metadata": {},
   "outputs": [
    {
     "data": {
      "text/plain": [
       "97"
      ]
     },
     "execution_count": 28,
     "metadata": {},
     "output_type": "execute_result"
    }
   ],
   "source": [
    "# len(de)"
   ]
  },
  {
   "cell_type": "code",
   "execution_count": 32,
   "metadata": {},
   "outputs": [
    {
     "name": "stderr",
     "output_type": "stream",
     "text": [
      "/home/gaurav/anaconda3/lib/python3.6/site-packages/ipykernel_launcher.py:4: DeprecationWarning: `Tracer` is deprecated since version 5.1, directly use `IPython.core.debugger.Pdb.set_trace()`\n",
      "  after removing the cwd from sys.path.\n"
     ]
    },
    {
     "name": "stdout",
     "output_type": "stream",
     "text": [
      "> \u001b[0;32m<ipython-input-32-a02e6090246c>\u001b[0m(5)\u001b[0;36m<module>\u001b[0;34m()\u001b[0m\n",
      "\u001b[0;32m      3 \u001b[0;31m    \u001b[0melem\u001b[0m \u001b[0;34m=\u001b[0m \u001b[0mde\u001b[0m\u001b[0;34m.\u001b[0m\u001b[0mpopleft\u001b[0m\u001b[0;34m(\u001b[0m\u001b[0;34m)\u001b[0m\u001b[0;34m\u001b[0m\u001b[0m\n",
      "\u001b[0m\u001b[0;32m      4 \u001b[0;31m    \u001b[0mTracer\u001b[0m\u001b[0;34m(\u001b[0m\u001b[0;34m)\u001b[0m\u001b[0;34m(\u001b[0m\u001b[0;34m)\u001b[0m\u001b[0;34m\u001b[0m\u001b[0m\n",
      "\u001b[0m\u001b[0;32m----> 5 \u001b[0;31m    \u001b[0;32mif\u001b[0m \u001b[0mlen\u001b[0m\u001b[0;34m(\u001b[0m\u001b[0melem\u001b[0m\u001b[0;34m.\u001b[0m\u001b[0mfind_all\u001b[0m\u001b[0;34m(\u001b[0m\u001b[0;34m)\u001b[0m\u001b[0;34m)\u001b[0m \u001b[0;34m!=\u001b[0m \u001b[0;36m0\u001b[0m\u001b[0;34m:\u001b[0m\u001b[0;34m\u001b[0m\u001b[0m\n",
      "\u001b[0m\u001b[0;32m      6 \u001b[0;31m        \u001b[0mde\u001b[0m\u001b[0;34m.\u001b[0m\u001b[0mextendleft\u001b[0m\u001b[0;34m(\u001b[0m\u001b[0melem\u001b[0m\u001b[0;34m.\u001b[0m\u001b[0mfind_all\u001b[0m\u001b[0;34m(\u001b[0m\u001b[0;34m)\u001b[0m\u001b[0;34m)\u001b[0m\u001b[0;34m\u001b[0m\u001b[0m\n",
      "\u001b[0m\u001b[0;32m      7 \u001b[0;31m        \u001b[0;32mcontinue\u001b[0m\u001b[0;34m\u001b[0m\u001b[0m\n",
      "\u001b[0m\n",
      "<div class=\"time-limit\"><div class=\"property-title\">time limit per test</div>1 second</div>\n",
      "> \u001b[0;32m<ipython-input-32-a02e6090246c>\u001b[0m(6)\u001b[0;36m<module>\u001b[0;34m()\u001b[0m\n",
      "\u001b[0;32m      4 \u001b[0;31m    \u001b[0mTracer\u001b[0m\u001b[0;34m(\u001b[0m\u001b[0;34m)\u001b[0m\u001b[0;34m(\u001b[0m\u001b[0;34m)\u001b[0m\u001b[0;34m\u001b[0m\u001b[0m\n",
      "\u001b[0m\u001b[0;32m      5 \u001b[0;31m    \u001b[0;32mif\u001b[0m \u001b[0mlen\u001b[0m\u001b[0;34m(\u001b[0m\u001b[0melem\u001b[0m\u001b[0;34m.\u001b[0m\u001b[0mfind_all\u001b[0m\u001b[0;34m(\u001b[0m\u001b[0;34m)\u001b[0m\u001b[0;34m)\u001b[0m \u001b[0;34m!=\u001b[0m \u001b[0;36m0\u001b[0m\u001b[0;34m:\u001b[0m\u001b[0;34m\u001b[0m\u001b[0m\n",
      "\u001b[0m\u001b[0;32m----> 6 \u001b[0;31m        \u001b[0mde\u001b[0m\u001b[0;34m.\u001b[0m\u001b[0mextendleft\u001b[0m\u001b[0;34m(\u001b[0m\u001b[0melem\u001b[0m\u001b[0;34m.\u001b[0m\u001b[0mfind_all\u001b[0m\u001b[0;34m(\u001b[0m\u001b[0;34m)\u001b[0m\u001b[0;34m)\u001b[0m\u001b[0;34m\u001b[0m\u001b[0m\n",
      "\u001b[0m\u001b[0;32m      7 \u001b[0;31m        \u001b[0;32mcontinue\u001b[0m\u001b[0;34m\u001b[0m\u001b[0m\n",
      "\u001b[0m\u001b[0;32m      8 \u001b[0;31m    \u001b[0ms\u001b[0m \u001b[0;34m=\u001b[0m \u001b[0ms\u001b[0m \u001b[0;34m+\u001b[0m \u001b[0melem\u001b[0m\u001b[0;34m.\u001b[0m\u001b[0mtext\u001b[0m \u001b[0;34m+\u001b[0m \u001b[0;34m'\\n'\u001b[0m\u001b[0;34m\u001b[0m\u001b[0m\n",
      "\u001b[0m\n",
      "> \u001b[0;32m<ipython-input-32-a02e6090246c>\u001b[0m(7)\u001b[0;36m<module>\u001b[0;34m()\u001b[0m\n",
      "\u001b[0;32m      4 \u001b[0;31m    \u001b[0mTracer\u001b[0m\u001b[0;34m(\u001b[0m\u001b[0;34m)\u001b[0m\u001b[0;34m(\u001b[0m\u001b[0;34m)\u001b[0m\u001b[0;34m\u001b[0m\u001b[0m\n",
      "\u001b[0m\u001b[0;32m      5 \u001b[0;31m    \u001b[0;32mif\u001b[0m \u001b[0mlen\u001b[0m\u001b[0;34m(\u001b[0m\u001b[0melem\u001b[0m\u001b[0;34m.\u001b[0m\u001b[0mfind_all\u001b[0m\u001b[0;34m(\u001b[0m\u001b[0;34m)\u001b[0m\u001b[0;34m)\u001b[0m \u001b[0;34m!=\u001b[0m \u001b[0;36m0\u001b[0m\u001b[0;34m:\u001b[0m\u001b[0;34m\u001b[0m\u001b[0m\n",
      "\u001b[0m\u001b[0;32m      6 \u001b[0;31m        \u001b[0mde\u001b[0m\u001b[0;34m.\u001b[0m\u001b[0mextendleft\u001b[0m\u001b[0;34m(\u001b[0m\u001b[0melem\u001b[0m\u001b[0;34m.\u001b[0m\u001b[0mfind_all\u001b[0m\u001b[0;34m(\u001b[0m\u001b[0;34m)\u001b[0m\u001b[0;34m)\u001b[0m\u001b[0;34m\u001b[0m\u001b[0m\n",
      "\u001b[0m\u001b[0;32m----> 7 \u001b[0;31m        \u001b[0;32mcontinue\u001b[0m\u001b[0;34m\u001b[0m\u001b[0m\n",
      "\u001b[0m\u001b[0;32m      8 \u001b[0;31m    \u001b[0ms\u001b[0m \u001b[0;34m=\u001b[0m \u001b[0ms\u001b[0m \u001b[0;34m+\u001b[0m \u001b[0melem\u001b[0m\u001b[0;34m.\u001b[0m\u001b[0mtext\u001b[0m \u001b[0;34m+\u001b[0m \u001b[0;34m'\\n'\u001b[0m\u001b[0;34m\u001b[0m\u001b[0m\n",
      "\u001b[0m\n",
      "> \u001b[0;32m<ipython-input-32-a02e6090246c>\u001b[0m(2)\u001b[0;36m<module>\u001b[0;34m()\u001b[0m\n",
      "\u001b[0;32m      1 \u001b[0;31m\u001b[0ms\u001b[0m \u001b[0;34m=\u001b[0m \u001b[0;34m''\u001b[0m\u001b[0;34m\u001b[0m\u001b[0m\n",
      "\u001b[0m\u001b[0;32m----> 2 \u001b[0;31m\u001b[0;32mwhile\u001b[0m \u001b[0mlen\u001b[0m\u001b[0;34m(\u001b[0m\u001b[0mde\u001b[0m\u001b[0;34m)\u001b[0m \u001b[0;32mis\u001b[0m \u001b[0;32mnot\u001b[0m \u001b[0;36m0\u001b[0m\u001b[0;34m:\u001b[0m\u001b[0;34m\u001b[0m\u001b[0m\n",
      "\u001b[0m\u001b[0;32m      3 \u001b[0;31m    \u001b[0melem\u001b[0m \u001b[0;34m=\u001b[0m \u001b[0mde\u001b[0m\u001b[0;34m.\u001b[0m\u001b[0mpopleft\u001b[0m\u001b[0;34m(\u001b[0m\u001b[0;34m)\u001b[0m\u001b[0;34m\u001b[0m\u001b[0m\n",
      "\u001b[0m\u001b[0;32m      4 \u001b[0;31m    \u001b[0mTracer\u001b[0m\u001b[0;34m(\u001b[0m\u001b[0;34m)\u001b[0m\u001b[0;34m(\u001b[0m\u001b[0;34m)\u001b[0m\u001b[0;34m\u001b[0m\u001b[0m\n",
      "\u001b[0m\u001b[0;32m      5 \u001b[0;31m    \u001b[0;32mif\u001b[0m \u001b[0mlen\u001b[0m\u001b[0;34m(\u001b[0m\u001b[0melem\u001b[0m\u001b[0;34m.\u001b[0m\u001b[0mfind_all\u001b[0m\u001b[0;34m(\u001b[0m\u001b[0;34m)\u001b[0m\u001b[0;34m)\u001b[0m \u001b[0;34m!=\u001b[0m \u001b[0;36m0\u001b[0m\u001b[0;34m:\u001b[0m\u001b[0;34m\u001b[0m\u001b[0m\n",
      "\u001b[0m\n",
      "> \u001b[0;32m<ipython-input-32-a02e6090246c>\u001b[0m(3)\u001b[0;36m<module>\u001b[0;34m()\u001b[0m\n",
      "\u001b[0;32m      1 \u001b[0;31m\u001b[0ms\u001b[0m \u001b[0;34m=\u001b[0m \u001b[0;34m''\u001b[0m\u001b[0;34m\u001b[0m\u001b[0m\n",
      "\u001b[0m\u001b[0;32m      2 \u001b[0;31m\u001b[0;32mwhile\u001b[0m \u001b[0mlen\u001b[0m\u001b[0;34m(\u001b[0m\u001b[0mde\u001b[0m\u001b[0;34m)\u001b[0m \u001b[0;32mis\u001b[0m \u001b[0;32mnot\u001b[0m \u001b[0;36m0\u001b[0m\u001b[0;34m:\u001b[0m\u001b[0;34m\u001b[0m\u001b[0m\n",
      "\u001b[0m\u001b[0;32m----> 3 \u001b[0;31m    \u001b[0melem\u001b[0m \u001b[0;34m=\u001b[0m \u001b[0mde\u001b[0m\u001b[0;34m.\u001b[0m\u001b[0mpopleft\u001b[0m\u001b[0;34m(\u001b[0m\u001b[0;34m)\u001b[0m\u001b[0;34m\u001b[0m\u001b[0m\n",
      "\u001b[0m\u001b[0;32m      4 \u001b[0;31m    \u001b[0mTracer\u001b[0m\u001b[0;34m(\u001b[0m\u001b[0;34m)\u001b[0m\u001b[0;34m(\u001b[0m\u001b[0;34m)\u001b[0m\u001b[0;34m\u001b[0m\u001b[0m\n",
      "\u001b[0m\u001b[0;32m      5 \u001b[0;31m    \u001b[0;32mif\u001b[0m \u001b[0mlen\u001b[0m\u001b[0;34m(\u001b[0m\u001b[0melem\u001b[0m\u001b[0;34m.\u001b[0m\u001b[0mfind_all\u001b[0m\u001b[0;34m(\u001b[0m\u001b[0;34m)\u001b[0m\u001b[0;34m)\u001b[0m \u001b[0;34m!=\u001b[0m \u001b[0;36m0\u001b[0m\u001b[0;34m:\u001b[0m\u001b[0;34m\u001b[0m\u001b[0m\n",
      "\u001b[0m\n",
      "<div class=\"time-limit\"><div class=\"property-title\">time limit per test</div>1 second</div>\n",
      "<div class=\"time-limit\"><div class=\"property-title\">time limit per test</div>1 second</div>\n",
      "1\n",
      "deque([<div class=\"property-title\">time limit per test</div>, <div class=\"property-title\">time limit per test</div>, <div class=\"memory-limit\"><div class=\"property-title\">memory limit per test</div>256 megabytes</div>, <div class=\"property-title\">memory limit per test</div>, <div class=\"input-file\"><div class=\"property-title\">input</div>standard input</div>, <div class=\"property-title\">input</div>, <div class=\"output-file\"><div class=\"property-title\">output</div>standard output</div>, <div class=\"property-title\">output</div>, <div><p>You are given $$$n$$$ integers $$$a_1, a_2, \\ldots, a_n$$$. Each of $$$a_i$$$ has between $$$3$$$ and $$$5$$$ divisors. Consider $$$a = \\prod a_i$$$ — the product of all input integers. Find the number of divisors of $$$a$$$. As this number may be very large, print it modulo prime number $$$998244353$$$.</p></div>, <p>You are given $$$n$$$ integers $$$a_1, a_2, \\ldots, a_n$$$. Each of $$$a_i$$$ has between $$$3$$$ and $$$5$$$ divisors. Consider $$$a = \\prod a_i$$$ — the product of all input integers. Find the number of divisors of $$$a$$$. As this number may be very large, print it modulo prime number $$$998244353$$$.</p>, <div class=\"input-specification\"><div class=\"section-title\">Input</div><p>The first line contains a single integer $$$n$$$ ($$$1 \\leq n \\leq 500$$$) — the number of numbers.</p><p>Each of the next $$$n$$$ lines contains an integer $$$a_i$$$ ($$$1 \\leq a_i \\leq 2\\cdot 10^{18}$$$). It is guaranteed that the number of divisors of each $$$a_i$$$ is between $$$3$$$ and $$$5$$$.</p></div>, <div class=\"section-title\">Input</div>, <p>The first line contains a single integer $$$n$$$ ($$$1 \\leq n \\leq 500$$$) — the number of numbers.</p>, <p>Each of the next $$$n$$$ lines contains an integer $$$a_i$$$ ($$$1 \\leq a_i \\leq 2\\cdot 10^{18}$$$). It is guaranteed that the number of divisors of each $$$a_i$$$ is between $$$3$$$ and $$$5$$$.</p>, <div class=\"output-specification\"><div class=\"section-title\">Output</div><p>Print a single integer $$$d$$$ — the number of divisors of the product $$$a_1 \\cdot a_2 \\cdot \\dots \\cdot a_n$$$ modulo $$$998244353$$$.</p><p><span class=\"tex-font-style-bf\">Hacks input</span></p><p>For hacks, the input needs to be provided in a special format.</p><p>The first line contains an integer $$$n$$$ ($$$1 \\leq n \\leq 500$$$) — the number of numbers.</p><p>Each of the next $$$n$$$ lines contains a prime factorization of $$$a_i$$$. The line contains an integer $$$k_i$$$ ($$$2 \\leq k_i \\leq 4$$$) — the number of prime factors of $$$a_i$$$ and $$$k_i$$$ integers $$$p_{i,j}$$$ ($$$2 \\leq p_{i,j} \\leq 2 \\cdot 10^{18}$$$) where $$$p_{i,j}$$$ is the $$$j$$$-th prime factor of $$$a_i$$$. </p><p>Before supplying the input to the contestant, $$$a_i = \\prod p_{i,j}$$$ are calculated. Note that each $$$p_{i,j}$$$ must be prime, each computed $$$a_i$$$ must satisfy $$$a_i \\leq 2\\cdot10^{18}$$$ and must have between $$$3$$$ and $$$5$$$ divisors. The contestant will be given only $$$a_i$$$, and not its prime factorization. </p><p>For example, you need to use this test to get the first sample:</p><pre><br/>3<br/>2 3 3<br/>2 3 5<br/>2 11 13<br/></pre></div>, <div class=\"section-title\">Output</div>, <p>Print a single integer $$$d$$$ — the number of divisors of the product $$$a_1 \\cdot a_2 \\cdot \\dots \\cdot a_n$$$ modulo $$$998244353$$$.</p>, <p><span class=\"tex-font-style-bf\">Hacks input</span></p>, <span class=\"tex-font-style-bf\">Hacks input</span>, <p>For hacks, the input needs to be provided in a special format.</p>, <p>The first line contains an integer $$$n$$$ ($$$1 \\leq n \\leq 500$$$) — the number of numbers.</p>, <p>Each of the next $$$n$$$ lines contains a prime factorization of $$$a_i$$$. The line contains an integer $$$k_i$$$ ($$$2 \\leq k_i \\leq 4$$$) — the number of prime factors of $$$a_i$$$ and $$$k_i$$$ integers $$$p_{i,j}$$$ ($$$2 \\leq p_{i,j} \\leq 2 \\cdot 10^{18}$$$) where $$$p_{i,j}$$$ is the $$$j$$$-th prime factor of $$$a_i$$$. </p>, <p>Before supplying the input to the contestant, $$$a_i = \\prod p_{i,j}$$$ are calculated. Note that each $$$p_{i,j}$$$ must be prime, each computed $$$a_i$$$ must satisfy $$$a_i \\leq 2\\cdot10^{18}$$$ and must have between $$$3$$$ and $$$5$$$ divisors. The contestant will be given only $$$a_i$$$, and not its prime factorization. </p>, <p>For example, you need to use this test to get the first sample:</p>, <pre><br/>3<br/>2 3 3<br/>2 3 5<br/>2 11 13<br/></pre>, <br/>, <br/>, <br/>, <br/>, <br/>, <div><div class=\"section-title\">Interaction</div><p>From the technical side, this problem is interactive. Therefore, do not forget to output end of line and flush the output. Also, do not read more than you need. To flush the output, use:</p><ul><li> <span class=\"tex-font-style-tt\">fflush(stdout)</span> or <span class=\"tex-font-style-tt\">cout.flush()</span> in C++;</li><li> <span class=\"tex-font-style-tt\">System.out.flush()</span> in Java;</li><li> <span class=\"tex-font-style-tt\">flush(output)</span> in Pascal;</li><li> <span class=\"tex-font-style-tt\">stdout.flush()</span> in Python;</li><li> see documentation for other languages.</li></ul></div>, <div class=\"section-title\">Interaction</div>, <p>From the technical side, this problem is interactive. Therefore, do not forget to output end of line and flush the output. Also, do not read more than you need. To flush the output, use:</p>, <ul><li> <span class=\"tex-font-style-tt\">fflush(stdout)</span> or <span class=\"tex-font-style-tt\">cout.flush()</span> in C++;</li><li> <span class=\"tex-font-style-tt\">System.out.flush()</span> in Java;</li><li> <span class=\"tex-font-style-tt\">flush(output)</span> in Pascal;</li><li> <span class=\"tex-font-style-tt\">stdout.flush()</span> in Python;</li><li> see documentation for other languages.</li></ul>, <li> <span class=\"tex-font-style-tt\">fflush(stdout)</span> or <span class=\"tex-font-style-tt\">cout.flush()</span> in C++;</li>, <span class=\"tex-font-style-tt\">fflush(stdout)</span>, <span class=\"tex-font-style-tt\">cout.flush()</span>, <li> <span class=\"tex-font-style-tt\">System.out.flush()</span> in Java;</li>, <span class=\"tex-font-style-tt\">System.out.flush()</span>, <li> <span class=\"tex-font-style-tt\">flush(output)</span> in Pascal;</li>, <span class=\"tex-font-style-tt\">flush(output)</span>, <li> <span class=\"tex-font-style-tt\">stdout.flush()</span> in Python;</li>, <span class=\"tex-font-style-tt\">stdout.flush()</span>, <li> see documentation for other languages.</li>, <div class=\"sample-tests\"><div class=\"section-title\">Examples</div><div class=\"sample-test\"><div class=\"input\"><div class=\"title\">Input</div><pre>3<br/>9<br/>15<br/>143</pre></div><div class=\"output\"><div class=\"title\">Output</div><pre>32</pre></div><div class=\"input\"><div class=\"title\">Input</div><pre>1<br/>7400840699802997<br/></pre></div><div class=\"output\"><div class=\"title\">Output</div><pre>4</pre></div><div class=\"input\"><div class=\"title\">Input</div><pre>8 <br/>4606061759128693<br/>4606066102679989<br/>4606069767552943<br/>4606063116488033<br/>4606063930903637<br/>4606064745319241<br/>4606063930904021<br/>4606065559735517</pre></div><div class=\"output\"><div class=\"title\">Output</div><pre>1920</pre></div><div class=\"input\"><div class=\"title\">Input</div><pre>3<br/>4<br/>8<br/>16<br/></pre></div><div class=\"output\"><div class=\"title\">Output</div><pre>10<br/></pre></div></div></div>, <div class=\"section-title\">Examples</div>, <div class=\"sample-test\"><div class=\"input\"><div class=\"title\">Input</div><pre>3<br/>9<br/>15<br/>143</pre></div><div class=\"output\"><div class=\"title\">Output</div><pre>32</pre></div><div class=\"input\"><div class=\"title\">Input</div><pre>1<br/>7400840699802997<br/></pre></div><div class=\"output\"><div class=\"title\">Output</div><pre>4</pre></div><div class=\"input\"><div class=\"title\">Input</div><pre>8 <br/>4606061759128693<br/>4606066102679989<br/>4606069767552943<br/>4606063116488033<br/>4606063930903637<br/>4606064745319241<br/>4606063930904021<br/>4606065559735517</pre></div><div class=\"output\"><div class=\"title\">Output</div><pre>1920</pre></div><div class=\"input\"><div class=\"title\">Input</div><pre>3<br/>4<br/>8<br/>16<br/></pre></div><div class=\"output\"><div class=\"title\">Output</div><pre>10<br/></pre></div></div>, <div class=\"input\"><div class=\"title\">Input</div><pre>3<br/>9<br/>15<br/>143</pre></div>, <div class=\"title\">Input</div>, <pre>3<br/>9<br/>15<br/>143</pre>, <br/>, <br/>, <br/>, <div class=\"output\"><div class=\"title\">Output</div><pre>32</pre></div>, <div class=\"title\">Output</div>, <pre>32</pre>, <div class=\"input\"><div class=\"title\">Input</div><pre>1<br/>7400840699802997<br/></pre></div>, <div class=\"title\">Input</div>, <pre>1<br/>7400840699802997<br/></pre>, <br/>, <br/>, <div class=\"output\"><div class=\"title\">Output</div><pre>4</pre></div>, <div class=\"title\">Output</div>, <pre>4</pre>, <div class=\"input\"><div class=\"title\">Input</div><pre>8 <br/>4606061759128693<br/>4606066102679989<br/>4606069767552943<br/>4606063116488033<br/>4606063930903637<br/>4606064745319241<br/>4606063930904021<br/>4606065559735517</pre></div>, <div class=\"title\">Input</div>, <pre>8 <br/>4606061759128693<br/>4606066102679989<br/>4606069767552943<br/>4606063116488033<br/>4606063930903637<br/>4606064745319241<br/>4606063930904021<br/>4606065559735517</pre>, <br/>, <br/>, <br/>, <br/>, <br/>, <br/>, <br/>, <br/>, <div class=\"output\"><div class=\"title\">Output</div><pre>1920</pre></div>, <div class=\"title\">Output</div>, <pre>1920</pre>, <div class=\"input\"><div class=\"title\">Input</div><pre>3<br/>4<br/>8<br/>16<br/></pre></div>, <div class=\"title\">Input</div>, <pre>3<br/>4<br/>8<br/>16<br/></pre>, <br/>, <br/>, <br/>, <br/>, <div class=\"output\"><div class=\"title\">Output</div><pre>10<br/></pre></div>, <div class=\"title\">Output</div>, <pre>10<br/></pre>, <br/>, <div class=\"note\"><div class=\"section-title\">Note</div><p>In the first case, $$$a = 19305$$$. Its divisors are $$$1, 3, 5, 9, 11, 13, 15, 27, 33, 39, 45, 55, 65, 99, 117, 135, 143, 165, 195, 297, 351, 429, 495, 585, 715, 1287, 1485, 1755, 2145, 3861, 6435, 19305$$$ — a total of $$$32$$$.</p><p>In the second case, $$$a$$$ has four divisors: $$$1$$$, $$$86028121$$$, $$$86028157$$$, and $$$7400840699802997 $$$.</p><p>In the third case $$$a = 202600445671925364698739061629083877981962069703140268516570564888699 375209477214045102253766023072401557491054453690213483547$$$.</p><p>In the fourth case, $$$a=512=2^9$$$, so answer equals to $$$10$$$.</p></div>, <div class=\"section-title\">Note</div>, <p>In the first case, $$$a = 19305$$$. Its divisors are $$$1, 3, 5, 9, 11, 13, 15, 27, 33, 39, 45, 55, 65, 99, 117, 135, 143, 165, 195, 297, 351, 429, 495, 585, 715, 1287, 1485, 1755, 2145, 3861, 6435, 19305$$$ — a total of $$$32$$$.</p>, <p>In the second case, $$$a$$$ has four divisors: $$$1$$$, $$$86028121$$$, $$$86028157$$$, and $$$7400840699802997 $$$.</p>, <p>In the third case $$$a = 202600445671925364698739061629083877981962069703140268516570564888699 375209477214045102253766023072401557491054453690213483547$$$.</p>, <p>In the fourth case, $$$a=512=2^9$$$, so answer equals to $$$10$$$.</p>])\n",
      "Exiting Debugger.\n"
     ]
    }
   ],
   "source": [
    "# s = ''\n",
    "# while len(de) is not 0:\n",
    "#     elem = de.popleft()\n",
    "#     Tracer()()\n",
    "#     if len(elem.find_all()) != 0:\n",
    "#         de.extendleft(elem.find_all())\n",
    "#         continue\n",
    "#     s = s + elem.text + '\\n' "
   ]
  },
  {
   "cell_type": "code",
   "execution_count": null,
   "metadata": {},
   "outputs": [],
   "source": []
  },
  {
   "cell_type": "code",
   "execution_count": 25,
   "metadata": {},
   "outputs": [
    {
     "name": "stdout",
     "output_type": "stream",
     "text": [
      "Input\n",
      "The first line contains a single integer $$$n$$$ ($$$1 \\leq n \\leq 500$$$) — the number of numbers.\n",
      "Each of the next $$$n$$$ lines contains an integer $$$a_i$$$ ($$$1 \\leq a_i \\leq 2\\cdot 10^{18}$$$). It is guaranteed that the number of divisors of each $$$a_i$$$ is between $$$3$$$ and $$$5$$$.\n",
      "\n",
      "\n",
      "\n",
      "\n",
      "\n",
      "\n",
      "\n",
      "\n",
      "\n",
      "\n",
      "For example, you need to use this test to get the first sample:\n",
      "Before supplying the input to the contestant, $$$a_i = \\prod p_{i,j}$$$ are calculated. Note that each $$$p_{i,j}$$$ must be prime, each computed $$$a_i$$$ must satisfy $$$a_i \\leq 2\\cdot10^{18}$$$ and must have between $$$3$$$ and $$$5$$$ divisors. The contestant will be given only $$$a_i$$$, and not its prime factorization. \n",
      "Each of the next $$$n$$$ lines contains a prime factorization of $$$a_i$$$. The line contains an integer $$$k_i$$$ ($$$2 \\leq k_i \\leq 4$$$) — the number of prime factors of $$$a_i$$$ and $$$k_i$$$ integers $$$p_{i,j}$$$ ($$$2 \\leq p_{i,j} \\leq 2 \\cdot 10^{18}$$$) where $$$p_{i,j}$$$ is the $$$j$$$-th prime factor of $$$a_i$$$. \n",
      "The first line contains an integer $$$n$$$ ($$$1 \\leq n \\leq 500$$$) — the number of numbers.\n",
      "For hacks, the input needs to be provided in a special format.\n",
      "Hacks input\n",
      "Hacks input\n",
      "Print a single integer $$$d$$$ — the number of divisors of the product $$$a_1 \\cdot a_2 \\cdot \\dots \\cdot a_n$$$ modulo $$$998244353$$$.\n",
      "Output\n",
      "Output\n",
      "Print a single integer $$$d$$$ — the number of divisors of the product $$$a_1 \\cdot a_2 \\cdot \\dots \\cdot a_n$$$ modulo $$$998244353$$$.\n",
      "Hacks input\n",
      "Hacks input\n",
      "For hacks, the input needs to be provided in a special format.\n",
      "The first line contains an integer $$$n$$$ ($$$1 \\leq n \\leq 500$$$) — the number of numbers.\n",
      "Each of the next $$$n$$$ lines contains a prime factorization of $$$a_i$$$. The line contains an integer $$$k_i$$$ ($$$2 \\leq k_i \\leq 4$$$) — the number of prime factors of $$$a_i$$$ and $$$k_i$$$ integers $$$p_{i,j}$$$ ($$$2 \\leq p_{i,j} \\leq 2 \\cdot 10^{18}$$$) where $$$p_{i,j}$$$ is the $$$j$$$-th prime factor of $$$a_i$$$. \n",
      "Before supplying the input to the contestant, $$$a_i = \\prod p_{i,j}$$$ are calculated. Note that each $$$p_{i,j}$$$ must be prime, each computed $$$a_i$$$ must satisfy $$$a_i \\leq 2\\cdot10^{18}$$$ and must have between $$$3$$$ and $$$5$$$ divisors. The contestant will be given only $$$a_i$$$, and not its prime factorization. \n",
      "For example, you need to use this test to get the first sample:\n",
      "\n",
      "\n",
      "\n",
      "\n",
      "\n",
      "\n",
      "\n",
      "\n",
      "\n",
      "\n",
      " see documentation for other languages.\n",
      "stdout.flush()\n",
      "stdout.flush()\n",
      "flush(output)\n",
      "flush(output)\n",
      "System.out.flush()\n",
      "System.out.flush()\n",
      "cout.flush()\n",
      "fflush(stdout)\n",
      "cout.flush()\n",
      "fflush(stdout)\n",
      " see documentation for other languages.\n",
      "stdout.flush()\n",
      "stdout.flush()\n",
      "flush(output)\n",
      "flush(output)\n",
      "System.out.flush()\n",
      "System.out.flush()\n",
      "cout.flush()\n",
      "fflush(stdout)\n",
      "cout.flush()\n",
      "fflush(stdout)\n",
      "From the technical side, this problem is interactive. Therefore, do not forget to output end of line and flush the output. Also, do not read more than you need. To flush the output, use:\n",
      "Interaction\n",
      "Interaction\n",
      "From the technical side, this problem is interactive. Therefore, do not forget to output end of line and flush the output. Also, do not read more than you need. To flush the output, use:\n",
      " see documentation for other languages.\n",
      "stdout.flush()\n",
      "stdout.flush()\n",
      "flush(output)\n",
      "flush(output)\n",
      "System.out.flush()\n",
      "System.out.flush()\n",
      "cout.flush()\n",
      "fflush(stdout)\n",
      "cout.flush()\n",
      "fflush(stdout)\n",
      "cout.flush()\n",
      "fflush(stdout)\n",
      "fflush(stdout)\n",
      "cout.flush()\n",
      "System.out.flush()\n",
      "System.out.flush()\n",
      "flush(output)\n",
      "flush(output)\n",
      "stdout.flush()\n",
      "stdout.flush()\n",
      " see documentation for other languages.\n",
      "\n",
      "\n",
      "Output\n",
      "\n",
      "\n",
      "Output\n",
      "\n",
      "\n",
      "\n",
      "\n",
      "\n",
      "\n",
      "\n",
      "\n",
      "Input\n",
      "\n",
      "\n",
      "\n",
      "\n",
      "\n",
      "\n",
      "\n",
      "\n",
      "Input\n",
      "1920\n",
      "Output\n",
      "1920\n",
      "Output\n",
      "\n",
      "\n",
      "\n",
      "\n",
      "\n",
      "\n",
      "\n",
      "\n",
      "\n",
      "\n",
      "\n",
      "\n",
      "\n",
      "\n",
      "\n",
      "\n",
      "Input\n",
      "\n",
      "\n",
      "\n",
      "\n",
      "\n",
      "\n",
      "\n",
      "\n",
      "\n",
      "\n",
      "\n",
      "\n",
      "\n",
      "\n",
      "\n",
      "\n",
      "Input\n",
      "4\n",
      "Output\n",
      "4\n",
      "Output\n",
      "\n",
      "\n",
      "\n",
      "\n",
      "Input\n",
      "\n",
      "\n",
      "\n",
      "\n",
      "Input\n",
      "32\n",
      "Output\n",
      "32\n",
      "Output\n",
      "\n",
      "\n",
      "\n",
      "\n",
      "\n",
      "\n",
      "Input\n",
      "\n",
      "\n",
      "\n",
      "\n",
      "\n",
      "\n",
      "Input\n",
      "\n",
      "\n",
      "Output\n",
      "\n",
      "\n",
      "Output\n",
      "\n",
      "\n",
      "\n",
      "\n",
      "\n",
      "\n",
      "\n",
      "\n",
      "Input\n",
      "\n",
      "\n",
      "\n",
      "\n",
      "\n",
      "\n",
      "\n",
      "\n",
      "Input\n",
      "1920\n",
      "Output\n",
      "1920\n",
      "Output\n",
      "\n",
      "\n",
      "\n",
      "\n",
      "\n",
      "\n",
      "\n",
      "\n",
      "\n",
      "\n",
      "\n",
      "\n",
      "\n",
      "\n",
      "\n",
      "\n",
      "Input\n",
      "\n",
      "\n",
      "\n",
      "\n",
      "\n",
      "\n",
      "\n",
      "\n",
      "\n",
      "\n",
      "\n",
      "\n",
      "\n",
      "\n",
      "\n",
      "\n",
      "Input\n",
      "4\n",
      "Output\n",
      "4\n",
      "Output\n",
      "\n",
      "\n",
      "\n",
      "\n",
      "Input\n",
      "\n",
      "\n",
      "\n",
      "\n",
      "Input\n",
      "32\n",
      "Output\n",
      "32\n",
      "Output\n",
      "\n",
      "\n",
      "\n",
      "\n",
      "\n",
      "\n",
      "Input\n",
      "\n",
      "\n",
      "\n",
      "\n",
      "\n",
      "\n",
      "Input\n",
      "Examples\n",
      "Examples\n",
      "\n",
      "\n",
      "Output\n",
      "\n",
      "\n",
      "Output\n",
      "\n",
      "\n",
      "\n",
      "\n",
      "\n",
      "\n",
      "\n",
      "\n",
      "Input\n",
      "\n",
      "\n",
      "\n",
      "\n",
      "\n",
      "\n",
      "\n",
      "\n",
      "Input\n",
      "1920\n",
      "Output\n",
      "1920\n",
      "Output\n",
      "\n",
      "\n",
      "\n",
      "\n",
      "\n",
      "\n",
      "\n",
      "\n",
      "\n",
      "\n",
      "\n",
      "\n",
      "\n",
      "\n",
      "\n",
      "\n",
      "Input\n",
      "\n",
      "\n",
      "\n",
      "\n",
      "\n",
      "\n",
      "\n",
      "\n",
      "\n",
      "\n",
      "\n",
      "\n",
      "\n",
      "\n",
      "\n",
      "\n",
      "Input\n",
      "4\n",
      "Output\n",
      "4\n",
      "Output\n",
      "\n",
      "\n",
      "\n",
      "\n",
      "Input\n",
      "\n",
      "\n",
      "\n",
      "\n",
      "Input\n",
      "32\n",
      "Output\n",
      "32\n",
      "Output\n",
      "\n",
      "\n",
      "\n",
      "\n",
      "\n",
      "\n",
      "Input\n",
      "\n",
      "\n",
      "\n",
      "\n",
      "\n",
      "\n",
      "Input\n",
      "\n",
      "\n",
      "\n",
      "\n",
      "\n",
      "\n",
      "Input\n",
      "Input\n",
      "\n",
      "\n",
      "\n",
      "\n",
      "\n",
      "\n",
      "32\n",
      "Output\n",
      "Output\n",
      "32\n",
      "\n",
      "\n",
      "\n",
      "\n",
      "Input\n",
      "Input\n",
      "\n",
      "\n",
      "\n",
      "\n",
      "4\n",
      "Output\n",
      "Output\n",
      "4\n",
      "\n",
      "\n",
      "\n",
      "\n",
      "\n",
      "\n",
      "\n",
      "\n",
      "\n",
      "\n",
      "\n",
      "\n",
      "\n",
      "\n",
      "\n",
      "\n",
      "Input\n",
      "Input\n",
      "\n",
      "\n",
      "\n",
      "\n",
      "\n",
      "\n",
      "\n",
      "\n",
      "\n",
      "\n",
      "\n",
      "\n",
      "\n",
      "\n",
      "\n",
      "\n",
      "1920\n",
      "Output\n",
      "Output\n",
      "1920\n",
      "\n",
      "\n",
      "\n",
      "\n",
      "\n",
      "\n",
      "\n",
      "\n",
      "Input\n",
      "Input\n",
      "\n",
      "\n",
      "\n",
      "\n",
      "\n",
      "\n",
      "\n",
      "\n",
      "\n",
      "\n",
      "Output\n",
      "Output\n",
      "\n",
      "\n",
      "In the fourth case, $$$a=512=2^9$$$, so answer equals to $$$10$$$.\n",
      "In the third case $$$a = 202600445671925364698739061629083877981962069703140268516570564888699 375209477214045102253766023072401557491054453690213483547$$$.\n",
      "In the second case, $$$a$$$ has four divisors: $$$1$$$, $$$86028121$$$, $$$86028157$$$, and $$$7400840699802997 $$$.\n",
      "In the first case, $$$a = 19305$$$. Its divisors are $$$1, 3, 5, 9, 11, 13, 15, 27, 33, 39, 45, 55, 65, 99, 117, 135, 143, 165, 195, 297, 351, 429, 495, 585, 715, 1287, 1485, 1755, 2145, 3861, 6435, 19305$$$ — a total of $$$32$$$.\n",
      "Note\n",
      "Note\n",
      "In the first case, $$$a = 19305$$$. Its divisors are $$$1, 3, 5, 9, 11, 13, 15, 27, 33, 39, 45, 55, 65, 99, 117, 135, 143, 165, 195, 297, 351, 429, 495, 585, 715, 1287, 1485, 1755, 2145, 3861, 6435, 19305$$$ — a total of $$$32$$$.\n",
      "In the second case, $$$a$$$ has four divisors: $$$1$$$, $$$86028121$$$, $$$86028157$$$, and $$$7400840699802997 $$$.\n",
      "In the third case $$$a = 202600445671925364698739061629083877981962069703140268516570564888699 375209477214045102253766023072401557491054453690213483547$$$.\n",
      "In the fourth case, $$$a=512=2^9$$$, so answer equals to $$$10$$$.\n",
      "\n"
     ]
    }
   ],
   "source": [
    "# print(s)"
   ]
  },
  {
   "cell_type": "code",
   "execution_count": null,
   "metadata": {},
   "outputs": [],
   "source": []
  }
 ],
 "metadata": {
  "kernelspec": {
   "display_name": "Python 3",
   "language": "python",
   "name": "python3"
  },
  "language_info": {
   "codemirror_mode": {
    "name": "ipython",
    "version": 3
   },
   "file_extension": ".py",
   "mimetype": "text/x-python",
   "name": "python",
   "nbconvert_exporter": "python",
   "pygments_lexer": "ipython3",
   "version": "3.6.7"
  }
 },
 "nbformat": 4,
 "nbformat_minor": 2
}
